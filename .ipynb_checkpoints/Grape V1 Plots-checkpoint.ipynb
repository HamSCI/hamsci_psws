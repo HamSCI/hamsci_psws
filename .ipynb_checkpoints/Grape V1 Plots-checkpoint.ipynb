{
 "cells": [
  {
   "cell_type": "markdown",
   "metadata": {},
   "source": [
    "# Grape V1 Data Plots\n",
    "The purpose of this notebook is to provide a one-stop shop for plotting data from the prototype of the Grape 1 Low-Cost Personal Space Weather Station. It's used for two purposes: to generate climatology figures and to serve as an interactive data analysis system via Binder. (If you are using it in the latter form, note that Binder does not enable changes to the notebook to be saved - you must generate your own local copy.) \n",
    "\n",
    "#### Update history: \n",
    "This notebook was created by Kristina KD8OXT on 10 March 2022.\n",
    "\n",
    "#### CReDIT Acknowlegment\n",
    "John Gibbons N8OBJ for hardware design, Bob Benedict KD8CGH for multiplot utilities."
   ]
  },
  {
   "cell_type": "code",
   "execution_count": 24,
   "metadata": {},
   "outputs": [],
   "source": [
    "import pandas as pd\n",
    "import plotly.express as px\n",
    "import datetime\n",
    "# from datetime import time\n",
    "from datetime import date\n",
    "import time\n",
    "import pytz\n",
    "import numpy as np\n",
    "import seaborn as sns; sns.set_theme()\n",
    "import wget\n",
    "import os\n",
    "import matplotlib.pyplot as plt\n",
    "# import tqdm \n",
    "import sys  \n",
    "sys.path.insert(0, '/path/to/application/app/folder')\n",
    "from Beacon import readheader                                     # local .py file\n",
    "\n",
    "\n",
    "# multiplot utilities:\n",
    "from os import path\n",
    "import sys\n",
    "import csv\n",
    "import math\n",
    "#import shutil  # uncomment for pi\n",
    "#from datetime import date, timedelta  # uncomment for pi\n",
    "import numpy as np\n",
    "import matplotlib.pyplot as plt\n",
    "from scipy.signal import filtfilt, butter\n",
    "import datetime  \n",
    "from suntime import Sun\n",
    "#import subprocess\n",
    "from WWV_utility2 import time_string_to_decimals\n",
    "from Beacon import readheader\n",
    "\n",
    "import subprocess                                                    # streamline wget"
   ]
  },
  {
   "cell_type": "markdown",
   "metadata": {},
   "source": [
    "# Generate Data Overview\n",
    "The first step is to pull the list of filenames from the server maintained by the WWV Amateur Radio Club, WW0WWV. We will then generate a pandas dataframe from the filename list using the split() function. This will tell us the earliest and latest dates of data collection; we can use these as the bounds of our analysis, or substitute in a smaller set of bounds. We'll use this to create a Gantt chart showing station availability, and maybe keograms of our data over time. While we're at it, we can also generate two versions of a station map: one static, to put in our paper; and one dynamic, showing which stations were active at a given point in time. "
   ]
  },
  {
   "cell_type": "markdown",
   "metadata": {},
   "source": [
    "## Pull list of filenames from server"
   ]
  },
  {
   "cell_type": "code",
   "execution_count": 25,
   "metadata": {},
   "outputs": [
    {
     "data": {
      "text/html": [
       "<div>\n",
       "<style scoped>\n",
       "    .dataframe tbody tr th:only-of-type {\n",
       "        vertical-align: middle;\n",
       "    }\n",
       "\n",
       "    .dataframe tbody tr th {\n",
       "        vertical-align: top;\n",
       "    }\n",
       "\n",
       "    .dataframe thead th {\n",
       "        text-align: right;\n",
       "    }\n",
       "</style>\n",
       "<table border=\"1\" class=\"dataframe\">\n",
       "  <thead>\n",
       "    <tr style=\"text-align: right;\">\n",
       "      <th></th>\n",
       "      <th>0</th>\n",
       "    </tr>\n",
       "  </thead>\n",
       "  <tbody>\n",
       "    <tr>\n",
       "      <th>0</th>\n",
       "      <td>2019-05-24T000000Z_N0000001_G1_EN91fh_FRQ_WWV5...</td>\n",
       "    </tr>\n",
       "    <tr>\n",
       "      <th>1</th>\n",
       "      <td>2019-05-24T000000Z_N0000001_G1_EN91fh_WWV5_gra...</td>\n",
       "    </tr>\n",
       "    <tr>\n",
       "      <th>2</th>\n",
       "      <td>2019-05-25T000000Z_N0000001_G1_EN91fh_FRQ_WWV5...</td>\n",
       "    </tr>\n",
       "    <tr>\n",
       "      <th>3</th>\n",
       "      <td>2019-05-25T000000Z_N0000001_G1_EN91fh_WWV5_gra...</td>\n",
       "    </tr>\n",
       "    <tr>\n",
       "      <th>4</th>\n",
       "      <td>2019-05-26T000000Z_N0000001_G1_EN91fh_FRQ_WWV5...</td>\n",
       "    </tr>\n",
       "    <tr>\n",
       "      <th>...</th>\n",
       "      <td>...</td>\n",
       "    </tr>\n",
       "    <tr>\n",
       "      <th>15185</th>\n",
       "      <td>2022-05-05T000000Z_N0000041_G1_EN80ex_WWV10_gr...</td>\n",
       "    </tr>\n",
       "    <tr>\n",
       "      <th>15186</th>\n",
       "      <td>2022-05-05T000000Z_N0000042_G1_JO81na_FRQ_WWV1...</td>\n",
       "    </tr>\n",
       "    <tr>\n",
       "      <th>15187</th>\n",
       "      <td>2022-05-05T000000Z_N0000042_G1_JO81na_WWV10_gr...</td>\n",
       "    </tr>\n",
       "    <tr>\n",
       "      <th>15188</th>\n",
       "      <td>2022-05-05T000000Z_N00010_G1_EN91ii_FRQ_WWV10....</td>\n",
       "    </tr>\n",
       "    <tr>\n",
       "      <th>15189</th>\n",
       "      <td>2022-05-05T000000Z_N00010_G1_EN91ii_WWV10_grap...</td>\n",
       "    </tr>\n",
       "  </tbody>\n",
       "</table>\n",
       "<p>15190 rows × 1 columns</p>\n",
       "</div>"
      ],
      "text/plain": [
       "                                                       0\n",
       "0      2019-05-24T000000Z_N0000001_G1_EN91fh_FRQ_WWV5...\n",
       "1      2019-05-24T000000Z_N0000001_G1_EN91fh_WWV5_gra...\n",
       "2      2019-05-25T000000Z_N0000001_G1_EN91fh_FRQ_WWV5...\n",
       "3      2019-05-25T000000Z_N0000001_G1_EN91fh_WWV5_gra...\n",
       "4      2019-05-26T000000Z_N0000001_G1_EN91fh_FRQ_WWV5...\n",
       "...                                                  ...\n",
       "15185  2022-05-05T000000Z_N0000041_G1_EN80ex_WWV10_gr...\n",
       "15186  2022-05-05T000000Z_N0000042_G1_JO81na_FRQ_WWV1...\n",
       "15187  2022-05-05T000000Z_N0000042_G1_JO81na_WWV10_gr...\n",
       "15188  2022-05-05T000000Z_N00010_G1_EN91ii_FRQ_WWV10....\n",
       "15189  2022-05-05T000000Z_N00010_G1_EN91ii_WWV10_grap...\n",
       "\n",
       "[15190 rows x 1 columns]"
      ]
     },
     "execution_count": 25,
     "metadata": {},
     "output_type": "execute_result"
    }
   ],
   "source": [
    "# For now, we'll look at a list of filenames that was saved manually. \n",
    "f = open(\"filelist.txt\", \"r\")\n",
    "df = pd.DataFrame(f)\n",
    "# s = print(f.readline()) # read the next line of the list\n",
    "f.close\n",
    "df"
   ]
  },
  {
   "cell_type": "code",
   "execution_count": 26,
   "metadata": {},
   "outputs": [],
   "source": [
    "# import pycurl\n",
    "# username = \"kd8oxt\"\n",
    "# password = \"kE6z@&G@$4HnMNfK\"\n",
    "# # curl -u username:password https://wwvarc.org/node/37\n",
    "# # curl 'https://wwvarc.org/node/37'\n",
    "\n",
    "# import pycurl\n",
    "# import certifi\n",
    "# from io import BytesIO\n",
    "\n",
    "# buffer = BytesIO()\n",
    "# c = pycurl.Curl()\n",
    "# c.setopt(c.USERPWD, 'kd8oxt:kE6z@&G@$4HnMNfK') # this pw is deprecated\n",
    "# c.setopt(c.URL, 'https://wwvarc.org/node/37')\n",
    "# c.setopt(c.WRITEDATA, buffer)\n",
    "# c.setopt(c.CAINFO, certifi.where())\n",
    "# c.perform()\n",
    "# c.close()\n",
    "\n",
    "# body = buffer.getvalue()\n",
    "# # Body is a byte string.\n",
    "# # We have to know the encoding in order to print it to a text file\n",
    "# # such as standard output.\n",
    "# print(body)"
   ]
  },
  {
   "cell_type": "code",
   "execution_count": 27,
   "metadata": {},
   "outputs": [],
   "source": [
    "# import wget\n",
    "# url = \"https://wwvarc.org/node/37\"\n",
    "# # wget.download(url)\n",
    "# curl -v -u 'apiuser:apipwd https://wwvarc.org/node/37'\n",
    "# wget http://kd8oxt:kE6z@&G@$4HnMNfK@www.wwvarc.org/node/37"
   ]
  },
  {
   "cell_type": "code",
   "execution_count": 28,
   "metadata": {},
   "outputs": [
    {
     "data": {
      "text/html": [
       "<div>\n",
       "<style scoped>\n",
       "    .dataframe tbody tr th:only-of-type {\n",
       "        vertical-align: middle;\n",
       "    }\n",
       "\n",
       "    .dataframe tbody tr th {\n",
       "        vertical-align: top;\n",
       "    }\n",
       "\n",
       "    .dataframe thead th {\n",
       "        text-align: right;\n",
       "    }\n",
       "</style>\n",
       "<table border=\"1\" class=\"dataframe\">\n",
       "  <thead>\n",
       "    <tr style=\"text-align: right;\">\n",
       "      <th></th>\n",
       "      <th>Datetime</th>\n",
       "      <th>Node</th>\n",
       "      <th>G</th>\n",
       "      <th>Grid Square</th>\n",
       "      <th>Frequency</th>\n",
       "      <th>Filename</th>\n",
       "    </tr>\n",
       "  </thead>\n",
       "  <tbody>\n",
       "    <tr>\n",
       "      <th>0</th>\n",
       "      <td>2019-05-24 00:00:00+00:00</td>\n",
       "      <td>1</td>\n",
       "      <td>G1</td>\n",
       "      <td>EN91fh</td>\n",
       "      <td>WWV5</td>\n",
       "      <td>2019-05-24T000000Z_N0000001_G1_EN91fh_FRQ_WWV5...</td>\n",
       "    </tr>\n",
       "    <tr>\n",
       "      <th>2</th>\n",
       "      <td>2019-05-25 00:00:00+00:00</td>\n",
       "      <td>1</td>\n",
       "      <td>G1</td>\n",
       "      <td>EN91fh</td>\n",
       "      <td>WWV5</td>\n",
       "      <td>2019-05-25T000000Z_N0000001_G1_EN91fh_FRQ_WWV5...</td>\n",
       "    </tr>\n",
       "    <tr>\n",
       "      <th>4</th>\n",
       "      <td>2019-05-26 00:00:00+00:00</td>\n",
       "      <td>1</td>\n",
       "      <td>G1</td>\n",
       "      <td>EN91fh</td>\n",
       "      <td>WWV5</td>\n",
       "      <td>2019-05-26T000000Z_N0000001_G1_EN91fh_FRQ_WWV5...</td>\n",
       "    </tr>\n",
       "    <tr>\n",
       "      <th>6</th>\n",
       "      <td>2019-05-27 00:00:00+00:00</td>\n",
       "      <td>1</td>\n",
       "      <td>G1</td>\n",
       "      <td>EN91fh</td>\n",
       "      <td>WWV5</td>\n",
       "      <td>2019-05-27T000000Z_N0000001_G1_EN91fh_FRQ_WWV5...</td>\n",
       "    </tr>\n",
       "    <tr>\n",
       "      <th>8</th>\n",
       "      <td>2019-05-28 00:00:00+00:00</td>\n",
       "      <td>1</td>\n",
       "      <td>G1</td>\n",
       "      <td>EN91fh</td>\n",
       "      <td>WWV5</td>\n",
       "      <td>2019-05-28T000000Z_N0000001_G1_EN91fh_FRQ_WWV5...</td>\n",
       "    </tr>\n",
       "    <tr>\n",
       "      <th>...</th>\n",
       "      <td>...</td>\n",
       "      <td>...</td>\n",
       "      <td>...</td>\n",
       "      <td>...</td>\n",
       "      <td>...</td>\n",
       "      <td>...</td>\n",
       "    </tr>\n",
       "    <tr>\n",
       "      <th>15180</th>\n",
       "      <td>2022-05-05 00:00:00+00:00</td>\n",
       "      <td>39</td>\n",
       "      <td>G1</td>\n",
       "      <td>EM73ut</td>\n",
       "      <td>WWV10</td>\n",
       "      <td>2022-05-05T000000Z_N0000039_G1_EM73ut_FRQ_WWV1...</td>\n",
       "    </tr>\n",
       "    <tr>\n",
       "      <th>15182</th>\n",
       "      <td>2022-05-05 00:00:00+00:00</td>\n",
       "      <td>40</td>\n",
       "      <td>S1</td>\n",
       "      <td>EM38ww</td>\n",
       "      <td>WWV5</td>\n",
       "      <td>2022-05-05T000000Z_N0000040_S1_EM38ww_FRQ_WWV5...</td>\n",
       "    </tr>\n",
       "    <tr>\n",
       "      <th>15184</th>\n",
       "      <td>2022-05-05 00:00:00+00:00</td>\n",
       "      <td>41</td>\n",
       "      <td>G1</td>\n",
       "      <td>EN80ex</td>\n",
       "      <td>WWV10</td>\n",
       "      <td>2022-05-05T000000Z_N0000041_G1_EN80ex_FRQ_WWV1...</td>\n",
       "    </tr>\n",
       "    <tr>\n",
       "      <th>15186</th>\n",
       "      <td>2022-05-05 00:00:00+00:00</td>\n",
       "      <td>42</td>\n",
       "      <td>G1</td>\n",
       "      <td>JO81na</td>\n",
       "      <td>WWV10</td>\n",
       "      <td>2022-05-05T000000Z_N0000042_G1_JO81na_FRQ_WWV1...</td>\n",
       "    </tr>\n",
       "    <tr>\n",
       "      <th>15188</th>\n",
       "      <td>2022-05-05 00:00:00+00:00</td>\n",
       "      <td>10</td>\n",
       "      <td>G1</td>\n",
       "      <td>EN91ii</td>\n",
       "      <td>WWV10</td>\n",
       "      <td>2022-05-05T000000Z_N00010_G1_EN91ii_FRQ_WWV10....</td>\n",
       "    </tr>\n",
       "  </tbody>\n",
       "</table>\n",
       "<p>8212 rows × 6 columns</p>\n",
       "</div>"
      ],
      "text/plain": [
       "                       Datetime  Node   G Grid Square Frequency  \\\n",
       "0     2019-05-24 00:00:00+00:00     1  G1      EN91fh      WWV5   \n",
       "2     2019-05-25 00:00:00+00:00     1  G1      EN91fh      WWV5   \n",
       "4     2019-05-26 00:00:00+00:00     1  G1      EN91fh      WWV5   \n",
       "6     2019-05-27 00:00:00+00:00     1  G1      EN91fh      WWV5   \n",
       "8     2019-05-28 00:00:00+00:00     1  G1      EN91fh      WWV5   \n",
       "...                         ...   ...  ..         ...       ...   \n",
       "15180 2022-05-05 00:00:00+00:00    39  G1      EM73ut     WWV10   \n",
       "15182 2022-05-05 00:00:00+00:00    40  S1      EM38ww      WWV5   \n",
       "15184 2022-05-05 00:00:00+00:00    41  G1      EN80ex     WWV10   \n",
       "15186 2022-05-05 00:00:00+00:00    42  G1      JO81na     WWV10   \n",
       "15188 2022-05-05 00:00:00+00:00    10  G1      EN91ii     WWV10   \n",
       "\n",
       "                                                Filename  \n",
       "0      2019-05-24T000000Z_N0000001_G1_EN91fh_FRQ_WWV5...  \n",
       "2      2019-05-25T000000Z_N0000001_G1_EN91fh_FRQ_WWV5...  \n",
       "4      2019-05-26T000000Z_N0000001_G1_EN91fh_FRQ_WWV5...  \n",
       "6      2019-05-27T000000Z_N0000001_G1_EN91fh_FRQ_WWV5...  \n",
       "8      2019-05-28T000000Z_N0000001_G1_EN91fh_FRQ_WWV5...  \n",
       "...                                                  ...  \n",
       "15180  2022-05-05T000000Z_N0000039_G1_EM73ut_FRQ_WWV1...  \n",
       "15182  2022-05-05T000000Z_N0000040_S1_EM38ww_FRQ_WWV5...  \n",
       "15184  2022-05-05T000000Z_N0000041_G1_EN80ex_FRQ_WWV1...  \n",
       "15186  2022-05-05T000000Z_N0000042_G1_JO81na_FRQ_WWV1...  \n",
       "15188  2022-05-05T000000Z_N00010_G1_EN91ii_FRQ_WWV10....  \n",
       "\n",
       "[8212 rows x 6 columns]"
      ]
     },
     "execution_count": 28,
     "metadata": {},
     "output_type": "execute_result"
    }
   ],
   "source": [
    "# Eliminate .pngs from our file list:\n",
    "df = df[~df[0].str.contains('.png')]\n",
    "df.columns =['Filename']\n",
    "df2 = df['Filename'].str.split('_', expand=True)\n",
    "df2.columns =['Datetime', 'Node', 'G', 'Grid Square', 'FRQ', 'Frequency']\n",
    "df2 = df2.drop(columns=['FRQ']) # no information in this columnn\n",
    "# df2['Frequency'] = df2['Frequency'].map(lambda x: x.lstrip('.csv\\n')\n",
    "# df['Frequency'] = df['Frequency'].str.replace(r'.csv\\n', '')\n",
    "df2[\"Frequency\"] = df2[\"Frequency\"].str.replace(\".csv\\n\",\"\")\n",
    "df = pd.concat([df2, df], axis = 1) # concatenate dataframes horizontally\n",
    "df['Datetime']= pd.to_datetime(df['Datetime']) # cast to datetime\n",
    "# df['Datetime'][0] # checking data type\n",
    "df['Node'] =df['Node'].str.strip(\"N\")                 # Ditch the leading N on the node numbers\n",
    "df['Node'] = df['Node'].astype(str).astype(int)       # Cast node number to int\n",
    "df "
   ]
  },
  {
   "cell_type": "code",
   "execution_count": 29,
   "metadata": {},
   "outputs": [
    {
     "data": {
      "text/plain": [
       "<AxesSubplot:xlabel='Frequency'>"
      ]
     },
     "execution_count": 29,
     "metadata": {},
     "output_type": "execute_result"
    },
    {
     "data": {
      "image/png": "[encoded data removed]",
      "text/plain": [
       "<Figure size 432x288 with 1 Axes>"
      ]
     },
     "metadata": {},
     "output_type": "display_data"
    }
   ],
   "source": [
    "# We can generate bar graphs:\n",
    "# df.groupby(df[\"Datetime\"].dt.year).count().plot(kind=\"bar\")\n",
    "df.groupby(df[\"Frequency\"]).count().plot(kind=\"bar\")"
   ]
  },
  {
   "cell_type": "code",
   "execution_count": 30,
   "metadata": {
    "scrolled": true
   },
   "outputs": [
    {
     "data": {
      "application/vnd.plotly.v1+json": {
       "config": {
        "plotlyServerURL": "https://plot.ly"
       },
       "data": [
        {
         "alignmentgroup": "True",
         "base": [
          "2021-10-28T00:00:00+00:00",
          "2021-10-29T00:00:00+00:00"
         ],
         "hovertemplate": "Frequency=WWV5<br>Datetime=%{base}<br>EndTime=%{x}<br>Node=%{y}<extra></extra>",
         "legendgroup": "WWV5",
         "marker": {
          "color": "#636efa"
         },
         "name": "WWV5",
         "offsetgroup": "WWV5",
         "orientation": "h",
         "showlegend": true,
         "textposition": "auto",
         "type": "bar",
         "x": [
          86400000,
          86400000
         ],
         "xaxis": "x",
         "y": [
          1,
          1
         ],
         "yaxis": "y"
        },
        {
         "alignmentgroup": "True",
         "base": [
          "2021-10-28T00:00:00+00:00",
          "2021-10-28T00:00:00+00:00",
          "2021-10-29T00:00:00+00:00"
         ],
         "hovertemplate": "Frequency=WWV2p5<br>Datetime=%{base}<br>EndTime=%{x}<br>Node=%{y}<extra></extra>",
         "legendgroup": "WWV2p5",
         "marker": {
          "color": "#EF553B"
         },
         "name": "WWV2p5",
         "offsetgroup": "WWV2p5",
         "orientation": "h",
         "showlegend": true,
         "textposition": "auto",
         "type": "bar",
         "x": [
          86400000,
          86400000,
          86400000
         ],
         "xaxis": "x",
         "y": [
          2,
          3,
          3
         ],
         "yaxis": "y"
        },
        {
         "alignmentgroup": "True",
         "base": [
          "2021-10-28T00:00:00+00:00",
          "2021-10-29T00:00:00+00:00"
         ],
         "hovertemplate": "Frequency=CHU7<br>Datetime=%{base}<br>EndTime=%{x}<br>Node=%{y}<extra></extra>",
         "legendgroup": "CHU7",
         "marker": {
          "color": "#00cc96"
         },
         "name": "CHU7",
         "offsetgroup": "CHU7",
         "orientation": "h",
         "showlegend": true,
         "textposition": "auto",
         "type": "bar",
         "x": [
          86400000,
          86400000
         ],
         "xaxis": "x",
         "y": [
          4,
          4
         ],
         "yaxis": "y"
        },
        {
         "alignmentgroup": "True",
         "base": [
          "2021-10-28T00:00:00+00:00",
          "2021-10-28T00:00:00+00:00",
          "2021-10-28T00:00:00+00:00",
          "2021-10-28T00:00:00+00:00",
          "2021-10-28T00:00:00+00:00",
          "2021-10-28T00:00:00+00:00",
          "2021-10-28T00:00:00+00:00",
          "2021-10-28T00:00:00+00:00",
          "2021-10-28T00:00:00+00:00",
          "2021-10-28T00:12:06+00:00",
          "2021-10-29T00:00:00+00:00",
          "2021-10-29T00:00:00+00:00",
          "2021-10-29T00:00:00+00:00",
          "2021-10-29T00:00:00+00:00",
          "2021-10-29T00:00:00+00:00",
          "2021-10-29T00:00:00+00:00",
          "2021-10-29T00:00:00+00:00",
          "2021-10-29T00:00:00+00:00",
          "2021-10-29T00:00:00+00:00",
          "2021-10-29T00:00:00+00:00"
         ],
         "hovertemplate": "Frequency=WWV10<br>Datetime=%{base}<br>EndTime=%{x}<br>Node=%{y}<extra></extra>",
         "legendgroup": "WWV10",
         "marker": {
          "color": "#ab63fa"
         },
         "name": "WWV10",
         "offsetgroup": "WWV10",
         "orientation": "h",
         "showlegend": true,
         "textposition": "auto",
         "type": "bar",
         "x": [
          86400000,
          86400000,
          86400000,
          86400000,
          86400000,
          86400000,
          86400000,
          86400000,
          86400000,
          86400000,
          86400000,
          86400000,
          86400000,
          86400000,
          86400000,
          86400000,
          86400000,
          86400000,
          86400000,
          86400000
         ],
         "xaxis": "x",
         "y": [
          7,
          8,
          13,
          14,
          15,
          34,
          36,
          9,
          10,
          29,
          7,
          8,
          13,
          14,
          15,
          29,
          34,
          36,
          9,
          10
         ],
         "yaxis": "y"
        },
        {
         "alignmentgroup": "True",
         "base": [
          "2021-10-28T00:00:00+00:00",
          "2021-10-29T00:00:00+00:00"
         ],
         "hovertemplate": "Frequency=CHU14<br>Datetime=%{base}<br>EndTime=%{x}<br>Node=%{y}<extra></extra>",
         "legendgroup": "CHU14",
         "marker": {
          "color": "#FFA15A"
         },
         "name": "CHU14",
         "offsetgroup": "CHU14",
         "orientation": "h",
         "showlegend": true,
         "textposition": "auto",
         "type": "bar",
         "x": [
          86400000,
          86400000
         ],
         "xaxis": "x",
         "y": [
          35,
          35
         ],
         "yaxis": "y"
        }
       ],
       "layout": {
        "barmode": "overlay",
        "legend": {
         "title": {
          "text": "Frequency"
         },
         "tracegroupgap": 0
        },
        "margin": {
         "t": 60
        },
        "template": {
         "data": {
          "bar": [
           {
            "error_x": {
             "color": "#2a3f5f"
            },
            "error_y": {
             "color": "#2a3f5f"
            },
            "marker": {
             "line": {
              "color": "#E5ECF6",
              "width": 0.5
             }
            },
            "type": "bar"
           }
          ],
          "barpolar": [
           {
            "marker": {
             "line": {
              "color": "#E5ECF6",
              "width": 0.5
             }
            },
            "type": "barpolar"
           }
          ],
          "carpet": [
           {
            "aaxis": {
             "endlinecolor": "#2a3f5f",
             "gridcolor": "white",
             "linecolor": "white",
             "minorgridcolor": "white",
             "startlinecolor": "#2a3f5f"
            },
            "baxis": {
             "endlinecolor": "#2a3f5f",
             "gridcolor": "white",
             "linecolor": "white",
             "minorgridcolor": "white",
             "startlinecolor": "#2a3f5f"
            },
            "type": "carpet"
           }
          ],
          "choropleth": [
           {
            "colorbar": {
             "outlinewidth": 0,
             "ticks": ""
            },
            "type": "choropleth"
           }
          ],
          "contour": [
           {
            "colorbar": {
             "outlinewidth": 0,
             "ticks": ""
            },
            "colorscale": [
             [
              0,
              "#0d0887"
             ],
             [
              0.1111111111111111,
              "#46039f"
             ],
             [
              0.2222222222222222,
              "#7201a8"
             ],
             [
              0.3333333333333333,
              "#9c179e"
             ],
             [
              0.4444444444444444,
              "#bd3786"
             ],
             [
              0.5555555555555556,
              "#d8576b"
             ],
             [
              0.6666666666666666,
              "#ed7953"
             ],
             [
              0.7777777777777778,
              "#fb9f3a"
             ],
             [
              0.8888888888888888,
              "#fdca26"
             ],
             [
              1,
              "#f0f921"
             ]
            ],
            "type": "contour"
           }
          ],
          "contourcarpet": [
           {
            "colorbar": {
             "outlinewidth": 0,
             "ticks": ""
            },
            "type": "contourcarpet"
           }
          ],
          "heatmap": [
           {
            "colorbar": {
             "outlinewidth": 0,
             "ticks": ""
            },
            "colorscale": [
             [
              0,
              "#0d0887"
             ],
             [
              0.1111111111111111,
              "#46039f"
             ],
             [
              0.2222222222222222,
              "#7201a8"
             ],
             [
              0.3333333333333333,
              "#9c179e"
             ],
             [
              0.4444444444444444,
              "#bd3786"
             ],
             [
              0.5555555555555556,
              "#d8576b"
             ],
             [
              0.6666666666666666,
              "#ed7953"
             ],
             [
              0.7777777777777778,
              "#fb9f3a"
             ],
             [
              0.8888888888888888,
              "#fdca26"
             ],
             [
              1,
              "#f0f921"
             ]
            ],
            "type": "heatmap"
           }
          ],
          "heatmapgl": [
           {
            "colorbar": {
             "outlinewidth": 0,
             "ticks": ""
            },
            "colorscale": [
             [
              0,
              "#0d0887"
             ],
             [
              0.1111111111111111,
              "#46039f"
             ],
             [
              0.2222222222222222,
              "#7201a8"
             ],
             [
              0.3333333333333333,
              "#9c179e"
             ],
             [
              0.4444444444444444,
              "#bd3786"
             ],
             [
              0.5555555555555556,
              "#d8576b"
             ],
             [
              0.6666666666666666,
              "#ed7953"
             ],
             [
              0.7777777777777778,
              "#fb9f3a"
             ],
             [
              0.8888888888888888,
              "#fdca26"
             ],
             [
              1,
              "#f0f921"
             ]
            ],
            "type": "heatmapgl"
           }
          ],
          "histogram": [
           {
            "marker": {
             "colorbar": {
              "outlinewidth": 0,
              "ticks": ""
             }
            },
            "type": "histogram"
           }
          ],
          "histogram2d": [
           {
            "colorbar": {
             "outlinewidth": 0,
             "ticks": ""
            },
            "colorscale": [
             [
              0,
              "#0d0887"
             ],
             [
              0.1111111111111111,
              "#46039f"
             ],
             [
              0.2222222222222222,
              "#7201a8"
             ],
             [
              0.3333333333333333,
              "#9c179e"
             ],
             [
              0.4444444444444444,
              "#bd3786"
             ],
             [
              0.5555555555555556,
              "#d8576b"
             ],
             [
              0.6666666666666666,
              "#ed7953"
             ],
             [
              0.7777777777777778,
              "#fb9f3a"
             ],
             [
              0.8888888888888888,
              "#fdca26"
             ],
             [
              1,
              "#f0f921"
             ]
            ],
            "type": "histogram2d"
           }
          ],
          "histogram2dcontour": [
           {
            "colorbar": {
             "outlinewidth": 0,
             "ticks": ""
            },
            "colorscale": [
             [
              0,
              "#0d0887"
             ],
             [
              0.1111111111111111,
              "#46039f"
             ],
             [
              0.2222222222222222,
              "#7201a8"
             ],
             [
              0.3333333333333333,
              "#9c179e"
             ],
             [
              0.4444444444444444,
              "#bd3786"
             ],
             [
              0.5555555555555556,
              "#d8576b"
             ],
             [
              0.6666666666666666,
              "#ed7953"
             ],
             [
              0.7777777777777778,
              "#fb9f3a"
             ],
             [
              0.8888888888888888,
              "#fdca26"
             ],
             [
              1,
              "#f0f921"
             ]
            ],
            "type": "histogram2dcontour"
           }
          ],
          "mesh3d": [
           {
            "colorbar": {
             "outlinewidth": 0,
             "ticks": ""
            },
            "type": "mesh3d"
           }
          ],
          "parcoords": [
           {
            "line": {
             "colorbar": {
              "outlinewidth": 0,
              "ticks": ""
             }
            },
            "type": "parcoords"
           }
          ],
          "pie": [
           {
            "automargin": true,
            "type": "pie"
           }
          ],
          "scatter": [
           {
            "marker": {
             "colorbar": {
              "outlinewidth": 0,
              "ticks": ""
             }
            },
            "type": "scatter"
           }
          ],
          "scatter3d": [
           {
            "line": {
             "colorbar": {
              "outlinewidth": 0,
              "ticks": ""
             }
            },
            "marker": {
             "colorbar": {
              "outlinewidth": 0,
              "ticks": ""
             }
            },
            "type": "scatter3d"
           }
          ],
          "scattercarpet": [
           {
            "marker": {
             "colorbar": {
              "outlinewidth": 0,
              "ticks": ""
             }
            },
            "type": "scattercarpet"
           }
          ],
          "scattergeo": [
           {
            "marker": {
             "colorbar": {
              "outlinewidth": 0,
              "ticks": ""
             }
            },
            "type": "scattergeo"
           }
          ],
          "scattergl": [
           {
            "marker": {
             "colorbar": {
              "outlinewidth": 0,
              "ticks": ""
             }
            },
            "type": "scattergl"
           }
          ],
          "scattermapbox": [
           {
            "marker": {
             "colorbar": {
              "outlinewidth": 0,
              "ticks": ""
             }
            },
            "type": "scattermapbox"
           }
          ],
          "scatterpolar": [
           {
            "marker": {
             "colorbar": {
              "outlinewidth": 0,
              "ticks": ""
             }
            },
            "type": "scatterpolar"
           }
          ],
          "scatterpolargl": [
           {
            "marker": {
             "colorbar": {
              "outlinewidth": 0,
              "ticks": ""
             }
            },
            "type": "scatterpolargl"
           }
          ],
          "scatterternary": [
           {
            "marker": {
             "colorbar": {
              "outlinewidth": 0,
              "ticks": ""
             }
            },
            "type": "scatterternary"
           }
          ],
          "surface": [
           {
            "colorbar": {
             "outlinewidth": 0,
             "ticks": ""
            },
            "colorscale": [
             [
              0,
              "#0d0887"
             ],
             [
              0.1111111111111111,
              "#46039f"
             ],
             [
              0.2222222222222222,
              "#7201a8"
             ],
             [
              0.3333333333333333,
              "#9c179e"
             ],
             [
              0.4444444444444444,
              "#bd3786"
             ],
             [
              0.5555555555555556,
              "#d8576b"
             ],
             [
              0.6666666666666666,
              "#ed7953"
             ],
             [
              0.7777777777777778,
              "#fb9f3a"
             ],
             [
              0.8888888888888888,
              "#fdca26"
             ],
             [
              1,
              "#f0f921"
             ]
            ],
            "type": "surface"
           }
          ],
          "table": [
           {
            "cells": {
             "fill": {
              "color": "#EBF0F8"
             },
             "line": {
              "color": "white"
             }
            },
            "header": {
             "fill": {
              "color": "#C8D4E3"
             },
             "line": {
              "color": "white"
             }
            },
            "type": "table"
           }
          ]
         },
         "layout": {
          "annotationdefaults": {
           "arrowcolor": "#2a3f5f",
           "arrowhead": 0,
           "arrowwidth": 1
          },
          "coloraxis": {
           "colorbar": {
            "outlinewidth": 0,
            "ticks": ""
           }
          },
          "colorscale": {
           "diverging": [
            [
             0,
             "#8e0152"
            ],
            [
             0.1,
             "#c51b7d"
            ],
            [
             0.2,
             "#de77ae"
            ],
            [
             0.3,
             "#f1b6da"
            ],
            [
             0.4,
             "#fde0ef"
            ],
            [
             0.5,
             "#f7f7f7"
            ],
            [
             0.6,
             "#e6f5d0"
            ],
            [
             0.7,
             "#b8e186"
            ],
            [
             0.8,
             "#7fbc41"
            ],
            [
             0.9,
             "#4d9221"
            ],
            [
             1,
             "#276419"
            ]
           ],
           "sequential": [
            [
             0,
             "#0d0887"
            ],
            [
             0.1111111111111111,
             "#46039f"
            ],
            [
             0.2222222222222222,
             "#7201a8"
            ],
            [
             0.3333333333333333,
             "#9c179e"
            ],
            [
             0.4444444444444444,
             "#bd3786"
            ],
            [
             0.5555555555555556,
             "#d8576b"
            ],
            [
             0.6666666666666666,
             "#ed7953"
            ],
            [
             0.7777777777777778,
             "#fb9f3a"
            ],
            [
             0.8888888888888888,
             "#fdca26"
            ],
            [
             1,
             "#f0f921"
            ]
           ],
           "sequentialminus": [
            [
             0,
             "#0d0887"
            ],
            [
             0.1111111111111111,
             "#46039f"
            ],
            [
             0.2222222222222222,
             "#7201a8"
            ],
            [
             0.3333333333333333,
             "#9c179e"
            ],
            [
             0.4444444444444444,
             "#bd3786"
            ],
            [
             0.5555555555555556,
             "#d8576b"
            ],
            [
             0.6666666666666666,
             "#ed7953"
            ],
            [
             0.7777777777777778,
             "#fb9f3a"
            ],
            [
             0.8888888888888888,
             "#fdca26"
            ],
            [
             1,
             "#f0f921"
            ]
           ]
          },
          "colorway": [
           "#636efa",
           "#EF553B",
           "#00cc96",
           "#ab63fa",
           "#FFA15A",
           "#19d3f3",
           "#FF6692",
           "#B6E880",
           "#FF97FF",
           "#FECB52"
          ],
          "font": {
           "color": "#2a3f5f"
          },
          "geo": {
           "bgcolor": "white",
           "lakecolor": "white",
           "landcolor": "#E5ECF6",
           "showlakes": true,
           "showland": true,
           "subunitcolor": "white"
          },
          "hoverlabel": {
           "align": "left"
          },
          "hovermode": "closest",
          "mapbox": {
           "style": "light"
          },
          "paper_bgcolor": "white",
          "plot_bgcolor": "#E5ECF6",
          "polar": {
           "angularaxis": {
            "gridcolor": "white",
            "linecolor": "white",
            "ticks": ""
           },
           "bgcolor": "#E5ECF6",
           "radialaxis": {
            "gridcolor": "white",
            "linecolor": "white",
            "ticks": ""
           }
          },
          "scene": {
           "xaxis": {
            "backgroundcolor": "#E5ECF6",
            "gridcolor": "white",
            "gridwidth": 2,
            "linecolor": "white",
            "showbackground": true,
            "ticks": "",
            "zerolinecolor": "white"
           },
           "yaxis": {
            "backgroundcolor": "#E5ECF6",
            "gridcolor": "white",
            "gridwidth": 2,
            "linecolor": "white",
            "showbackground": true,
            "ticks": "",
            "zerolinecolor": "white"
           },
           "zaxis": {
            "backgroundcolor": "#E5ECF6",
            "gridcolor": "white",
            "gridwidth": 2,
            "linecolor": "white",
            "showbackground": true,
            "ticks": "",
            "zerolinecolor": "white"
           }
          },
          "shapedefaults": {
           "line": {
            "color": "#2a3f5f"
           }
          },
          "ternary": {
           "aaxis": {
            "gridcolor": "white",
            "linecolor": "white",
            "ticks": ""
           },
           "baxis": {
            "gridcolor": "white",
            "linecolor": "white",
            "ticks": ""
           },
           "bgcolor": "#E5ECF6",
           "caxis": {
            "gridcolor": "white",
            "linecolor": "white",
            "ticks": ""
           }
          },
          "title": {
           "x": 0.05
          },
          "xaxis": {
           "automargin": true,
           "gridcolor": "white",
           "linecolor": "white",
           "ticks": "",
           "title": {
            "standoff": 15
           },
           "zerolinecolor": "white",
           "zerolinewidth": 2
          },
          "yaxis": {
           "automargin": true,
           "gridcolor": "white",
           "linecolor": "white",
           "ticks": "",
           "title": {
            "standoff": 15
           },
           "zerolinecolor": "white",
           "zerolinewidth": 2
          }
         }
        },
        "xaxis": {
         "anchor": "y",
         "domain": [
          0,
          1
         ],
         "type": "date"
        },
        "yaxis": {
         "anchor": "x",
         "categoryarray": [
          42,
          41,
          40,
          39,
          38,
          36,
          35,
          34,
          33,
          30,
          29,
          24,
          22,
          16,
          15,
          14,
          13,
          10,
          9,
          8,
          7,
          6,
          4,
          3,
          2,
          1,
          0
         ],
         "categoryorder": "array",
         "domain": [
          0,
          1
         ],
         "title": {
          "text": "Node"
         },
         "type": "category"
        }
       }
      },
      "text/html": [
       "<div>                            <div id=\"d8a05283-c38d-450f-aaaf-215e53beb4e2\" class=\"plotly-graph-div\" style=\"height:525px; width:100%;\"></div>            <script type=\"text/javascript\">                require([\"plotly\"], function(Plotly) {                    window.PLOTLYENV=window.PLOTLYENV || {};                                    if (document.getElementById(\"d8a05283-c38d-450f-aaaf-215e53beb4e2\")) {                    Plotly.newPlot(                        \"d8a05283-c38d-450f-aaaf-215e53beb4e2\",                        [{\"alignmentgroup\": \"True\", \"base\": [\"2021-10-28T00:00:00+00:00\", \"2021-10-29T00:00:00+00:00\"], \"hovertemplate\": \"Frequency=WWV5<br>Datetime=%{base}<br>EndTime=%{x}<br>Node=%{y}<extra></extra>\", \"legendgroup\": \"WWV5\", \"marker\": {\"color\": \"#636efa\"}, \"name\": \"WWV5\", \"offsetgroup\": \"WWV5\", \"orientation\": \"h\", \"showlegend\": true, \"textposition\": \"auto\", \"type\": \"bar\", \"x\": [86400000.0, 86400000.0], \"xaxis\": \"x\", \"y\": [1, 1], \"yaxis\": \"y\"}, {\"alignmentgroup\": \"True\", \"base\": [\"2021-10-28T00:00:00+00:00\", \"2021-10-28T00:00:00+00:00\", \"2021-10-29T00:00:00+00:00\"], \"hovertemplate\": \"Frequency=WWV2p5<br>Datetime=%{base}<br>EndTime=%{x}<br>Node=%{y}<extra></extra>\", \"legendgroup\": \"WWV2p5\", \"marker\": {\"color\": \"#EF553B\"}, \"name\": \"WWV2p5\", \"offsetgroup\": \"WWV2p5\", \"orientation\": \"h\", \"showlegend\": true, \"textposition\": \"auto\", \"type\": \"bar\", \"x\": [86400000.0, 86400000.0, 86400000.0], \"xaxis\": \"x\", \"y\": [2, 3, 3], \"yaxis\": \"y\"}, {\"alignmentgroup\": \"True\", \"base\": [\"2021-10-28T00:00:00+00:00\", \"2021-10-29T00:00:00+00:00\"], \"hovertemplate\": \"Frequency=CHU7<br>Datetime=%{base}<br>EndTime=%{x}<br>Node=%{y}<extra></extra>\", \"legendgroup\": \"CHU7\", \"marker\": {\"color\": \"#00cc96\"}, \"name\": \"CHU7\", \"offsetgroup\": \"CHU7\", \"orientation\": \"h\", \"showlegend\": true, \"textposition\": \"auto\", \"type\": \"bar\", \"x\": [86400000.0, 86400000.0], \"xaxis\": \"x\", \"y\": [4, 4], \"yaxis\": \"y\"}, {\"alignmentgroup\": \"True\", \"base\": [\"2021-10-28T00:00:00+00:00\", \"2021-10-28T00:00:00+00:00\", \"2021-10-28T00:00:00+00:00\", \"2021-10-28T00:00:00+00:00\", \"2021-10-28T00:00:00+00:00\", \"2021-10-28T00:00:00+00:00\", \"2021-10-28T00:00:00+00:00\", \"2021-10-28T00:00:00+00:00\", \"2021-10-28T00:00:00+00:00\", \"2021-10-28T00:12:06+00:00\", \"2021-10-29T00:00:00+00:00\", \"2021-10-29T00:00:00+00:00\", \"2021-10-29T00:00:00+00:00\", \"2021-10-29T00:00:00+00:00\", \"2021-10-29T00:00:00+00:00\", \"2021-10-29T00:00:00+00:00\", \"2021-10-29T00:00:00+00:00\", \"2021-10-29T00:00:00+00:00\", \"2021-10-29T00:00:00+00:00\", \"2021-10-29T00:00:00+00:00\"], \"hovertemplate\": \"Frequency=WWV10<br>Datetime=%{base}<br>EndTime=%{x}<br>Node=%{y}<extra></extra>\", \"legendgroup\": \"WWV10\", \"marker\": {\"color\": \"#ab63fa\"}, \"name\": \"WWV10\", \"offsetgroup\": \"WWV10\", \"orientation\": \"h\", \"showlegend\": true, \"textposition\": \"auto\", \"type\": \"bar\", \"x\": [86400000.0, 86400000.0, 86400000.0, 86400000.0, 86400000.0, 86400000.0, 86400000.0, 86400000.0, 86400000.0, 86400000.0, 86400000.0, 86400000.0, 86400000.0, 86400000.0, 86400000.0, 86400000.0, 86400000.0, 86400000.0, 86400000.0, 86400000.0], \"xaxis\": \"x\", \"y\": [7, 8, 13, 14, 15, 34, 36, 9, 10, 29, 7, 8, 13, 14, 15, 29, 34, 36, 9, 10], \"yaxis\": \"y\"}, {\"alignmentgroup\": \"True\", \"base\": [\"2021-10-28T00:00:00+00:00\", \"2021-10-29T00:00:00+00:00\"], \"hovertemplate\": \"Frequency=CHU14<br>Datetime=%{base}<br>EndTime=%{x}<br>Node=%{y}<extra></extra>\", \"legendgroup\": \"CHU14\", \"marker\": {\"color\": \"#FFA15A\"}, \"name\": \"CHU14\", \"offsetgroup\": \"CHU14\", \"orientation\": \"h\", \"showlegend\": true, \"textposition\": \"auto\", \"type\": \"bar\", \"x\": [86400000.0, 86400000.0], \"xaxis\": \"x\", \"y\": [35, 35], \"yaxis\": \"y\"}],                        {\"barmode\": \"overlay\", \"legend\": {\"title\": {\"text\": \"Frequency\"}, \"tracegroupgap\": 0}, \"margin\": {\"t\": 60}, \"template\": {\"data\": {\"bar\": [{\"error_x\": {\"color\": \"#2a3f5f\"}, \"error_y\": {\"color\": \"#2a3f5f\"}, \"marker\": {\"line\": {\"color\": \"#E5ECF6\", \"width\": 0.5}}, \"type\": \"bar\"}], \"barpolar\": [{\"marker\": {\"line\": {\"color\": \"#E5ECF6\", \"width\": 0.5}}, \"type\": \"barpolar\"}], \"carpet\": [{\"aaxis\": {\"endlinecolor\": \"#2a3f5f\", \"gridcolor\": \"white\", \"linecolor\": \"white\", \"minorgridcolor\": \"white\", \"startlinecolor\": \"#2a3f5f\"}, \"baxis\": {\"endlinecolor\": \"#2a3f5f\", \"gridcolor\": \"white\", \"linecolor\": \"white\", \"minorgridcolor\": \"white\", \"startlinecolor\": \"#2a3f5f\"}, \"type\": \"carpet\"}], \"choropleth\": [{\"colorbar\": {\"outlinewidth\": 0, \"ticks\": \"\"}, \"type\": \"choropleth\"}], \"contour\": [{\"colorbar\": {\"outlinewidth\": 0, \"ticks\": \"\"}, \"colorscale\": [[0.0, \"#0d0887\"], [0.1111111111111111, \"#46039f\"], [0.2222222222222222, \"#7201a8\"], [0.3333333333333333, \"#9c179e\"], [0.4444444444444444, \"#bd3786\"], [0.5555555555555556, \"#d8576b\"], [0.6666666666666666, \"#ed7953\"], [0.7777777777777778, \"#fb9f3a\"], [0.8888888888888888, \"#fdca26\"], [1.0, \"#f0f921\"]], \"type\": \"contour\"}], \"contourcarpet\": [{\"colorbar\": {\"outlinewidth\": 0, \"ticks\": \"\"}, \"type\": \"contourcarpet\"}], \"heatmap\": [{\"colorbar\": {\"outlinewidth\": 0, \"ticks\": \"\"}, \"colorscale\": [[0.0, \"#0d0887\"], [0.1111111111111111, \"#46039f\"], [0.2222222222222222, \"#7201a8\"], [0.3333333333333333, \"#9c179e\"], [0.4444444444444444, \"#bd3786\"], [0.5555555555555556, \"#d8576b\"], [0.6666666666666666, \"#ed7953\"], [0.7777777777777778, \"#fb9f3a\"], [0.8888888888888888, \"#fdca26\"], [1.0, \"#f0f921\"]], \"type\": \"heatmap\"}], \"heatmapgl\": [{\"colorbar\": {\"outlinewidth\": 0, \"ticks\": \"\"}, \"colorscale\": [[0.0, \"#0d0887\"], [0.1111111111111111, \"#46039f\"], [0.2222222222222222, \"#7201a8\"], [0.3333333333333333, \"#9c179e\"], [0.4444444444444444, \"#bd3786\"], [0.5555555555555556, \"#d8576b\"], [0.6666666666666666, \"#ed7953\"], [0.7777777777777778, \"#fb9f3a\"], [0.8888888888888888, \"#fdca26\"], [1.0, \"#f0f921\"]], \"type\": \"heatmapgl\"}], \"histogram\": [{\"marker\": {\"colorbar\": {\"outlinewidth\": 0, \"ticks\": \"\"}}, \"type\": \"histogram\"}], \"histogram2d\": [{\"colorbar\": {\"outlinewidth\": 0, \"ticks\": \"\"}, \"colorscale\": [[0.0, \"#0d0887\"], [0.1111111111111111, \"#46039f\"], [0.2222222222222222, \"#7201a8\"], [0.3333333333333333, \"#9c179e\"], [0.4444444444444444, \"#bd3786\"], [0.5555555555555556, \"#d8576b\"], [0.6666666666666666, \"#ed7953\"], [0.7777777777777778, \"#fb9f3a\"], [0.8888888888888888, \"#fdca26\"], [1.0, \"#f0f921\"]], \"type\": \"histogram2d\"}], \"histogram2dcontour\": [{\"colorbar\": {\"outlinewidth\": 0, \"ticks\": \"\"}, \"colorscale\": [[0.0, \"#0d0887\"], [0.1111111111111111, \"#46039f\"], [0.2222222222222222, \"#7201a8\"], [0.3333333333333333, \"#9c179e\"], [0.4444444444444444, \"#bd3786\"], [0.5555555555555556, \"#d8576b\"], [0.6666666666666666, \"#ed7953\"], [0.7777777777777778, \"#fb9f3a\"], [0.8888888888888888, \"#fdca26\"], [1.0, \"#f0f921\"]], \"type\": \"histogram2dcontour\"}], \"mesh3d\": [{\"colorbar\": {\"outlinewidth\": 0, \"ticks\": \"\"}, \"type\": \"mesh3d\"}], \"parcoords\": [{\"line\": {\"colorbar\": {\"outlinewidth\": 0, \"ticks\": \"\"}}, \"type\": \"parcoords\"}], \"pie\": [{\"automargin\": true, \"type\": \"pie\"}], \"scatter\": [{\"marker\": {\"colorbar\": {\"outlinewidth\": 0, \"ticks\": \"\"}}, \"type\": \"scatter\"}], \"scatter3d\": [{\"line\": {\"colorbar\": {\"outlinewidth\": 0, \"ticks\": \"\"}}, \"marker\": {\"colorbar\": {\"outlinewidth\": 0, \"ticks\": \"\"}}, \"type\": \"scatter3d\"}], \"scattercarpet\": [{\"marker\": {\"colorbar\": {\"outlinewidth\": 0, \"ticks\": \"\"}}, \"type\": \"scattercarpet\"}], \"scattergeo\": [{\"marker\": {\"colorbar\": {\"outlinewidth\": 0, \"ticks\": \"\"}}, \"type\": \"scattergeo\"}], \"scattergl\": [{\"marker\": {\"colorbar\": {\"outlinewidth\": 0, \"ticks\": \"\"}}, \"type\": \"scattergl\"}], \"scattermapbox\": [{\"marker\": {\"colorbar\": {\"outlinewidth\": 0, \"ticks\": \"\"}}, \"type\": \"scattermapbox\"}], \"scatterpolar\": [{\"marker\": {\"colorbar\": {\"outlinewidth\": 0, \"ticks\": \"\"}}, \"type\": \"scatterpolar\"}], \"scatterpolargl\": [{\"marker\": {\"colorbar\": {\"outlinewidth\": 0, \"ticks\": \"\"}}, \"type\": \"scatterpolargl\"}], \"scatterternary\": [{\"marker\": {\"colorbar\": {\"outlinewidth\": 0, \"ticks\": \"\"}}, \"type\": \"scatterternary\"}], \"surface\": [{\"colorbar\": {\"outlinewidth\": 0, \"ticks\": \"\"}, \"colorscale\": [[0.0, \"#0d0887\"], [0.1111111111111111, \"#46039f\"], [0.2222222222222222, \"#7201a8\"], [0.3333333333333333, \"#9c179e\"], [0.4444444444444444, \"#bd3786\"], [0.5555555555555556, \"#d8576b\"], [0.6666666666666666, \"#ed7953\"], [0.7777777777777778, \"#fb9f3a\"], [0.8888888888888888, \"#fdca26\"], [1.0, \"#f0f921\"]], \"type\": \"surface\"}], \"table\": [{\"cells\": {\"fill\": {\"color\": \"#EBF0F8\"}, \"line\": {\"color\": \"white\"}}, \"header\": {\"fill\": {\"color\": \"#C8D4E3\"}, \"line\": {\"color\": \"white\"}}, \"type\": \"table\"}]}, \"layout\": {\"annotationdefaults\": {\"arrowcolor\": \"#2a3f5f\", \"arrowhead\": 0, \"arrowwidth\": 1}, \"coloraxis\": {\"colorbar\": {\"outlinewidth\": 0, \"ticks\": \"\"}}, \"colorscale\": {\"diverging\": [[0, \"#8e0152\"], [0.1, \"#c51b7d\"], [0.2, \"#de77ae\"], [0.3, \"#f1b6da\"], [0.4, \"#fde0ef\"], [0.5, \"#f7f7f7\"], [0.6, \"#e6f5d0\"], [0.7, \"#b8e186\"], [0.8, \"#7fbc41\"], [0.9, \"#4d9221\"], [1, \"#276419\"]], \"sequential\": [[0.0, \"#0d0887\"], [0.1111111111111111, \"#46039f\"], [0.2222222222222222, \"#7201a8\"], [0.3333333333333333, \"#9c179e\"], [0.4444444444444444, \"#bd3786\"], [0.5555555555555556, \"#d8576b\"], [0.6666666666666666, \"#ed7953\"], [0.7777777777777778, \"#fb9f3a\"], [0.8888888888888888, \"#fdca26\"], [1.0, \"#f0f921\"]], \"sequentialminus\": [[0.0, \"#0d0887\"], [0.1111111111111111, \"#46039f\"], [0.2222222222222222, \"#7201a8\"], [0.3333333333333333, \"#9c179e\"], [0.4444444444444444, \"#bd3786\"], [0.5555555555555556, \"#d8576b\"], [0.6666666666666666, \"#ed7953\"], [0.7777777777777778, \"#fb9f3a\"], [0.8888888888888888, \"#fdca26\"], [1.0, \"#f0f921\"]]}, \"colorway\": [\"#636efa\", \"#EF553B\", \"#00cc96\", \"#ab63fa\", \"#FFA15A\", \"#19d3f3\", \"#FF6692\", \"#B6E880\", \"#FF97FF\", \"#FECB52\"], \"font\": {\"color\": \"#2a3f5f\"}, \"geo\": {\"bgcolor\": \"white\", \"lakecolor\": \"white\", \"landcolor\": \"#E5ECF6\", \"showlakes\": true, \"showland\": true, \"subunitcolor\": \"white\"}, \"hoverlabel\": {\"align\": \"left\"}, \"hovermode\": \"closest\", \"mapbox\": {\"style\": \"light\"}, \"paper_bgcolor\": \"white\", \"plot_bgcolor\": \"#E5ECF6\", \"polar\": {\"angularaxis\": {\"gridcolor\": \"white\", \"linecolor\": \"white\", \"ticks\": \"\"}, \"bgcolor\": \"#E5ECF6\", \"radialaxis\": {\"gridcolor\": \"white\", \"linecolor\": \"white\", \"ticks\": \"\"}}, \"scene\": {\"xaxis\": {\"backgroundcolor\": \"#E5ECF6\", \"gridcolor\": \"white\", \"gridwidth\": 2, \"linecolor\": \"white\", \"showbackground\": true, \"ticks\": \"\", \"zerolinecolor\": \"white\"}, \"yaxis\": {\"backgroundcolor\": \"#E5ECF6\", \"gridcolor\": \"white\", \"gridwidth\": 2, \"linecolor\": \"white\", \"showbackground\": true, \"ticks\": \"\", \"zerolinecolor\": \"white\"}, \"zaxis\": {\"backgroundcolor\": \"#E5ECF6\", \"gridcolor\": \"white\", \"gridwidth\": 2, \"linecolor\": \"white\", \"showbackground\": true, \"ticks\": \"\", \"zerolinecolor\": \"white\"}}, \"shapedefaults\": {\"line\": {\"color\": \"#2a3f5f\"}}, \"ternary\": {\"aaxis\": {\"gridcolor\": \"white\", \"linecolor\": \"white\", \"ticks\": \"\"}, \"baxis\": {\"gridcolor\": \"white\", \"linecolor\": \"white\", \"ticks\": \"\"}, \"bgcolor\": \"#E5ECF6\", \"caxis\": {\"gridcolor\": \"white\", \"linecolor\": \"white\", \"ticks\": \"\"}}, \"title\": {\"x\": 0.05}, \"xaxis\": {\"automargin\": true, \"gridcolor\": \"white\", \"linecolor\": \"white\", \"ticks\": \"\", \"title\": {\"standoff\": 15}, \"zerolinecolor\": \"white\", \"zerolinewidth\": 2}, \"yaxis\": {\"automargin\": true, \"gridcolor\": \"white\", \"linecolor\": \"white\", \"ticks\": \"\", \"title\": {\"standoff\": 15}, \"zerolinecolor\": \"white\", \"zerolinewidth\": 2}}}, \"xaxis\": {\"anchor\": \"y\", \"domain\": [0.0, 1.0], \"type\": \"date\"}, \"yaxis\": {\"anchor\": \"x\", \"categoryarray\": [42, 41, 40, 39, 38, 36, 35, 34, 33, 30, 29, 24, 22, 16, 15, 14, 13, 10, 9, 8, 7, 6, 4, 3, 2, 1, 0], \"categoryorder\": \"array\", \"domain\": [0.0, 1.0], \"title\": {\"text\": \"Node\"}, \"type\": \"category\"}},                        {\"responsive\": true}                    ).then(function(){\n",
       "                            \n",
       "var gd = document.getElementById('d8a05283-c38d-450f-aaaf-215e53beb4e2');\n",
       "var x = new MutationObserver(function (mutations, observer) {{\n",
       "        var display = window.getComputedStyle(gd).display;\n",
       "        if (!display || display === 'none') {{\n",
       "            console.log([gd, 'removed!']);\n",
       "            Plotly.purge(gd);\n",
       "            observer.disconnect();\n",
       "        }}\n",
       "}});\n",
       "\n",
       "// Listen for the removal of the full notebook cells\n",
       "var notebookContainer = gd.closest('#notebook-container');\n",
       "if (notebookContainer) {{\n",
       "    x.observe(notebookContainer, {childList: true});\n",
       "}}\n",
       "\n",
       "// Listen for the clearing of the current output cell\n",
       "var outputEl = gd.closest('.output');\n",
       "if (outputEl) {{\n",
       "    x.observe(outputEl, {childList: true});\n",
       "}}\n",
       "\n",
       "                        })                };                });            </script>        </div>"
      ]
     },
     "metadata": {},
     "output_type": "display_data"
    }
   ],
   "source": [
    "# We can create a Gantt chart showing when different stations were active. \n",
    "gantt = df.copy()\n",
    "\n",
    "# # # Filter by day:\n",
    "sTime_tmp = datetime.datetime(2021,10,28, tzinfo = pytz.UTC)\n",
    "eTime_tmp = datetime.datetime(2021,10,29, tzinfo = pytz.UTC)\n",
    "# tf = gantt['Datetime'] >= sTime_tmp # true/false vector\n",
    "gantt = gantt[(gantt['Datetime'] >= sTime_tmp) & (gantt['Datetime'] <= eTime_tmp)].copy()\n",
    "# gantt = gantt[tf].copy()\n",
    "\n",
    "# List of logged nodes during the period of interest, for sorting:\n",
    "logged_nodes = df[\"Node\"].unique().tolist()\n",
    "logged_nodes.sort()\n",
    "\n",
    "gantt.set_index('Node')\n",
    "gantt = gantt.drop(columns=['G', 'Grid Square'])#, 'Filename'])\n",
    "gantt['EndTime'] = gantt['Datetime']+ datetime.timedelta(days=1) # create an end\n",
    "# For now, let's look at one frequency at a time.\n",
    "# rows = gantt['Frequency']=='WWV5' # can change this to look at a different freq of interest.\n",
    "# gantt = gantt.loc[gantt['Frequency'] == 'WWV2p5']\n",
    "\n",
    "gantt['Filename'].str.strip('FRQ_')\n",
    "\n",
    "# fig = px.timeline(gantt, x_start=\"Datetime\", x_end=\"EndTime\", y=\"Node\", color=\"Frequency\", text = \"Filename\", category_orders={\"Node\": logged_nodes})\n",
    "fig = px.timeline(gantt, x_start=\"Datetime\", x_end=\"EndTime\", y=\"Node\", color=\"Frequency\", category_orders={\"Node\": logged_nodes})\n",
    "# fig.update_yaxes(autorange=\"reversed\") # otherwise tasks are listed from the bottom up\n",
    "fig.update_yaxes(type='category')\n",
    "fig.update_annotations(text = \"Filename\", clicktoshow='on')\n",
    "# fig.update_layout(hovermode=\"x unified\")\n",
    "\n",
    "# for r in gantt.iterrows():\n",
    "#     fig.add_annotation(\n",
    "#         {\n",
    "#             \"x\": r[1][\"Datetime\"],\n",
    "#             \"y\": r[1][\"EndTime\"],\n",
    "#             \"text\": r[1][\"Filename\"],\n",
    "#         }\n",
    "#     )\n",
    "\n",
    "\n",
    "\n",
    "fig.show()\n",
    "fig.write_html(\"gantt.html\", include_plotlyjs=\"cdn\")"
   ]
  },
  {
   "cell_type": "code",
   "execution_count": 31,
   "metadata": {},
   "outputs": [
    {
     "data": {
      "text/html": [
       "<style  type=\"text/css\" >\n",
       "#T_2ed5faec_d343_11ec_bb33_803253ddc3dfrow4_col0,#T_2ed5faec_d343_11ec_bb33_803253ddc3dfrow4_col1,#T_2ed5faec_d343_11ec_bb33_803253ddc3dfrow4_col2,#T_2ed5faec_d343_11ec_bb33_803253ddc3dfrow4_col3,#T_2ed5faec_d343_11ec_bb33_803253ddc3dfrow4_col4,#T_2ed5faec_d343_11ec_bb33_803253ddc3dfrow4_col5,#T_2ed5faec_d343_11ec_bb33_803253ddc3dfrow4_col6,#T_2ed5faec_d343_11ec_bb33_803253ddc3dfrow4_col7,#T_2ed5faec_d343_11ec_bb33_803253ddc3dfrow4_col8,#T_2ed5faec_d343_11ec_bb33_803253ddc3dfrow4_col9,#T_2ed5faec_d343_11ec_bb33_803253ddc3dfrow4_col10,#T_2ed5faec_d343_11ec_bb33_803253ddc3dfrow4_col11,#T_2ed5faec_d343_11ec_bb33_803253ddc3dfrow4_col12,#T_2ed5faec_d343_11ec_bb33_803253ddc3dfrow4_col13,#T_2ed5faec_d343_11ec_bb33_803253ddc3dfrow10_col0,#T_2ed5faec_d343_11ec_bb33_803253ddc3dfrow10_col1,#T_2ed5faec_d343_11ec_bb33_803253ddc3dfrow10_col2,#T_2ed5faec_d343_11ec_bb33_803253ddc3dfrow10_col3,#T_2ed5faec_d343_11ec_bb33_803253ddc3dfrow10_col4,#T_2ed5faec_d343_11ec_bb33_803253ddc3dfrow10_col5,#T_2ed5faec_d343_11ec_bb33_803253ddc3dfrow10_col6,#T_2ed5faec_d343_11ec_bb33_803253ddc3dfrow10_col7,#T_2ed5faec_d343_11ec_bb33_803253ddc3dfrow10_col8,#T_2ed5faec_d343_11ec_bb33_803253ddc3dfrow10_col9,#T_2ed5faec_d343_11ec_bb33_803253ddc3dfrow10_col10,#T_2ed5faec_d343_11ec_bb33_803253ddc3dfrow10_col11,#T_2ed5faec_d343_11ec_bb33_803253ddc3dfrow10_col12,#T_2ed5faec_d343_11ec_bb33_803253ddc3dfrow10_col13,#T_2ed5faec_d343_11ec_bb33_803253ddc3dfrow11_col0,#T_2ed5faec_d343_11ec_bb33_803253ddc3dfrow11_col1,#T_2ed5faec_d343_11ec_bb33_803253ddc3dfrow11_col2,#T_2ed5faec_d343_11ec_bb33_803253ddc3dfrow11_col3,#T_2ed5faec_d343_11ec_bb33_803253ddc3dfrow11_col4,#T_2ed5faec_d343_11ec_bb33_803253ddc3dfrow11_col5,#T_2ed5faec_d343_11ec_bb33_803253ddc3dfrow11_col6,#T_2ed5faec_d343_11ec_bb33_803253ddc3dfrow11_col7,#T_2ed5faec_d343_11ec_bb33_803253ddc3dfrow11_col8,#T_2ed5faec_d343_11ec_bb33_803253ddc3dfrow11_col9,#T_2ed5faec_d343_11ec_bb33_803253ddc3dfrow11_col10,#T_2ed5faec_d343_11ec_bb33_803253ddc3dfrow11_col11,#T_2ed5faec_d343_11ec_bb33_803253ddc3dfrow11_col12,#T_2ed5faec_d343_11ec_bb33_803253ddc3dfrow11_col13,#T_2ed5faec_d343_11ec_bb33_803253ddc3dfrow16_col0,#T_2ed5faec_d343_11ec_bb33_803253ddc3dfrow16_col1,#T_2ed5faec_d343_11ec_bb33_803253ddc3dfrow16_col2,#T_2ed5faec_d343_11ec_bb33_803253ddc3dfrow16_col3,#T_2ed5faec_d343_11ec_bb33_803253ddc3dfrow16_col4,#T_2ed5faec_d343_11ec_bb33_803253ddc3dfrow16_col5,#T_2ed5faec_d343_11ec_bb33_803253ddc3dfrow16_col6,#T_2ed5faec_d343_11ec_bb33_803253ddc3dfrow16_col7,#T_2ed5faec_d343_11ec_bb33_803253ddc3dfrow16_col8,#T_2ed5faec_d343_11ec_bb33_803253ddc3dfrow16_col9,#T_2ed5faec_d343_11ec_bb33_803253ddc3dfrow16_col10,#T_2ed5faec_d343_11ec_bb33_803253ddc3dfrow16_col11,#T_2ed5faec_d343_11ec_bb33_803253ddc3dfrow16_col12,#T_2ed5faec_d343_11ec_bb33_803253ddc3dfrow16_col13,#T_2ed5faec_d343_11ec_bb33_803253ddc3dfrow17_col0,#T_2ed5faec_d343_11ec_bb33_803253ddc3dfrow17_col1,#T_2ed5faec_d343_11ec_bb33_803253ddc3dfrow17_col2,#T_2ed5faec_d343_11ec_bb33_803253ddc3dfrow17_col3,#T_2ed5faec_d343_11ec_bb33_803253ddc3dfrow17_col4,#T_2ed5faec_d343_11ec_bb33_803253ddc3dfrow17_col5,#T_2ed5faec_d343_11ec_bb33_803253ddc3dfrow17_col6,#T_2ed5faec_d343_11ec_bb33_803253ddc3dfrow17_col7,#T_2ed5faec_d343_11ec_bb33_803253ddc3dfrow17_col8,#T_2ed5faec_d343_11ec_bb33_803253ddc3dfrow17_col9,#T_2ed5faec_d343_11ec_bb33_803253ddc3dfrow17_col10,#T_2ed5faec_d343_11ec_bb33_803253ddc3dfrow17_col11,#T_2ed5faec_d343_11ec_bb33_803253ddc3dfrow17_col12,#T_2ed5faec_d343_11ec_bb33_803253ddc3dfrow17_col13,#T_2ed5faec_d343_11ec_bb33_803253ddc3dfrow18_col0,#T_2ed5faec_d343_11ec_bb33_803253ddc3dfrow18_col1,#T_2ed5faec_d343_11ec_bb33_803253ddc3dfrow18_col2,#T_2ed5faec_d343_11ec_bb33_803253ddc3dfrow18_col3,#T_2ed5faec_d343_11ec_bb33_803253ddc3dfrow18_col4,#T_2ed5faec_d343_11ec_bb33_803253ddc3dfrow18_col5,#T_2ed5faec_d343_11ec_bb33_803253ddc3dfrow18_col6,#T_2ed5faec_d343_11ec_bb33_803253ddc3dfrow18_col7,#T_2ed5faec_d343_11ec_bb33_803253ddc3dfrow18_col8,#T_2ed5faec_d343_11ec_bb33_803253ddc3dfrow18_col9,#T_2ed5faec_d343_11ec_bb33_803253ddc3dfrow18_col10,#T_2ed5faec_d343_11ec_bb33_803253ddc3dfrow18_col11,#T_2ed5faec_d343_11ec_bb33_803253ddc3dfrow18_col12,#T_2ed5faec_d343_11ec_bb33_803253ddc3dfrow18_col13,#T_2ed5faec_d343_11ec_bb33_803253ddc3dfrow19_col0,#T_2ed5faec_d343_11ec_bb33_803253ddc3dfrow19_col1,#T_2ed5faec_d343_11ec_bb33_803253ddc3dfrow19_col2,#T_2ed5faec_d343_11ec_bb33_803253ddc3dfrow19_col3,#T_2ed5faec_d343_11ec_bb33_803253ddc3dfrow19_col4,#T_2ed5faec_d343_11ec_bb33_803253ddc3dfrow19_col5,#T_2ed5faec_d343_11ec_bb33_803253ddc3dfrow19_col6,#T_2ed5faec_d343_11ec_bb33_803253ddc3dfrow19_col7,#T_2ed5faec_d343_11ec_bb33_803253ddc3dfrow19_col8,#T_2ed5faec_d343_11ec_bb33_803253ddc3dfrow19_col9,#T_2ed5faec_d343_11ec_bb33_803253ddc3dfrow19_col10,#T_2ed5faec_d343_11ec_bb33_803253ddc3dfrow19_col11,#T_2ed5faec_d343_11ec_bb33_803253ddc3dfrow19_col12,#T_2ed5faec_d343_11ec_bb33_803253ddc3dfrow19_col13,#T_2ed5faec_d343_11ec_bb33_803253ddc3dfrow20_col0,#T_2ed5faec_d343_11ec_bb33_803253ddc3dfrow20_col1,#T_2ed5faec_d343_11ec_bb33_803253ddc3dfrow20_col2,#T_2ed5faec_d343_11ec_bb33_803253ddc3dfrow20_col3,#T_2ed5faec_d343_11ec_bb33_803253ddc3dfrow20_col4,#T_2ed5faec_d343_11ec_bb33_803253ddc3dfrow20_col5,#T_2ed5faec_d343_11ec_bb33_803253ddc3dfrow20_col6,#T_2ed5faec_d343_11ec_bb33_803253ddc3dfrow20_col7,#T_2ed5faec_d343_11ec_bb33_803253ddc3dfrow20_col8,#T_2ed5faec_d343_11ec_bb33_803253ddc3dfrow20_col9,#T_2ed5faec_d343_11ec_bb33_803253ddc3dfrow20_col10,#T_2ed5faec_d343_11ec_bb33_803253ddc3dfrow20_col11,#T_2ed5faec_d343_11ec_bb33_803253ddc3dfrow20_col12,#T_2ed5faec_d343_11ec_bb33_803253ddc3dfrow20_col13,#T_2ed5faec_d343_11ec_bb33_803253ddc3dfrow22_col0,#T_2ed5faec_d343_11ec_bb33_803253ddc3dfrow22_col1,#T_2ed5faec_d343_11ec_bb33_803253ddc3dfrow22_col2,#T_2ed5faec_d343_11ec_bb33_803253ddc3dfrow22_col3,#T_2ed5faec_d343_11ec_bb33_803253ddc3dfrow22_col4,#T_2ed5faec_d343_11ec_bb33_803253ddc3dfrow22_col5,#T_2ed5faec_d343_11ec_bb33_803253ddc3dfrow22_col6,#T_2ed5faec_d343_11ec_bb33_803253ddc3dfrow22_col7,#T_2ed5faec_d343_11ec_bb33_803253ddc3dfrow22_col8,#T_2ed5faec_d343_11ec_bb33_803253ddc3dfrow22_col9,#T_2ed5faec_d343_11ec_bb33_803253ddc3dfrow22_col10,#T_2ed5faec_d343_11ec_bb33_803253ddc3dfrow22_col11,#T_2ed5faec_d343_11ec_bb33_803253ddc3dfrow22_col12,#T_2ed5faec_d343_11ec_bb33_803253ddc3dfrow22_col13,#T_2ed5faec_d343_11ec_bb33_803253ddc3dfrow24_col0,#T_2ed5faec_d343_11ec_bb33_803253ddc3dfrow24_col1,#T_2ed5faec_d343_11ec_bb33_803253ddc3dfrow24_col2,#T_2ed5faec_d343_11ec_bb33_803253ddc3dfrow24_col3,#T_2ed5faec_d343_11ec_bb33_803253ddc3dfrow24_col4,#T_2ed5faec_d343_11ec_bb33_803253ddc3dfrow24_col5,#T_2ed5faec_d343_11ec_bb33_803253ddc3dfrow24_col6,#T_2ed5faec_d343_11ec_bb33_803253ddc3dfrow24_col7,#T_2ed5faec_d343_11ec_bb33_803253ddc3dfrow24_col8,#T_2ed5faec_d343_11ec_bb33_803253ddc3dfrow24_col9,#T_2ed5faec_d343_11ec_bb33_803253ddc3dfrow24_col10,#T_2ed5faec_d343_11ec_bb33_803253ddc3dfrow24_col11,#T_2ed5faec_d343_11ec_bb33_803253ddc3dfrow24_col12,#T_2ed5faec_d343_11ec_bb33_803253ddc3dfrow24_col13,#T_2ed5faec_d343_11ec_bb33_803253ddc3dfrow25_col0,#T_2ed5faec_d343_11ec_bb33_803253ddc3dfrow25_col1,#T_2ed5faec_d343_11ec_bb33_803253ddc3dfrow25_col2,#T_2ed5faec_d343_11ec_bb33_803253ddc3dfrow25_col3,#T_2ed5faec_d343_11ec_bb33_803253ddc3dfrow25_col4,#T_2ed5faec_d343_11ec_bb33_803253ddc3dfrow25_col5,#T_2ed5faec_d343_11ec_bb33_803253ddc3dfrow25_col6,#T_2ed5faec_d343_11ec_bb33_803253ddc3dfrow25_col7,#T_2ed5faec_d343_11ec_bb33_803253ddc3dfrow25_col8,#T_2ed5faec_d343_11ec_bb33_803253ddc3dfrow25_col9,#T_2ed5faec_d343_11ec_bb33_803253ddc3dfrow25_col10,#T_2ed5faec_d343_11ec_bb33_803253ddc3dfrow25_col11,#T_2ed5faec_d343_11ec_bb33_803253ddc3dfrow25_col12,#T_2ed5faec_d343_11ec_bb33_803253ddc3dfrow25_col13,#T_2ed5faec_d343_11ec_bb33_803253ddc3dfrow26_col0,#T_2ed5faec_d343_11ec_bb33_803253ddc3dfrow26_col1,#T_2ed5faec_d343_11ec_bb33_803253ddc3dfrow26_col2,#T_2ed5faec_d343_11ec_bb33_803253ddc3dfrow26_col3,#T_2ed5faec_d343_11ec_bb33_803253ddc3dfrow26_col4,#T_2ed5faec_d343_11ec_bb33_803253ddc3dfrow26_col5,#T_2ed5faec_d343_11ec_bb33_803253ddc3dfrow26_col6,#T_2ed5faec_d343_11ec_bb33_803253ddc3dfrow26_col7,#T_2ed5faec_d343_11ec_bb33_803253ddc3dfrow26_col8,#T_2ed5faec_d343_11ec_bb33_803253ddc3dfrow26_col9,#T_2ed5faec_d343_11ec_bb33_803253ddc3dfrow26_col10,#T_2ed5faec_d343_11ec_bb33_803253ddc3dfrow26_col11,#T_2ed5faec_d343_11ec_bb33_803253ddc3dfrow26_col12,#T_2ed5faec_d343_11ec_bb33_803253ddc3dfrow26_col13,#T_2ed5faec_d343_11ec_bb33_803253ddc3dfrow27_col0,#T_2ed5faec_d343_11ec_bb33_803253ddc3dfrow27_col1,#T_2ed5faec_d343_11ec_bb33_803253ddc3dfrow27_col2,#T_2ed5faec_d343_11ec_bb33_803253ddc3dfrow27_col3,#T_2ed5faec_d343_11ec_bb33_803253ddc3dfrow27_col4,#T_2ed5faec_d343_11ec_bb33_803253ddc3dfrow27_col5,#T_2ed5faec_d343_11ec_bb33_803253ddc3dfrow27_col6,#T_2ed5faec_d343_11ec_bb33_803253ddc3dfrow27_col7,#T_2ed5faec_d343_11ec_bb33_803253ddc3dfrow27_col8,#T_2ed5faec_d343_11ec_bb33_803253ddc3dfrow27_col9,#T_2ed5faec_d343_11ec_bb33_803253ddc3dfrow27_col10,#T_2ed5faec_d343_11ec_bb33_803253ddc3dfrow27_col11,#T_2ed5faec_d343_11ec_bb33_803253ddc3dfrow27_col12,#T_2ed5faec_d343_11ec_bb33_803253ddc3dfrow27_col13,#T_2ed5faec_d343_11ec_bb33_803253ddc3dfrow30_col0,#T_2ed5faec_d343_11ec_bb33_803253ddc3dfrow30_col1,#T_2ed5faec_d343_11ec_bb33_803253ddc3dfrow30_col2,#T_2ed5faec_d343_11ec_bb33_803253ddc3dfrow30_col3,#T_2ed5faec_d343_11ec_bb33_803253ddc3dfrow30_col4,#T_2ed5faec_d343_11ec_bb33_803253ddc3dfrow30_col5,#T_2ed5faec_d343_11ec_bb33_803253ddc3dfrow30_col6,#T_2ed5faec_d343_11ec_bb33_803253ddc3dfrow30_col7,#T_2ed5faec_d343_11ec_bb33_803253ddc3dfrow30_col8,#T_2ed5faec_d343_11ec_bb33_803253ddc3dfrow30_col9,#T_2ed5faec_d343_11ec_bb33_803253ddc3dfrow30_col10,#T_2ed5faec_d343_11ec_bb33_803253ddc3dfrow30_col11,#T_2ed5faec_d343_11ec_bb33_803253ddc3dfrow30_col12,#T_2ed5faec_d343_11ec_bb33_803253ddc3dfrow30_col13,#T_2ed5faec_d343_11ec_bb33_803253ddc3dfrow31_col0,#T_2ed5faec_d343_11ec_bb33_803253ddc3dfrow31_col1,#T_2ed5faec_d343_11ec_bb33_803253ddc3dfrow31_col2,#T_2ed5faec_d343_11ec_bb33_803253ddc3dfrow31_col3,#T_2ed5faec_d343_11ec_bb33_803253ddc3dfrow31_col4,#T_2ed5faec_d343_11ec_bb33_803253ddc3dfrow31_col5,#T_2ed5faec_d343_11ec_bb33_803253ddc3dfrow31_col6,#T_2ed5faec_d343_11ec_bb33_803253ddc3dfrow31_col7,#T_2ed5faec_d343_11ec_bb33_803253ddc3dfrow31_col8,#T_2ed5faec_d343_11ec_bb33_803253ddc3dfrow31_col9,#T_2ed5faec_d343_11ec_bb33_803253ddc3dfrow31_col10,#T_2ed5faec_d343_11ec_bb33_803253ddc3dfrow31_col11,#T_2ed5faec_d343_11ec_bb33_803253ddc3dfrow31_col12,#T_2ed5faec_d343_11ec_bb33_803253ddc3dfrow31_col13,#T_2ed5faec_d343_11ec_bb33_803253ddc3dfrow36_col0,#T_2ed5faec_d343_11ec_bb33_803253ddc3dfrow36_col1,#T_2ed5faec_d343_11ec_bb33_803253ddc3dfrow36_col2,#T_2ed5faec_d343_11ec_bb33_803253ddc3dfrow36_col3,#T_2ed5faec_d343_11ec_bb33_803253ddc3dfrow36_col4,#T_2ed5faec_d343_11ec_bb33_803253ddc3dfrow36_col5,#T_2ed5faec_d343_11ec_bb33_803253ddc3dfrow36_col6,#T_2ed5faec_d343_11ec_bb33_803253ddc3dfrow36_col7,#T_2ed5faec_d343_11ec_bb33_803253ddc3dfrow36_col8,#T_2ed5faec_d343_11ec_bb33_803253ddc3dfrow36_col9,#T_2ed5faec_d343_11ec_bb33_803253ddc3dfrow36_col10,#T_2ed5faec_d343_11ec_bb33_803253ddc3dfrow36_col11,#T_2ed5faec_d343_11ec_bb33_803253ddc3dfrow36_col12,#T_2ed5faec_d343_11ec_bb33_803253ddc3dfrow36_col13{\n",
       "            background-color:  pink;\n",
       "        }</style><table id=\"T_2ed5faec_d343_11ec_bb33_803253ddc3df\" ><thead>    <tr>        <th class=\"blank level0\" ></th>        <th class=\"col_heading level0 col0\" >Node_Number</th>        <th class=\"col_heading level0 col1\" >Callsign</th>        <th class=\"col_heading level0 col2\" >Name</th>        <th class=\"col_heading level0 col3\" >Grid Square</th>        <th class=\"col_heading level0 col4\" >Latitude</th>        <th class=\"col_heading level0 col5\" >Longitude</th>        <th class=\"col_heading level0 col6\" >Elevation (M)</th>        <th class=\"col_heading level0 col7\" >Radio</th>        <th class=\"col_heading level0 col8\" >Antenna</th>        <th class=\"col_heading level0 col9\" >System</th>        <th class=\"col_heading level0 col10\" >Magnetometer</th>        <th class=\"col_heading level0 col11\" >Temperature Sensor</th>        <th class=\"col_heading level0 col12\" >Unnamed: 12</th>        <th class=\"col_heading level0 col13\" >Status</th>    </tr></thead><tbody>\n",
       "                <tr>\n",
       "                        <th id=\"T_2ed5faec_d343_11ec_bb33_803253ddc3dflevel0_row0\" class=\"row_heading level0 row0\" >1</th>\n",
       "                        <td id=\"T_2ed5faec_d343_11ec_bb33_803253ddc3dfrow0_col0\" class=\"data row0 col0\" >1.000000</td>\n",
       "                        <td id=\"T_2ed5faec_d343_11ec_bb33_803253ddc3dfrow0_col1\" class=\"data row0 col1\" >N8OBJ</td>\n",
       "                        <td id=\"T_2ed5faec_d343_11ec_bb33_803253ddc3dfrow0_col2\" class=\"data row0 col2\" >John C. Gibbons</td>\n",
       "                        <td id=\"T_2ed5faec_d343_11ec_bb33_803253ddc3dfrow0_col3\" class=\"data row0 col3\" >EN91fh</td>\n",
       "                        <td id=\"T_2ed5faec_d343_11ec_bb33_803253ddc3dfrow0_col4\" class=\"data row0 col4\" >41.321963</td>\n",
       "                        <td id=\"T_2ed5faec_d343_11ec_bb33_803253ddc3dfrow0_col5\" class=\"data row0 col5\" >-81.504739</td>\n",
       "                        <td id=\"T_2ed5faec_d343_11ec_bb33_803253ddc3dfrow0_col6\" class=\"data row0 col6\" >285.000000</td>\n",
       "                        <td id=\"T_2ed5faec_d343_11ec_bb33_803253ddc3dfrow0_col7\" class=\"data row0 col7\" >Grape Gen 1</td>\n",
       "                        <td id=\"T_2ed5faec_d343_11ec_bb33_803253ddc3dfrow0_col8\" class=\"data row0 col8\" >DX Eng RF-PRO-1B Mag Loop /w N8OBJ preamp</td>\n",
       "                        <td id=\"T_2ed5faec_d343_11ec_bb33_803253ddc3dfrow0_col9\" class=\"data row0 col9\" >RasPi3B+, FLDigi 4.1.13</td>\n",
       "                        <td id=\"T_2ed5faec_d343_11ec_bb33_803253ddc3dfrow0_col10\" class=\"data row0 col10\" >nan</td>\n",
       "                        <td id=\"T_2ed5faec_d343_11ec_bb33_803253ddc3dfrow0_col11\" class=\"data row0 col11\" >nan</td>\n",
       "                        <td id=\"T_2ed5faec_d343_11ec_bb33_803253ddc3dfrow0_col12\" class=\"data row0 col12\" >nan</td>\n",
       "                        <td id=\"T_2ed5faec_d343_11ec_bb33_803253ddc3dfrow0_col13\" class=\"data row0 col13\" >Data logged</td>\n",
       "            </tr>\n",
       "            <tr>\n",
       "                        <th id=\"T_2ed5faec_d343_11ec_bb33_803253ddc3dflevel0_row1\" class=\"row_heading level0 row1\" >2</th>\n",
       "                        <td id=\"T_2ed5faec_d343_11ec_bb33_803253ddc3dfrow1_col0\" class=\"data row1 col0\" >2.000000</td>\n",
       "                        <td id=\"T_2ed5faec_d343_11ec_bb33_803253ddc3dfrow1_col1\" class=\"data row1 col1\" >AD8Y</td>\n",
       "                        <td id=\"T_2ed5faec_d343_11ec_bb33_803253ddc3dfrow1_col2\" class=\"data row1 col2\" >David Kazdan</td>\n",
       "                        <td id=\"T_2ed5faec_d343_11ec_bb33_803253ddc3dfrow1_col3\" class=\"data row1 col3\" >EN91fl</td>\n",
       "                        <td id=\"T_2ed5faec_d343_11ec_bb33_803253ddc3dfrow1_col4\" class=\"data row1 col4\" >41.493744</td>\n",
       "                        <td id=\"T_2ed5faec_d343_11ec_bb33_803253ddc3dfrow1_col5\" class=\"data row1 col5\" >-81.578039</td>\n",
       "                        <td id=\"T_2ed5faec_d343_11ec_bb33_803253ddc3dfrow1_col6\" class=\"data row1 col6\" >300.000000</td>\n",
       "                        <td id=\"T_2ed5faec_d343_11ec_bb33_803253ddc3dfrow1_col7\" class=\"data row1 col7\" >ICOM IC-7610</td>\n",
       "                        <td id=\"T_2ed5faec_d343_11ec_bb33_803253ddc3dfrow1_col8\" class=\"data row1 col8\" >nan</td>\n",
       "                        <td id=\"T_2ed5faec_d343_11ec_bb33_803253ddc3dfrow1_col9\" class=\"data row1 col9\" >RasPi3B+, FLDigi 4.1.13</td>\n",
       "                        <td id=\"T_2ed5faec_d343_11ec_bb33_803253ddc3dfrow1_col10\" class=\"data row1 col10\" >nan</td>\n",
       "                        <td id=\"T_2ed5faec_d343_11ec_bb33_803253ddc3dfrow1_col11\" class=\"data row1 col11\" >nan</td>\n",
       "                        <td id=\"T_2ed5faec_d343_11ec_bb33_803253ddc3dfrow1_col12\" class=\"data row1 col12\" >nan</td>\n",
       "                        <td id=\"T_2ed5faec_d343_11ec_bb33_803253ddc3dfrow1_col13\" class=\"data row1 col13\" >Data logged</td>\n",
       "            </tr>\n",
       "            <tr>\n",
       "                        <th id=\"T_2ed5faec_d343_11ec_bb33_803253ddc3dflevel0_row2\" class=\"row_heading level0 row2\" >3</th>\n",
       "                        <td id=\"T_2ed5faec_d343_11ec_bb33_803253ddc3dfrow2_col0\" class=\"data row2 col0\" >3.000000</td>\n",
       "                        <td id=\"T_2ed5faec_d343_11ec_bb33_803253ddc3dfrow2_col1\" class=\"data row2 col1\" >N8OBJ</td>\n",
       "                        <td id=\"T_2ed5faec_d343_11ec_bb33_803253ddc3dfrow2_col2\" class=\"data row2 col2\" >John C. Gibbons</td>\n",
       "                        <td id=\"T_2ed5faec_d343_11ec_bb33_803253ddc3dfrow2_col3\" class=\"data row2 col3\" >EN91fh</td>\n",
       "                        <td id=\"T_2ed5faec_d343_11ec_bb33_803253ddc3dfrow2_col4\" class=\"data row2 col4\" >41.321963</td>\n",
       "                        <td id=\"T_2ed5faec_d343_11ec_bb33_803253ddc3dfrow2_col5\" class=\"data row2 col5\" >-81.504739</td>\n",
       "                        <td id=\"T_2ed5faec_d343_11ec_bb33_803253ddc3dfrow2_col6\" class=\"data row2 col6\" >285.000000</td>\n",
       "                        <td id=\"T_2ed5faec_d343_11ec_bb33_803253ddc3dfrow2_col7\" class=\"data row2 col7\" >Grape Gen 1</td>\n",
       "                        <td id=\"T_2ed5faec_d343_11ec_bb33_803253ddc3dfrow2_col8\" class=\"data row2 col8\" >DX Eng RF-PRO-1B Mag Loop /w N8OBJ preamp</td>\n",
       "                        <td id=\"T_2ed5faec_d343_11ec_bb33_803253ddc3dfrow2_col9\" class=\"data row2 col9\" >RasPi3B+, FLDigi 4.1.13</td>\n",
       "                        <td id=\"T_2ed5faec_d343_11ec_bb33_803253ddc3dfrow2_col10\" class=\"data row2 col10\" >nan</td>\n",
       "                        <td id=\"T_2ed5faec_d343_11ec_bb33_803253ddc3dfrow2_col11\" class=\"data row2 col11\" >nan</td>\n",
       "                        <td id=\"T_2ed5faec_d343_11ec_bb33_803253ddc3dfrow2_col12\" class=\"data row2 col12\" >nan</td>\n",
       "                        <td id=\"T_2ed5faec_d343_11ec_bb33_803253ddc3dfrow2_col13\" class=\"data row2 col13\" >Data logged</td>\n",
       "            </tr>\n",
       "            <tr>\n",
       "                        <th id=\"T_2ed5faec_d343_11ec_bb33_803253ddc3dflevel0_row3\" class=\"row_heading level0 row3\" >4</th>\n",
       "                        <td id=\"T_2ed5faec_d343_11ec_bb33_803253ddc3dfrow3_col0\" class=\"data row3 col0\" >4.000000</td>\n",
       "                        <td id=\"T_2ed5faec_d343_11ec_bb33_803253ddc3dfrow3_col1\" class=\"data row3 col1\" >AD8Y</td>\n",
       "                        <td id=\"T_2ed5faec_d343_11ec_bb33_803253ddc3dfrow3_col2\" class=\"data row3 col2\" >David Kazdan</td>\n",
       "                        <td id=\"T_2ed5faec_d343_11ec_bb33_803253ddc3dfrow3_col3\" class=\"data row3 col3\" >EN91fl</td>\n",
       "                        <td id=\"T_2ed5faec_d343_11ec_bb33_803253ddc3dfrow3_col4\" class=\"data row3 col4\" >41.493744</td>\n",
       "                        <td id=\"T_2ed5faec_d343_11ec_bb33_803253ddc3dfrow3_col5\" class=\"data row3 col5\" >-81.578039</td>\n",
       "                        <td id=\"T_2ed5faec_d343_11ec_bb33_803253ddc3dfrow3_col6\" class=\"data row3 col6\" >300.000000</td>\n",
       "                        <td id=\"T_2ed5faec_d343_11ec_bb33_803253ddc3dfrow3_col7\" class=\"data row3 col7\" >Grape Gen 1</td>\n",
       "                        <td id=\"T_2ed5faec_d343_11ec_bb33_803253ddc3dfrow3_col8\" class=\"data row3 col8\" >nan</td>\n",
       "                        <td id=\"T_2ed5faec_d343_11ec_bb33_803253ddc3dfrow3_col9\" class=\"data row3 col9\" >RasPi3B+, FLDigi 4.1.13</td>\n",
       "                        <td id=\"T_2ed5faec_d343_11ec_bb33_803253ddc3dfrow3_col10\" class=\"data row3 col10\" >nan</td>\n",
       "                        <td id=\"T_2ed5faec_d343_11ec_bb33_803253ddc3dfrow3_col11\" class=\"data row3 col11\" >nan</td>\n",
       "                        <td id=\"T_2ed5faec_d343_11ec_bb33_803253ddc3dfrow3_col12\" class=\"data row3 col12\" >nan</td>\n",
       "                        <td id=\"T_2ed5faec_d343_11ec_bb33_803253ddc3dfrow3_col13\" class=\"data row3 col13\" >Data logged</td>\n",
       "            </tr>\n",
       "            <tr>\n",
       "                        <th id=\"T_2ed5faec_d343_11ec_bb33_803253ddc3dflevel0_row4\" class=\"row_heading level0 row4\" >5</th>\n",
       "                        <td id=\"T_2ed5faec_d343_11ec_bb33_803253ddc3dfrow4_col0\" class=\"data row4 col0\" >5.000000</td>\n",
       "                        <td id=\"T_2ed5faec_d343_11ec_bb33_803253ddc3dfrow4_col1\" class=\"data row4 col1\" >KE8HPA</td>\n",
       "                        <td id=\"T_2ed5faec_d343_11ec_bb33_803253ddc3dfrow4_col2\" class=\"data row4 col2\" >Frankie Bonte</td>\n",
       "                        <td id=\"T_2ed5faec_d343_11ec_bb33_803253ddc3dfrow4_col3\" class=\"data row4 col3\" >EN80nd</td>\n",
       "                        <td id=\"T_2ed5faec_d343_11ec_bb33_803253ddc3dfrow4_col4\" class=\"data row4 col4\" >40.130910</td>\n",
       "                        <td id=\"T_2ed5faec_d343_11ec_bb33_803253ddc3dfrow4_col5\" class=\"data row4 col5\" >-82.847780</td>\n",
       "                        <td id=\"T_2ed5faec_d343_11ec_bb33_803253ddc3dfrow4_col6\" class=\"data row4 col6\" >275.000000</td>\n",
       "                        <td id=\"T_2ed5faec_d343_11ec_bb33_803253ddc3dfrow4_col7\" class=\"data row4 col7\" >DXF1200</td>\n",
       "                        <td id=\"T_2ed5faec_d343_11ec_bb33_803253ddc3dfrow4_col8\" class=\"data row4 col8\" >nan</td>\n",
       "                        <td id=\"T_2ed5faec_d343_11ec_bb33_803253ddc3dfrow4_col9\" class=\"data row4 col9\" >RasPi3B+, FLDigi 4.1.09</td>\n",
       "                        <td id=\"T_2ed5faec_d343_11ec_bb33_803253ddc3dfrow4_col10\" class=\"data row4 col10\" >nan</td>\n",
       "                        <td id=\"T_2ed5faec_d343_11ec_bb33_803253ddc3dfrow4_col11\" class=\"data row4 col11\" >nan</td>\n",
       "                        <td id=\"T_2ed5faec_d343_11ec_bb33_803253ddc3dfrow4_col12\" class=\"data row4 col12\" >nan</td>\n",
       "                        <td id=\"T_2ed5faec_d343_11ec_bb33_803253ddc3dfrow4_col13\" class=\"data row4 col13\" >No data logged</td>\n",
       "            </tr>\n",
       "            <tr>\n",
       "                        <th id=\"T_2ed5faec_d343_11ec_bb33_803253ddc3dflevel0_row5\" class=\"row_heading level0 row5\" >6</th>\n",
       "                        <td id=\"T_2ed5faec_d343_11ec_bb33_803253ddc3dfrow5_col0\" class=\"data row5 col0\" >6.000000</td>\n",
       "                        <td id=\"T_2ed5faec_d343_11ec_bb33_803253ddc3dfrow5_col1\" class=\"data row5 col1\" >KD8OXT</td>\n",
       "                        <td id=\"T_2ed5faec_d343_11ec_bb33_803253ddc3dfrow5_col2\" class=\"data row5 col2\" >Kristina Collins</td>\n",
       "                        <td id=\"T_2ed5faec_d343_11ec_bb33_803253ddc3dfrow5_col3\" class=\"data row5 col3\" >EN91fl</td>\n",
       "                        <td id=\"T_2ed5faec_d343_11ec_bb33_803253ddc3dfrow5_col4\" class=\"data row5 col4\" >41.498777</td>\n",
       "                        <td id=\"T_2ed5faec_d343_11ec_bb33_803253ddc3dfrow5_col5\" class=\"data row5 col5\" >-81.573075</td>\n",
       "                        <td id=\"T_2ed5faec_d343_11ec_bb33_803253ddc3dfrow5_col6\" class=\"data row5 col6\" >300.000000</td>\n",
       "                        <td id=\"T_2ed5faec_d343_11ec_bb33_803253ddc3dfrow5_col7\" class=\"data row5 col7\" >DXF1200</td>\n",
       "                        <td id=\"T_2ed5faec_d343_11ec_bb33_803253ddc3dfrow5_col8\" class=\"data row5 col8\" >nan</td>\n",
       "                        <td id=\"T_2ed5faec_d343_11ec_bb33_803253ddc3dfrow5_col9\" class=\"data row5 col9\" >RasPi3B+, FLDigi 4.1.09</td>\n",
       "                        <td id=\"T_2ed5faec_d343_11ec_bb33_803253ddc3dfrow5_col10\" class=\"data row5 col10\" >nan</td>\n",
       "                        <td id=\"T_2ed5faec_d343_11ec_bb33_803253ddc3dfrow5_col11\" class=\"data row5 col11\" >nan</td>\n",
       "                        <td id=\"T_2ed5faec_d343_11ec_bb33_803253ddc3dfrow5_col12\" class=\"data row5 col12\" >nan</td>\n",
       "                        <td id=\"T_2ed5faec_d343_11ec_bb33_803253ddc3dfrow5_col13\" class=\"data row5 col13\" >Data logged</td>\n",
       "            </tr>\n",
       "            <tr>\n",
       "                        <th id=\"T_2ed5faec_d343_11ec_bb33_803253ddc3dflevel0_row6\" class=\"row_heading level0 row6\" >7</th>\n",
       "                        <td id=\"T_2ed5faec_d343_11ec_bb33_803253ddc3dfrow6_col0\" class=\"data row6 col0\" >7.000000</td>\n",
       "                        <td id=\"T_2ed5faec_d343_11ec_bb33_803253ddc3dfrow6_col1\" class=\"data row6 col1\" >N8OBJ</td>\n",
       "                        <td id=\"T_2ed5faec_d343_11ec_bb33_803253ddc3dfrow6_col2\" class=\"data row6 col2\" >John C. Gibbons</td>\n",
       "                        <td id=\"T_2ed5faec_d343_11ec_bb33_803253ddc3dfrow6_col3\" class=\"data row6 col3\" >EN91fh</td>\n",
       "                        <td id=\"T_2ed5faec_d343_11ec_bb33_803253ddc3dfrow6_col4\" class=\"data row6 col4\" >41.321963</td>\n",
       "                        <td id=\"T_2ed5faec_d343_11ec_bb33_803253ddc3dfrow6_col5\" class=\"data row6 col5\" >-81.504739</td>\n",
       "                        <td id=\"T_2ed5faec_d343_11ec_bb33_803253ddc3dfrow6_col6\" class=\"data row6 col6\" >285.000000</td>\n",
       "                        <td id=\"T_2ed5faec_d343_11ec_bb33_803253ddc3dfrow6_col7\" class=\"data row6 col7\" >Grape Gen 1</td>\n",
       "                        <td id=\"T_2ed5faec_d343_11ec_bb33_803253ddc3dfrow6_col8\" class=\"data row6 col8\" >DX Eng RF-PRO-1B Mag Loop /w N8OBJ preamp</td>\n",
       "                        <td id=\"T_2ed5faec_d343_11ec_bb33_803253ddc3dfrow6_col9\" class=\"data row6 col9\" >RasPi3B+, FLDigi 4.1.13</td>\n",
       "                        <td id=\"T_2ed5faec_d343_11ec_bb33_803253ddc3dfrow6_col10\" class=\"data row6 col10\" >nan</td>\n",
       "                        <td id=\"T_2ed5faec_d343_11ec_bb33_803253ddc3dfrow6_col11\" class=\"data row6 col11\" >nan</td>\n",
       "                        <td id=\"T_2ed5faec_d343_11ec_bb33_803253ddc3dfrow6_col12\" class=\"data row6 col12\" >nan</td>\n",
       "                        <td id=\"T_2ed5faec_d343_11ec_bb33_803253ddc3dfrow6_col13\" class=\"data row6 col13\" >Data logged</td>\n",
       "            </tr>\n",
       "            <tr>\n",
       "                        <th id=\"T_2ed5faec_d343_11ec_bb33_803253ddc3dflevel0_row7\" class=\"row_heading level0 row7\" >8</th>\n",
       "                        <td id=\"T_2ed5faec_d343_11ec_bb33_803253ddc3dfrow7_col0\" class=\"data row7 col0\" >8.000000</td>\n",
       "                        <td id=\"T_2ed5faec_d343_11ec_bb33_803253ddc3dfrow7_col1\" class=\"data row7 col1\" >AD8Y</td>\n",
       "                        <td id=\"T_2ed5faec_d343_11ec_bb33_803253ddc3dfrow7_col2\" class=\"data row7 col2\" >David Kazdan</td>\n",
       "                        <td id=\"T_2ed5faec_d343_11ec_bb33_803253ddc3dfrow7_col3\" class=\"data row7 col3\" >EN91fl</td>\n",
       "                        <td id=\"T_2ed5faec_d343_11ec_bb33_803253ddc3dfrow7_col4\" class=\"data row7 col4\" >41.493744</td>\n",
       "                        <td id=\"T_2ed5faec_d343_11ec_bb33_803253ddc3dfrow7_col5\" class=\"data row7 col5\" >-81.578039</td>\n",
       "                        <td id=\"T_2ed5faec_d343_11ec_bb33_803253ddc3dfrow7_col6\" class=\"data row7 col6\" >300.000000</td>\n",
       "                        <td id=\"T_2ed5faec_d343_11ec_bb33_803253ddc3dfrow7_col7\" class=\"data row7 col7\" >Grape Gen 1</td>\n",
       "                        <td id=\"T_2ed5faec_d343_11ec_bb33_803253ddc3dfrow7_col8\" class=\"data row7 col8\" >nan</td>\n",
       "                        <td id=\"T_2ed5faec_d343_11ec_bb33_803253ddc3dfrow7_col9\" class=\"data row7 col9\" >RasPi3B+, FLDigi 4.1.13</td>\n",
       "                        <td id=\"T_2ed5faec_d343_11ec_bb33_803253ddc3dfrow7_col10\" class=\"data row7 col10\" >nan</td>\n",
       "                        <td id=\"T_2ed5faec_d343_11ec_bb33_803253ddc3dfrow7_col11\" class=\"data row7 col11\" >nan</td>\n",
       "                        <td id=\"T_2ed5faec_d343_11ec_bb33_803253ddc3dfrow7_col12\" class=\"data row7 col12\" >nan</td>\n",
       "                        <td id=\"T_2ed5faec_d343_11ec_bb33_803253ddc3dfrow7_col13\" class=\"data row7 col13\" >Data logged</td>\n",
       "            </tr>\n",
       "            <tr>\n",
       "                        <th id=\"T_2ed5faec_d343_11ec_bb33_803253ddc3dflevel0_row8\" class=\"row_heading level0 row8\" >9</th>\n",
       "                        <td id=\"T_2ed5faec_d343_11ec_bb33_803253ddc3dfrow8_col0\" class=\"data row8 col0\" >9.000000</td>\n",
       "                        <td id=\"T_2ed5faec_d343_11ec_bb33_803253ddc3dfrow8_col1\" class=\"data row8 col1\" >KB3UMD</td>\n",
       "                        <td id=\"T_2ed5faec_d343_11ec_bb33_803253ddc3dfrow8_col2\" class=\"data row8 col2\" >Aidan Montare</td>\n",
       "                        <td id=\"T_2ed5faec_d343_11ec_bb33_803253ddc3dfrow8_col3\" class=\"data row8 col3\" >FN20ge</td>\n",
       "                        <td id=\"T_2ed5faec_d343_11ec_bb33_803253ddc3dfrow8_col4\" class=\"data row8 col4\" >40.176000</td>\n",
       "                        <td id=\"T_2ed5faec_d343_11ec_bb33_803253ddc3dfrow8_col5\" class=\"data row8 col5\" >-75.493000</td>\n",
       "                        <td id=\"T_2ed5faec_d343_11ec_bb33_803253ddc3dfrow8_col6\" class=\"data row8 col6\" >75.000000</td>\n",
       "                        <td id=\"T_2ed5faec_d343_11ec_bb33_803253ddc3dfrow8_col7\" class=\"data row8 col7\" >Grape Gen 1</td>\n",
       "                        <td id=\"T_2ed5faec_d343_11ec_bb33_803253ddc3dfrow8_col8\" class=\"data row8 col8\" >nan</td>\n",
       "                        <td id=\"T_2ed5faec_d343_11ec_bb33_803253ddc3dfrow8_col9\" class=\"data row8 col9\" >RasPi4B, FLDigi 4.1.13</td>\n",
       "                        <td id=\"T_2ed5faec_d343_11ec_bb33_803253ddc3dfrow8_col10\" class=\"data row8 col10\" >nan</td>\n",
       "                        <td id=\"T_2ed5faec_d343_11ec_bb33_803253ddc3dfrow8_col11\" class=\"data row8 col11\" >nan</td>\n",
       "                        <td id=\"T_2ed5faec_d343_11ec_bb33_803253ddc3dfrow8_col12\" class=\"data row8 col12\" >nan</td>\n",
       "                        <td id=\"T_2ed5faec_d343_11ec_bb33_803253ddc3dfrow8_col13\" class=\"data row8 col13\" >Data logged</td>\n",
       "            </tr>\n",
       "            <tr>\n",
       "                        <th id=\"T_2ed5faec_d343_11ec_bb33_803253ddc3dflevel0_row9\" class=\"row_heading level0 row9\" >10</th>\n",
       "                        <td id=\"T_2ed5faec_d343_11ec_bb33_803253ddc3dfrow9_col0\" class=\"data row9 col0\" >10.000000</td>\n",
       "                        <td id=\"T_2ed5faec_d343_11ec_bb33_803253ddc3dfrow9_col1\" class=\"data row9 col1\" >KD8SYG</td>\n",
       "                        <td id=\"T_2ed5faec_d343_11ec_bb33_803253ddc3dfrow9_col2\" class=\"data row9 col2\" >James Niemann</td>\n",
       "                        <td id=\"T_2ed5faec_d343_11ec_bb33_803253ddc3dfrow9_col3\" class=\"data row9 col3\" >EN91ii</td>\n",
       "                        <td id=\"T_2ed5faec_d343_11ec_bb33_803253ddc3dfrow9_col4\" class=\"data row9 col4\" > </td>\n",
       "                        <td id=\"T_2ed5faec_d343_11ec_bb33_803253ddc3dfrow9_col5\" class=\"data row9 col5\" >-81.283015</td>\n",
       "                        <td id=\"T_2ed5faec_d343_11ec_bb33_803253ddc3dfrow9_col6\" class=\"data row9 col6\" >330.000000</td>\n",
       "                        <td id=\"T_2ed5faec_d343_11ec_bb33_803253ddc3dfrow9_col7\" class=\"data row9 col7\" >Grape Gen 1</td>\n",
       "                        <td id=\"T_2ed5faec_d343_11ec_bb33_803253ddc3dfrow9_col8\" class=\"data row9 col8\" >G5RV 80M 102' long</td>\n",
       "                        <td id=\"T_2ed5faec_d343_11ec_bb33_803253ddc3dfrow9_col9\" class=\"data row9 col9\" >RasPi4B, FLDigi 4.1.13</td>\n",
       "                        <td id=\"T_2ed5faec_d343_11ec_bb33_803253ddc3dfrow9_col10\" class=\"data row9 col10\" >nan</td>\n",
       "                        <td id=\"T_2ed5faec_d343_11ec_bb33_803253ddc3dfrow9_col11\" class=\"data row9 col11\" >nan</td>\n",
       "                        <td id=\"T_2ed5faec_d343_11ec_bb33_803253ddc3dfrow9_col12\" class=\"data row9 col12\" >nan</td>\n",
       "                        <td id=\"T_2ed5faec_d343_11ec_bb33_803253ddc3dfrow9_col13\" class=\"data row9 col13\" >Data logged</td>\n",
       "            </tr>\n",
       "            <tr>\n",
       "                        <th id=\"T_2ed5faec_d343_11ec_bb33_803253ddc3dflevel0_row10\" class=\"row_heading level0 row10\" >11</th>\n",
       "                        <td id=\"T_2ed5faec_d343_11ec_bb33_803253ddc3dfrow10_col0\" class=\"data row10 col0\" >11.000000</td>\n",
       "                        <td id=\"T_2ed5faec_d343_11ec_bb33_803253ddc3dfrow10_col1\" class=\"data row10 col1\" >N8OBJ</td>\n",
       "                        <td id=\"T_2ed5faec_d343_11ec_bb33_803253ddc3dfrow10_col2\" class=\"data row10 col2\" >John C. Gibbons</td>\n",
       "                        <td id=\"T_2ed5faec_d343_11ec_bb33_803253ddc3dfrow10_col3\" class=\"data row10 col3\" >nan</td>\n",
       "                        <td id=\"T_2ed5faec_d343_11ec_bb33_803253ddc3dfrow10_col4\" class=\"data row10 col4\" >00.000000</td>\n",
       "                        <td id=\"T_2ed5faec_d343_11ec_bb33_803253ddc3dfrow10_col5\" class=\"data row10 col5\" >0.000000</td>\n",
       "                        <td id=\"T_2ed5faec_d343_11ec_bb33_803253ddc3dfrow10_col6\" class=\"data row10 col6\" >0.000000</td>\n",
       "                        <td id=\"T_2ed5faec_d343_11ec_bb33_803253ddc3dfrow10_col7\" class=\"data row10 col7\" >Grape Gen 1</td>\n",
       "                        <td id=\"T_2ed5faec_d343_11ec_bb33_803253ddc3dfrow10_col8\" class=\"data row10 col8\" >nan</td>\n",
       "                        <td id=\"T_2ed5faec_d343_11ec_bb33_803253ddc3dfrow10_col9\" class=\"data row10 col9\" >RasPi4B, FLDigi 4.1.13</td>\n",
       "                        <td id=\"T_2ed5faec_d343_11ec_bb33_803253ddc3dfrow10_col10\" class=\"data row10 col10\" >nan</td>\n",
       "                        <td id=\"T_2ed5faec_d343_11ec_bb33_803253ddc3dfrow10_col11\" class=\"data row10 col11\" >nan</td>\n",
       "                        <td id=\"T_2ed5faec_d343_11ec_bb33_803253ddc3dfrow10_col12\" class=\"data row10 col12\" >nan</td>\n",
       "                        <td id=\"T_2ed5faec_d343_11ec_bb33_803253ddc3dfrow10_col13\" class=\"data row10 col13\" >No data logged</td>\n",
       "            </tr>\n",
       "            <tr>\n",
       "                        <th id=\"T_2ed5faec_d343_11ec_bb33_803253ddc3dflevel0_row11\" class=\"row_heading level0 row11\" >12</th>\n",
       "                        <td id=\"T_2ed5faec_d343_11ec_bb33_803253ddc3dfrow11_col0\" class=\"data row11 col0\" >12.000000</td>\n",
       "                        <td id=\"T_2ed5faec_d343_11ec_bb33_803253ddc3dfrow11_col1\" class=\"data row11 col1\" >WA5FRF</td>\n",
       "                        <td id=\"T_2ed5faec_d343_11ec_bb33_803253ddc3dfrow11_col2\" class=\"data row11 col2\" >Steve Cerwin</td>\n",
       "                        <td id=\"T_2ed5faec_d343_11ec_bb33_803253ddc3dfrow11_col3\" class=\"data row11 col3\" >EL09nn</td>\n",
       "                        <td id=\"T_2ed5faec_d343_11ec_bb33_803253ddc3dfrow11_col4\" class=\"data row11 col4\" >29.574783</td>\n",
       "                        <td id=\"T_2ed5faec_d343_11ec_bb33_803253ddc3dfrow11_col5\" class=\"data row11 col5\" >-98.887183</td>\n",
       "                        <td id=\"T_2ed5faec_d343_11ec_bb33_803253ddc3dfrow11_col6\" class=\"data row11 col6\" >412.000000</td>\n",
       "                        <td id=\"T_2ed5faec_d343_11ec_bb33_803253ddc3dfrow11_col7\" class=\"data row11 col7\" >ICOM IC-7610 and R8600</td>\n",
       "                        <td id=\"T_2ed5faec_d343_11ec_bb33_803253ddc3dfrow11_col8\" class=\"data row11 col8\" >30m, 40m, and 160m dipoles</td>\n",
       "                        <td id=\"T_2ed5faec_d343_11ec_bb33_803253ddc3dfrow11_col9\" class=\"data row11 col9\" >Spectrum Lab, FLDIGI 4.1.14</td>\n",
       "                        <td id=\"T_2ed5faec_d343_11ec_bb33_803253ddc3dfrow11_col10\" class=\"data row11 col10\" >nan</td>\n",
       "                        <td id=\"T_2ed5faec_d343_11ec_bb33_803253ddc3dfrow11_col11\" class=\"data row11 col11\" >nan</td>\n",
       "                        <td id=\"T_2ed5faec_d343_11ec_bb33_803253ddc3dfrow11_col12\" class=\"data row11 col12\" >nan</td>\n",
       "                        <td id=\"T_2ed5faec_d343_11ec_bb33_803253ddc3dfrow11_col13\" class=\"data row11 col13\" >No data logged</td>\n",
       "            </tr>\n",
       "            <tr>\n",
       "                        <th id=\"T_2ed5faec_d343_11ec_bb33_803253ddc3dflevel0_row12\" class=\"row_heading level0 row12\" >13</th>\n",
       "                        <td id=\"T_2ed5faec_d343_11ec_bb33_803253ddc3dfrow12_col0\" class=\"data row12 col0\" >13.000000</td>\n",
       "                        <td id=\"T_2ed5faec_d343_11ec_bb33_803253ddc3dfrow12_col1\" class=\"data row12 col1\" >W3LLA</td>\n",
       "                        <td id=\"T_2ed5faec_d343_11ec_bb33_803253ddc3dfrow12_col2\" class=\"data row12 col2\" >Maxwell Moran</td>\n",
       "                        <td id=\"T_2ed5faec_d343_11ec_bb33_803253ddc3dfrow12_col3\" class=\"data row12 col3\" >DL70ln</td>\n",
       "                        <td id=\"T_2ed5faec_d343_11ec_bb33_803253ddc3dfrow12_col4\" class=\"data row12 col4\" >40.543230</td>\n",
       "                        <td id=\"T_2ed5faec_d343_11ec_bb33_803253ddc3dfrow12_col5\" class=\"data row12 col5\" >-105.045550</td>\n",
       "                        <td id=\"T_2ed5faec_d343_11ec_bb33_803253ddc3dfrow12_col6\" class=\"data row12 col6\" >1511.000000</td>\n",
       "                        <td id=\"T_2ed5faec_d343_11ec_bb33_803253ddc3dfrow12_col7\" class=\"data row12 col7\" >Yaesu FT-817 wLBGPSDO</td>\n",
       "                        <td id=\"T_2ed5faec_d343_11ec_bb33_803253ddc3dfrow12_col8\" class=\"data row12 col8\" >Wire</td>\n",
       "                        <td id=\"T_2ed5faec_d343_11ec_bb33_803253ddc3dfrow12_col9\" class=\"data row12 col9\" >RasPi4B, FLDigi 4.1.13</td>\n",
       "                        <td id=\"T_2ed5faec_d343_11ec_bb33_803253ddc3dfrow12_col10\" class=\"data row12 col10\" >nan</td>\n",
       "                        <td id=\"T_2ed5faec_d343_11ec_bb33_803253ddc3dfrow12_col11\" class=\"data row12 col11\" >nan</td>\n",
       "                        <td id=\"T_2ed5faec_d343_11ec_bb33_803253ddc3dfrow12_col12\" class=\"data row12 col12\" >nan</td>\n",
       "                        <td id=\"T_2ed5faec_d343_11ec_bb33_803253ddc3dfrow12_col13\" class=\"data row12 col13\" >Data logged</td>\n",
       "            </tr>\n",
       "            <tr>\n",
       "                        <th id=\"T_2ed5faec_d343_11ec_bb33_803253ddc3dflevel0_row13\" class=\"row_heading level0 row13\" >14</th>\n",
       "                        <td id=\"T_2ed5faec_d343_11ec_bb33_803253ddc3dfrow13_col0\" class=\"data row13 col0\" >14.000000</td>\n",
       "                        <td id=\"T_2ed5faec_d343_11ec_bb33_803253ddc3dfrow13_col1\" class=\"data row13 col1\" >W2NAF</td>\n",
       "                        <td id=\"T_2ed5faec_d343_11ec_bb33_803253ddc3dfrow13_col2\" class=\"data row13 col2\" >Nathaniel A Frissell</td>\n",
       "                        <td id=\"T_2ed5faec_d343_11ec_bb33_803253ddc3dfrow13_col3\" class=\"data row13 col3\" >FN21ei</td>\n",
       "                        <td id=\"T_2ed5faec_d343_11ec_bb33_803253ddc3dfrow13_col4\" class=\"data row13 col4\" >41.335116</td>\n",
       "                        <td id=\"T_2ed5faec_d343_11ec_bb33_803253ddc3dfrow13_col5\" class=\"data row13 col5\" >-75.600692</td>\n",
       "                        <td id=\"T_2ed5faec_d343_11ec_bb33_803253ddc3dfrow13_col6\" class=\"data row13 col6\" >0.000000</td>\n",
       "                        <td id=\"T_2ed5faec_d343_11ec_bb33_803253ddc3dfrow13_col7\" class=\"data row13 col7\" >Grape Gen 1</td>\n",
       "                        <td id=\"T_2ed5faec_d343_11ec_bb33_803253ddc3dfrow13_col8\" class=\"data row13 col8\" >nan</td>\n",
       "                        <td id=\"T_2ed5faec_d343_11ec_bb33_803253ddc3dfrow13_col9\" class=\"data row13 col9\" >RasPi4B, FLDigi 4.1.13</td>\n",
       "                        <td id=\"T_2ed5faec_d343_11ec_bb33_803253ddc3dfrow13_col10\" class=\"data row13 col10\" >nan</td>\n",
       "                        <td id=\"T_2ed5faec_d343_11ec_bb33_803253ddc3dfrow13_col11\" class=\"data row13 col11\" >nan</td>\n",
       "                        <td id=\"T_2ed5faec_d343_11ec_bb33_803253ddc3dfrow13_col12\" class=\"data row13 col12\" >nan</td>\n",
       "                        <td id=\"T_2ed5faec_d343_11ec_bb33_803253ddc3dfrow13_col13\" class=\"data row13 col13\" >Data logged</td>\n",
       "            </tr>\n",
       "            <tr>\n",
       "                        <th id=\"T_2ed5faec_d343_11ec_bb33_803253ddc3dflevel0_row14\" class=\"row_heading level0 row14\" >15</th>\n",
       "                        <td id=\"T_2ed5faec_d343_11ec_bb33_803253ddc3dfrow14_col0\" class=\"data row14 col0\" >15.000000</td>\n",
       "                        <td id=\"T_2ed5faec_d343_11ec_bb33_803253ddc3dfrow14_col1\" class=\"data row14 col1\" >KD2UHN</td>\n",
       "                        <td id=\"T_2ed5faec_d343_11ec_bb33_803253ddc3dfrow14_col2\" class=\"data row14 col2\" >Veronica Romanek</td>\n",
       "                        <td id=\"T_2ed5faec_d343_11ec_bb33_803253ddc3dfrow14_col3\" class=\"data row14 col3\" >FN20mp</td>\n",
       "                        <td id=\"T_2ed5faec_d343_11ec_bb33_803253ddc3dfrow14_col4\" class=\"data row14 col4\" >40.633320</td>\n",
       "                        <td id=\"T_2ed5faec_d343_11ec_bb33_803253ddc3dfrow14_col5\" class=\"data row14 col5\" >-74.988810</td>\n",
       "                        <td id=\"T_2ed5faec_d343_11ec_bb33_803253ddc3dfrow14_col6\" class=\"data row14 col6\" >136.000000</td>\n",
       "                        <td id=\"T_2ed5faec_d343_11ec_bb33_803253ddc3dfrow14_col7\" class=\"data row14 col7\" >Grape Gen 1</td>\n",
       "                        <td id=\"T_2ed5faec_d343_11ec_bb33_803253ddc3dfrow14_col8\" class=\"data row14 col8\" >80M OCF Dipole</td>\n",
       "                        <td id=\"T_2ed5faec_d343_11ec_bb33_803253ddc3dfrow14_col9\" class=\"data row14 col9\" >RasPi4B, FLDigi 4.1.13</td>\n",
       "                        <td id=\"T_2ed5faec_d343_11ec_bb33_803253ddc3dfrow14_col10\" class=\"data row14 col10\" >nan</td>\n",
       "                        <td id=\"T_2ed5faec_d343_11ec_bb33_803253ddc3dfrow14_col11\" class=\"data row14 col11\" >nan</td>\n",
       "                        <td id=\"T_2ed5faec_d343_11ec_bb33_803253ddc3dfrow14_col12\" class=\"data row14 col12\" >nan</td>\n",
       "                        <td id=\"T_2ed5faec_d343_11ec_bb33_803253ddc3dfrow14_col13\" class=\"data row14 col13\" >Data logged</td>\n",
       "            </tr>\n",
       "            <tr>\n",
       "                        <th id=\"T_2ed5faec_d343_11ec_bb33_803253ddc3dflevel0_row15\" class=\"row_heading level0 row15\" >16</th>\n",
       "                        <td id=\"T_2ed5faec_d343_11ec_bb33_803253ddc3dfrow15_col0\" class=\"data row15 col0\" >16.000000</td>\n",
       "                        <td id=\"T_2ed5faec_d343_11ec_bb33_803253ddc3dfrow15_col1\" class=\"data row15 col1\" >WW0WWV</td>\n",
       "                        <td id=\"T_2ed5faec_d343_11ec_bb33_803253ddc3dfrow15_col2\" class=\"data row15 col2\" >David A Swartz</td>\n",
       "                        <td id=\"T_2ed5faec_d343_11ec_bb33_803253ddc3dfrow15_col3\" class=\"data row15 col3\" >DN70kn</td>\n",
       "                        <td id=\"T_2ed5faec_d343_11ec_bb33_803253ddc3dfrow15_col4\" class=\"data row15 col4\" >40.562900</td>\n",
       "                        <td id=\"T_2ed5faec_d343_11ec_bb33_803253ddc3dfrow15_col5\" class=\"data row15 col5\" >-105.108610</td>\n",
       "                        <td id=\"T_2ed5faec_d343_11ec_bb33_803253ddc3dfrow15_col6\" class=\"data row15 col6\" >1546.000000</td>\n",
       "                        <td id=\"T_2ed5faec_d343_11ec_bb33_803253ddc3dfrow15_col7\" class=\"data row15 col7\" >Grape Gen 1</td>\n",
       "                        <td id=\"T_2ed5faec_d343_11ec_bb33_803253ddc3dfrow15_col8\" class=\"data row15 col8\" >20M Vertical</td>\n",
       "                        <td id=\"T_2ed5faec_d343_11ec_bb33_803253ddc3dfrow15_col9\" class=\"data row15 col9\" >RasPi4B, FLDigi 4.1.13</td>\n",
       "                        <td id=\"T_2ed5faec_d343_11ec_bb33_803253ddc3dfrow15_col10\" class=\"data row15 col10\" >nan</td>\n",
       "                        <td id=\"T_2ed5faec_d343_11ec_bb33_803253ddc3dfrow15_col11\" class=\"data row15 col11\" >nan</td>\n",
       "                        <td id=\"T_2ed5faec_d343_11ec_bb33_803253ddc3dfrow15_col12\" class=\"data row15 col12\" >nan</td>\n",
       "                        <td id=\"T_2ed5faec_d343_11ec_bb33_803253ddc3dfrow15_col13\" class=\"data row15 col13\" >Data logged</td>\n",
       "            </tr>\n",
       "            <tr>\n",
       "                        <th id=\"T_2ed5faec_d343_11ec_bb33_803253ddc3dflevel0_row16\" class=\"row_heading level0 row16\" >17</th>\n",
       "                        <td id=\"T_2ed5faec_d343_11ec_bb33_803253ddc3dfrow16_col0\" class=\"data row16 col0\" >17.000000</td>\n",
       "                        <td id=\"T_2ed5faec_d343_11ec_bb33_803253ddc3dfrow16_col1\" class=\"data row16 col1\" >WA2UAR</td>\n",
       "                        <td id=\"T_2ed5faec_d343_11ec_bb33_803253ddc3dfrow16_col2\" class=\"data row16 col2\" >Jay Silber</td>\n",
       "                        <td id=\"T_2ed5faec_d343_11ec_bb33_803253ddc3dfrow16_col3\" class=\"data row16 col3\" >FM29jw</td>\n",
       "                        <td id=\"T_2ed5faec_d343_11ec_bb33_803253ddc3dfrow16_col4\" class=\"data row16 col4\" >39.955650</td>\n",
       "                        <td id=\"T_2ed5faec_d343_11ec_bb33_803253ddc3dfrow16_col5\" class=\"data row16 col5\" >-75.174050</td>\n",
       "                        <td id=\"T_2ed5faec_d343_11ec_bb33_803253ddc3dfrow16_col6\" class=\"data row16 col6\" >3.000000</td>\n",
       "                        <td id=\"T_2ed5faec_d343_11ec_bb33_803253ddc3dfrow16_col7\" class=\"data row16 col7\" >Grape Gen 1</td>\n",
       "                        <td id=\"T_2ed5faec_d343_11ec_bb33_803253ddc3dfrow16_col8\" class=\"data row16 col8\" >HD6-160 Screwdriver</td>\n",
       "                        <td id=\"T_2ed5faec_d343_11ec_bb33_803253ddc3dfrow16_col9\" class=\"data row16 col9\" >RasPi4B, FLDigi 4.1.13</td>\n",
       "                        <td id=\"T_2ed5faec_d343_11ec_bb33_803253ddc3dfrow16_col10\" class=\"data row16 col10\" >nan</td>\n",
       "                        <td id=\"T_2ed5faec_d343_11ec_bb33_803253ddc3dfrow16_col11\" class=\"data row16 col11\" >nan</td>\n",
       "                        <td id=\"T_2ed5faec_d343_11ec_bb33_803253ddc3dfrow16_col12\" class=\"data row16 col12\" >nan</td>\n",
       "                        <td id=\"T_2ed5faec_d343_11ec_bb33_803253ddc3dfrow16_col13\" class=\"data row16 col13\" >No data logged</td>\n",
       "            </tr>\n",
       "            <tr>\n",
       "                        <th id=\"T_2ed5faec_d343_11ec_bb33_803253ddc3dflevel0_row17\" class=\"row_heading level0 row17\" >18</th>\n",
       "                        <td id=\"T_2ed5faec_d343_11ec_bb33_803253ddc3dfrow17_col0\" class=\"data row17 col0\" >18.000000</td>\n",
       "                        <td id=\"T_2ed5faec_d343_11ec_bb33_803253ddc3dfrow17_col1\" class=\"data row17 col1\" >W6BHZ</td>\n",
       "                        <td id=\"T_2ed5faec_d343_11ec_bb33_803253ddc3dfrow17_col2\" class=\"data row17 col2\" >Ethan Yoshio Kita [Cal Poly]</td>\n",
       "                        <td id=\"T_2ed5faec_d343_11ec_bb33_803253ddc3dfrow17_col3\" class=\"data row17 col3\" >nan</td>\n",
       "                        <td id=\"T_2ed5faec_d343_11ec_bb33_803253ddc3dfrow17_col4\" class=\"data row17 col4\" >35.300589</td>\n",
       "                        <td id=\"T_2ed5faec_d343_11ec_bb33_803253ddc3dfrow17_col5\" class=\"data row17 col5\" >-120.661717</td>\n",
       "                        <td id=\"T_2ed5faec_d343_11ec_bb33_803253ddc3dfrow17_col6\" class=\"data row17 col6\" >0.000000</td>\n",
       "                        <td id=\"T_2ed5faec_d343_11ec_bb33_803253ddc3dfrow17_col7\" class=\"data row17 col7\" >Grape Gen 1</td>\n",
       "                        <td id=\"T_2ed5faec_d343_11ec_bb33_803253ddc3dfrow17_col8\" class=\"data row17 col8\" >nan</td>\n",
       "                        <td id=\"T_2ed5faec_d343_11ec_bb33_803253ddc3dfrow17_col9\" class=\"data row17 col9\" >RasPi4B, FLDigi 4.1.13</td>\n",
       "                        <td id=\"T_2ed5faec_d343_11ec_bb33_803253ddc3dfrow17_col10\" class=\"data row17 col10\" >nan</td>\n",
       "                        <td id=\"T_2ed5faec_d343_11ec_bb33_803253ddc3dfrow17_col11\" class=\"data row17 col11\" >nan</td>\n",
       "                        <td id=\"T_2ed5faec_d343_11ec_bb33_803253ddc3dfrow17_col12\" class=\"data row17 col12\" >nan</td>\n",
       "                        <td id=\"T_2ed5faec_d343_11ec_bb33_803253ddc3dfrow17_col13\" class=\"data row17 col13\" >No data logged</td>\n",
       "            </tr>\n",
       "            <tr>\n",
       "                        <th id=\"T_2ed5faec_d343_11ec_bb33_803253ddc3dflevel0_row18\" class=\"row_heading level0 row18\" >19</th>\n",
       "                        <td id=\"T_2ed5faec_d343_11ec_bb33_803253ddc3dfrow18_col0\" class=\"data row18 col0\" >19.000000</td>\n",
       "                        <td id=\"T_2ed5faec_d343_11ec_bb33_803253ddc3dfrow18_col1\" class=\"data row18 col1\" >AB4EJ</td>\n",
       "                        <td id=\"T_2ed5faec_d343_11ec_bb33_803253ddc3dfrow18_col2\" class=\"data row18 col2\" >Bill Engelke</td>\n",
       "                        <td id=\"T_2ed5faec_d343_11ec_bb33_803253ddc3dfrow18_col3\" class=\"data row18 col3\" >EM63fj</td>\n",
       "                        <td id=\"T_2ed5faec_d343_11ec_bb33_803253ddc3dfrow18_col4\" class=\"data row18 col4\" >33.395833</td>\n",
       "                        <td id=\"T_2ed5faec_d343_11ec_bb33_803253ddc3dfrow18_col5\" class=\"data row18 col5\" >-87.541667</td>\n",
       "                        <td id=\"T_2ed5faec_d343_11ec_bb33_803253ddc3dfrow18_col6\" class=\"data row18 col6\" >110.000000</td>\n",
       "                        <td id=\"T_2ed5faec_d343_11ec_bb33_803253ddc3dfrow18_col7\" class=\"data row18 col7\" >Grape Gen 1</td>\n",
       "                        <td id=\"T_2ed5faec_d343_11ec_bb33_803253ddc3dfrow18_col8\" class=\"data row18 col8\" >Hexbeam ? 80m dipole</td>\n",
       "                        <td id=\"T_2ed5faec_d343_11ec_bb33_803253ddc3dfrow18_col9\" class=\"data row18 col9\" >RasPi4B, FLDigi 4.1.13</td>\n",
       "                        <td id=\"T_2ed5faec_d343_11ec_bb33_803253ddc3dfrow18_col10\" class=\"data row18 col10\" >nan</td>\n",
       "                        <td id=\"T_2ed5faec_d343_11ec_bb33_803253ddc3dfrow18_col11\" class=\"data row18 col11\" >nan</td>\n",
       "                        <td id=\"T_2ed5faec_d343_11ec_bb33_803253ddc3dfrow18_col12\" class=\"data row18 col12\" >nan</td>\n",
       "                        <td id=\"T_2ed5faec_d343_11ec_bb33_803253ddc3dfrow18_col13\" class=\"data row18 col13\" >No data logged</td>\n",
       "            </tr>\n",
       "            <tr>\n",
       "                        <th id=\"T_2ed5faec_d343_11ec_bb33_803253ddc3dflevel0_row19\" class=\"row_heading level0 row19\" >20</th>\n",
       "                        <td id=\"T_2ed5faec_d343_11ec_bb33_803253ddc3dfrow19_col0\" class=\"data row19 col0\" >20.000000</td>\n",
       "                        <td id=\"T_2ed5faec_d343_11ec_bb33_803253ddc3dfrow19_col1\" class=\"data row19 col1\" >K2MFF</td>\n",
       "                        <td id=\"T_2ed5faec_d343_11ec_bb33_803253ddc3dfrow19_col2\" class=\"data row19 col2\" >Gareth Perry</td>\n",
       "                        <td id=\"T_2ed5faec_d343_11ec_bb33_803253ddc3dfrow19_col3\" class=\"data row19 col3\" >FN20vr</td>\n",
       "                        <td id=\"T_2ed5faec_d343_11ec_bb33_803253ddc3dfrow19_col4\" class=\"data row19 col4\" >40.742018</td>\n",
       "                        <td id=\"T_2ed5faec_d343_11ec_bb33_803253ddc3dfrow19_col5\" class=\"data row19 col5\" >-74.178975</td>\n",
       "                        <td id=\"T_2ed5faec_d343_11ec_bb33_803253ddc3dfrow19_col6\" class=\"data row19 col6\" >50.000000</td>\n",
       "                        <td id=\"T_2ed5faec_d343_11ec_bb33_803253ddc3dfrow19_col7\" class=\"data row19 col7\" >Grape Gen 1</td>\n",
       "                        <td id=\"T_2ed5faec_d343_11ec_bb33_803253ddc3dfrow19_col8\" class=\"data row19 col8\" >Inverted V</td>\n",
       "                        <td id=\"T_2ed5faec_d343_11ec_bb33_803253ddc3dfrow19_col9\" class=\"data row19 col9\" >RasPi4B, FLDigi 4.1.13</td>\n",
       "                        <td id=\"T_2ed5faec_d343_11ec_bb33_803253ddc3dfrow19_col10\" class=\"data row19 col10\" >nan</td>\n",
       "                        <td id=\"T_2ed5faec_d343_11ec_bb33_803253ddc3dfrow19_col11\" class=\"data row19 col11\" >nan</td>\n",
       "                        <td id=\"T_2ed5faec_d343_11ec_bb33_803253ddc3dfrow19_col12\" class=\"data row19 col12\" >nan</td>\n",
       "                        <td id=\"T_2ed5faec_d343_11ec_bb33_803253ddc3dfrow19_col13\" class=\"data row19 col13\" >No data logged</td>\n",
       "            </tr>\n",
       "            <tr>\n",
       "                        <th id=\"T_2ed5faec_d343_11ec_bb33_803253ddc3dflevel0_row20\" class=\"row_heading level0 row20\" >21</th>\n",
       "                        <td id=\"T_2ed5faec_d343_11ec_bb33_803253ddc3dfrow20_col0\" class=\"data row20 col0\" >21.000000</td>\n",
       "                        <td id=\"T_2ed5faec_d343_11ec_bb33_803253ddc3dfrow20_col1\" class=\"data row20 col1\" >KV0S</td>\n",
       "                        <td id=\"T_2ed5faec_d343_11ec_bb33_803253ddc3dfrow20_col2\" class=\"data row20 col2\" >Dave Larsen</td>\n",
       "                        <td id=\"T_2ed5faec_d343_11ec_bb33_803253ddc3dfrow20_col3\" class=\"data row20 col3\" >EM38tv</td>\n",
       "                        <td id=\"T_2ed5faec_d343_11ec_bb33_803253ddc3dfrow20_col4\" class=\"data row20 col4\" >38.893189</td>\n",
       "                        <td id=\"T_2ed5faec_d343_11ec_bb33_803253ddc3dfrow20_col5\" class=\"data row20 col5\" >-92.359458</td>\n",
       "                        <td id=\"T_2ed5faec_d343_11ec_bb33_803253ddc3dfrow20_col6\" class=\"data row20 col6\" >220.000000</td>\n",
       "                        <td id=\"T_2ed5faec_d343_11ec_bb33_803253ddc3dfrow20_col7\" class=\"data row20 col7\" >nan</td>\n",
       "                        <td id=\"T_2ed5faec_d343_11ec_bb33_803253ddc3dfrow20_col8\" class=\"data row20 col8\" >nan</td>\n",
       "                        <td id=\"T_2ed5faec_d343_11ec_bb33_803253ddc3dfrow20_col9\" class=\"data row20 col9\" >nan</td>\n",
       "                        <td id=\"T_2ed5faec_d343_11ec_bb33_803253ddc3dfrow20_col10\" class=\"data row20 col10\" >RM3100</td>\n",
       "                        <td id=\"T_2ed5faec_d343_11ec_bb33_803253ddc3dfrow20_col11\" class=\"data row20 col11\" >MCP9808</td>\n",
       "                        <td id=\"T_2ed5faec_d343_11ec_bb33_803253ddc3dfrow20_col12\" class=\"data row20 col12\" >nan</td>\n",
       "                        <td id=\"T_2ed5faec_d343_11ec_bb33_803253ddc3dfrow20_col13\" class=\"data row20 col13\" >No data logged</td>\n",
       "            </tr>\n",
       "            <tr>\n",
       "                        <th id=\"T_2ed5faec_d343_11ec_bb33_803253ddc3dflevel0_row21\" class=\"row_heading level0 row21\" >22</th>\n",
       "                        <td id=\"T_2ed5faec_d343_11ec_bb33_803253ddc3dfrow21_col0\" class=\"data row21 col0\" >22.000000</td>\n",
       "                        <td id=\"T_2ed5faec_d343_11ec_bb33_803253ddc3dfrow21_col1\" class=\"data row21 col1\" >KD8CGH</td>\n",
       "                        <td id=\"T_2ed5faec_d343_11ec_bb33_803253ddc3dfrow21_col2\" class=\"data row21 col2\" >Robert Benedict</td>\n",
       "                        <td id=\"T_2ed5faec_d343_11ec_bb33_803253ddc3dfrow21_col3\" class=\"data row21 col3\" >EN91he</td>\n",
       "                        <td id=\"T_2ed5faec_d343_11ec_bb33_803253ddc3dfrow21_col4\" class=\"data row21 col4\" >41.198818</td>\n",
       "                        <td id=\"T_2ed5faec_d343_11ec_bb33_803253ddc3dfrow21_col5\" class=\"data row21 col5\" >-81.337331</td>\n",
       "                        <td id=\"T_2ed5faec_d343_11ec_bb33_803253ddc3dfrow21_col6\" class=\"data row21 col6\" >300.000000</td>\n",
       "                        <td id=\"T_2ed5faec_d343_11ec_bb33_803253ddc3dfrow21_col7\" class=\"data row21 col7\" >Grape Gen 1</td>\n",
       "                        <td id=\"T_2ed5faec_d343_11ec_bb33_803253ddc3dfrow21_col8\" class=\"data row21 col8\" >tuned small loop</td>\n",
       "                        <td id=\"T_2ed5faec_d343_11ec_bb33_803253ddc3dfrow21_col9\" class=\"data row21 col9\" >RasPi4B, FLDigi 4.1.13</td>\n",
       "                        <td id=\"T_2ed5faec_d343_11ec_bb33_803253ddc3dfrow21_col10\" class=\"data row21 col10\" >nan</td>\n",
       "                        <td id=\"T_2ed5faec_d343_11ec_bb33_803253ddc3dfrow21_col11\" class=\"data row21 col11\" >nan</td>\n",
       "                        <td id=\"T_2ed5faec_d343_11ec_bb33_803253ddc3dfrow21_col12\" class=\"data row21 col12\" >nan</td>\n",
       "                        <td id=\"T_2ed5faec_d343_11ec_bb33_803253ddc3dfrow21_col13\" class=\"data row21 col13\" >Data logged</td>\n",
       "            </tr>\n",
       "            <tr>\n",
       "                        <th id=\"T_2ed5faec_d343_11ec_bb33_803253ddc3dflevel0_row22\" class=\"row_heading level0 row22\" >23</th>\n",
       "                        <td id=\"T_2ed5faec_d343_11ec_bb33_803253ddc3dfrow22_col0\" class=\"data row22 col0\" >23.000000</td>\n",
       "                        <td id=\"T_2ed5faec_d343_11ec_bb33_803253ddc3dfrow22_col1\" class=\"data row22 col1\" >KD0EAG </td>\n",
       "                        <td id=\"T_2ed5faec_d343_11ec_bb33_803253ddc3dfrow22_col2\" class=\"data row22 col2\" >Dave Witten</td>\n",
       "                        <td id=\"T_2ed5faec_d343_11ec_bb33_803253ddc3dfrow22_col3\" class=\"data row22 col3\" >EM38uw</td>\n",
       "                        <td id=\"T_2ed5faec_d343_11ec_bb33_803253ddc3dfrow22_col4\" class=\"data row22 col4\" >38.922295</td>\n",
       "                        <td id=\"T_2ed5faec_d343_11ec_bb33_803253ddc3dfrow22_col5\" class=\"data row22 col5\" >-92.298173</td>\n",
       "                        <td id=\"T_2ed5faec_d343_11ec_bb33_803253ddc3dfrow22_col6\" class=\"data row22 col6\" >220.000000</td>\n",
       "                        <td id=\"T_2ed5faec_d343_11ec_bb33_803253ddc3dfrow22_col7\" class=\"data row22 col7\" >No_Radio1</td>\n",
       "                        <td id=\"T_2ed5faec_d343_11ec_bb33_803253ddc3dfrow22_col8\" class=\"data row22 col8\" >No_Antenna</td>\n",
       "                        <td id=\"T_2ed5faec_d343_11ec_bb33_803253ddc3dfrow22_col9\" class=\"data row22 col9\" >RasPi-4,  5.4.51-v7l+</td>\n",
       "                        <td id=\"T_2ed5faec_d343_11ec_bb33_803253ddc3dfrow22_col10\" class=\"data row22 col10\" >RM3100</td>\n",
       "                        <td id=\"T_2ed5faec_d343_11ec_bb33_803253ddc3dfrow22_col11\" class=\"data row22 col11\" >MCP9808</td>\n",
       "                        <td id=\"T_2ed5faec_d343_11ec_bb33_803253ddc3dfrow22_col12\" class=\"data row22 col12\" >nan</td>\n",
       "                        <td id=\"T_2ed5faec_d343_11ec_bb33_803253ddc3dfrow22_col13\" class=\"data row22 col13\" >No data logged</td>\n",
       "            </tr>\n",
       "            <tr>\n",
       "                        <th id=\"T_2ed5faec_d343_11ec_bb33_803253ddc3dflevel0_row23\" class=\"row_heading level0 row23\" >24</th>\n",
       "                        <td id=\"T_2ed5faec_d343_11ec_bb33_803253ddc3dfrow23_col0\" class=\"data row23 col0\" >24.000000</td>\n",
       "                        <td id=\"T_2ed5faec_d343_11ec_bb33_803253ddc3dfrow23_col1\" class=\"data row23 col1\" >PA0SLT</td>\n",
       "                        <td id=\"T_2ed5faec_d343_11ec_bb33_803253ddc3dfrow23_col2\" class=\"data row23 col2\" >Drs. Wim APON</td>\n",
       "                        <td id=\"T_2ed5faec_d343_11ec_bb33_803253ddc3dfrow23_col3\" class=\"data row23 col3\" >nan</td>\n",
       "                        <td id=\"T_2ed5faec_d343_11ec_bb33_803253ddc3dfrow23_col4\" class=\"data row23 col4\" >00.000000</td>\n",
       "                        <td id=\"T_2ed5faec_d343_11ec_bb33_803253ddc3dfrow23_col5\" class=\"data row23 col5\" >0.000000</td>\n",
       "                        <td id=\"T_2ed5faec_d343_11ec_bb33_803253ddc3dfrow23_col6\" class=\"data row23 col6\" >0.000000</td>\n",
       "                        <td id=\"T_2ed5faec_d343_11ec_bb33_803253ddc3dfrow23_col7\" class=\"data row23 col7\" >Grape Gen 1</td>\n",
       "                        <td id=\"T_2ed5faec_d343_11ec_bb33_803253ddc3dfrow23_col8\" class=\"data row23 col8\" >nan</td>\n",
       "                        <td id=\"T_2ed5faec_d343_11ec_bb33_803253ddc3dfrow23_col9\" class=\"data row23 col9\" >RasPi4B, FLDigi 4.1.13</td>\n",
       "                        <td id=\"T_2ed5faec_d343_11ec_bb33_803253ddc3dfrow23_col10\" class=\"data row23 col10\" >nan</td>\n",
       "                        <td id=\"T_2ed5faec_d343_11ec_bb33_803253ddc3dfrow23_col11\" class=\"data row23 col11\" >nan</td>\n",
       "                        <td id=\"T_2ed5faec_d343_11ec_bb33_803253ddc3dfrow23_col12\" class=\"data row23 col12\" >nan</td>\n",
       "                        <td id=\"T_2ed5faec_d343_11ec_bb33_803253ddc3dfrow23_col13\" class=\"data row23 col13\" >Data logged</td>\n",
       "            </tr>\n",
       "            <tr>\n",
       "                        <th id=\"T_2ed5faec_d343_11ec_bb33_803253ddc3dflevel0_row24\" class=\"row_heading level0 row24\" >25</th>\n",
       "                        <td id=\"T_2ed5faec_d343_11ec_bb33_803253ddc3dfrow24_col0\" class=\"data row24 col0\" >25.000000</td>\n",
       "                        <td id=\"T_2ed5faec_d343_11ec_bb33_803253ddc3dfrow24_col1\" class=\"data row24 col1\" >K2KGJ</td>\n",
       "                        <td id=\"T_2ed5faec_d343_11ec_bb33_803253ddc3dfrow24_col2\" class=\"data row24 col2\" >Julius Madey</td>\n",
       "                        <td id=\"T_2ed5faec_d343_11ec_bb33_803253ddc3dfrow24_col3\" class=\"data row24 col3\" >FN32fg</td>\n",
       "                        <td id=\"T_2ed5faec_d343_11ec_bb33_803253ddc3dfrow24_col4\" class=\"data row24 col4\" >42.261653</td>\n",
       "                        <td id=\"T_2ed5faec_d343_11ec_bb33_803253ddc3dfrow24_col5\" class=\"data row24 col5\" >-73.541606</td>\n",
       "                        <td id=\"T_2ed5faec_d343_11ec_bb33_803253ddc3dfrow24_col6\" class=\"data row24 col6\" >372.000000</td>\n",
       "                        <td id=\"T_2ed5faec_d343_11ec_bb33_803253ddc3dfrow24_col7\" class=\"data row24 col7\" >nan</td>\n",
       "                        <td id=\"T_2ed5faec_d343_11ec_bb33_803253ddc3dfrow24_col8\" class=\"data row24 col8\" >nan</td>\n",
       "                        <td id=\"T_2ed5faec_d343_11ec_bb33_803253ddc3dfrow24_col9\" class=\"data row24 col9\" >nan</td>\n",
       "                        <td id=\"T_2ed5faec_d343_11ec_bb33_803253ddc3dfrow24_col10\" class=\"data row24 col10\" >RM3100</td>\n",
       "                        <td id=\"T_2ed5faec_d343_11ec_bb33_803253ddc3dfrow24_col11\" class=\"data row24 col11\" >MCP9808</td>\n",
       "                        <td id=\"T_2ed5faec_d343_11ec_bb33_803253ddc3dfrow24_col12\" class=\"data row24 col12\" >nan</td>\n",
       "                        <td id=\"T_2ed5faec_d343_11ec_bb33_803253ddc3dfrow24_col13\" class=\"data row24 col13\" >No data logged</td>\n",
       "            </tr>\n",
       "            <tr>\n",
       "                        <th id=\"T_2ed5faec_d343_11ec_bb33_803253ddc3dflevel0_row25\" class=\"row_heading level0 row25\" >26</th>\n",
       "                        <td id=\"T_2ed5faec_d343_11ec_bb33_803253ddc3dfrow25_col0\" class=\"data row25 col0\" >26.000000</td>\n",
       "                        <td id=\"T_2ed5faec_d343_11ec_bb33_803253ddc3dfrow25_col1\" class=\"data row25 col1\" >KE8QEP</td>\n",
       "                        <td id=\"T_2ed5faec_d343_11ec_bb33_803253ddc3dfrow25_col2\" class=\"data row25 col2\" >David A. Waugh</td>\n",
       "                        <td id=\"T_2ed5faec_d343_11ec_bb33_803253ddc3dfrow25_col3\" class=\"data row25 col3\" >EN91id</td>\n",
       "                        <td id=\"T_2ed5faec_d343_11ec_bb33_803253ddc3dfrow25_col4\" class=\"data row25 col4\" >41.157078</td>\n",
       "                        <td id=\"T_2ed5faec_d343_11ec_bb33_803253ddc3dfrow25_col5\" class=\"data row25 col5\" >-81.251617</td>\n",
       "                        <td id=\"T_2ed5faec_d343_11ec_bb33_803253ddc3dfrow25_col6\" class=\"data row25 col6\" >334.000000</td>\n",
       "                        <td id=\"T_2ed5faec_d343_11ec_bb33_803253ddc3dfrow25_col7\" class=\"data row25 col7\" >Grape Gen 1</td>\n",
       "                        <td id=\"T_2ed5faec_d343_11ec_bb33_803253ddc3dfrow25_col8\" class=\"data row25 col8\" >Tuned Horz Dipole 10? Above gnd</td>\n",
       "                        <td id=\"T_2ed5faec_d343_11ec_bb33_803253ddc3dfrow25_col9\" class=\"data row25 col9\" >RasPi4B, FLDigi 4.1.13</td>\n",
       "                        <td id=\"T_2ed5faec_d343_11ec_bb33_803253ddc3dfrow25_col10\" class=\"data row25 col10\" >nan</td>\n",
       "                        <td id=\"T_2ed5faec_d343_11ec_bb33_803253ddc3dfrow25_col11\" class=\"data row25 col11\" >nan</td>\n",
       "                        <td id=\"T_2ed5faec_d343_11ec_bb33_803253ddc3dfrow25_col12\" class=\"data row25 col12\" >nan</td>\n",
       "                        <td id=\"T_2ed5faec_d343_11ec_bb33_803253ddc3dfrow25_col13\" class=\"data row25 col13\" >No data logged</td>\n",
       "            </tr>\n",
       "            <tr>\n",
       "                        <th id=\"T_2ed5faec_d343_11ec_bb33_803253ddc3dflevel0_row26\" class=\"row_heading level0 row26\" >27</th>\n",
       "                        <td id=\"T_2ed5faec_d343_11ec_bb33_803253ddc3dfrow26_col0\" class=\"data row26 col0\" >27.000000</td>\n",
       "                        <td id=\"T_2ed5faec_d343_11ec_bb33_803253ddc3dfrow26_col1\" class=\"data row26 col1\" >W0DAS</td>\n",
       "                        <td id=\"T_2ed5faec_d343_11ec_bb33_803253ddc3dfrow26_col2\" class=\"data row26 col2\" >David A Swartz</td>\n",
       "                        <td id=\"T_2ed5faec_d343_11ec_bb33_803253ddc3dfrow26_col3\" class=\"data row26 col3\" >DN70kn</td>\n",
       "                        <td id=\"T_2ed5faec_d343_11ec_bb33_803253ddc3dfrow26_col4\" class=\"data row26 col4\" >40.562900</td>\n",
       "                        <td id=\"T_2ed5faec_d343_11ec_bb33_803253ddc3dfrow26_col5\" class=\"data row26 col5\" >-105.108610</td>\n",
       "                        <td id=\"T_2ed5faec_d343_11ec_bb33_803253ddc3dfrow26_col6\" class=\"data row26 col6\" >1546.000000</td>\n",
       "                        <td id=\"T_2ed5faec_d343_11ec_bb33_803253ddc3dfrow26_col7\" class=\"data row26 col7\" >Grape Gen 1</td>\n",
       "                        <td id=\"T_2ed5faec_d343_11ec_bb33_803253ddc3dfrow26_col8\" class=\"data row26 col8\" >30M Dipole</td>\n",
       "                        <td id=\"T_2ed5faec_d343_11ec_bb33_803253ddc3dfrow26_col9\" class=\"data row26 col9\" >RasPi4B, FLDigi 4.1.13</td>\n",
       "                        <td id=\"T_2ed5faec_d343_11ec_bb33_803253ddc3dfrow26_col10\" class=\"data row26 col10\" >nan</td>\n",
       "                        <td id=\"T_2ed5faec_d343_11ec_bb33_803253ddc3dfrow26_col11\" class=\"data row26 col11\" >nan</td>\n",
       "                        <td id=\"T_2ed5faec_d343_11ec_bb33_803253ddc3dfrow26_col12\" class=\"data row26 col12\" >nan</td>\n",
       "                        <td id=\"T_2ed5faec_d343_11ec_bb33_803253ddc3dfrow26_col13\" class=\"data row26 col13\" >No data logged</td>\n",
       "            </tr>\n",
       "            <tr>\n",
       "                        <th id=\"T_2ed5faec_d343_11ec_bb33_803253ddc3dflevel0_row27\" class=\"row_heading level0 row27\" >28</th>\n",
       "                        <td id=\"T_2ed5faec_d343_11ec_bb33_803253ddc3dfrow27_col0\" class=\"data row27 col0\" >28.000000</td>\n",
       "                        <td id=\"T_2ed5faec_d343_11ec_bb33_803253ddc3dfrow27_col1\" class=\"data row27 col1\" >N1JBJ</td>\n",
       "                        <td id=\"T_2ed5faec_d343_11ec_bb33_803253ddc3dfrow27_col2\" class=\"data row27 col2\" >William P N Smith</td>\n",
       "                        <td id=\"T_2ed5faec_d343_11ec_bb33_803253ddc3dfrow27_col3\" class=\"data row27 col3\" >FN42kn</td>\n",
       "                        <td id=\"T_2ed5faec_d343_11ec_bb33_803253ddc3dfrow27_col4\" class=\"data row27 col4\" >42.569956</td>\n",
       "                        <td id=\"T_2ed5faec_d343_11ec_bb33_803253ddc3dfrow27_col5\" class=\"data row27 col5\" >-71.091370</td>\n",
       "                        <td id=\"T_2ed5faec_d343_11ec_bb33_803253ddc3dfrow27_col6\" class=\"data row27 col6\" >31.000000</td>\n",
       "                        <td id=\"T_2ed5faec_d343_11ec_bb33_803253ddc3dfrow27_col7\" class=\"data row27 col7\" >Grape Gen 1</td>\n",
       "                        <td id=\"T_2ed5faec_d343_11ec_bb33_803253ddc3dfrow27_col8\" class=\"data row27 col8\" >40M Homebrew Dipole</td>\n",
       "                        <td id=\"T_2ed5faec_d343_11ec_bb33_803253ddc3dfrow27_col9\" class=\"data row27 col9\" >RasPi4B, FLDigi 4.1.13</td>\n",
       "                        <td id=\"T_2ed5faec_d343_11ec_bb33_803253ddc3dfrow27_col10\" class=\"data row27 col10\" >nan</td>\n",
       "                        <td id=\"T_2ed5faec_d343_11ec_bb33_803253ddc3dfrow27_col11\" class=\"data row27 col11\" >nan</td>\n",
       "                        <td id=\"T_2ed5faec_d343_11ec_bb33_803253ddc3dfrow27_col12\" class=\"data row27 col12\" >nan</td>\n",
       "                        <td id=\"T_2ed5faec_d343_11ec_bb33_803253ddc3dfrow27_col13\" class=\"data row27 col13\" >No data logged</td>\n",
       "            </tr>\n",
       "            <tr>\n",
       "                        <th id=\"T_2ed5faec_d343_11ec_bb33_803253ddc3dflevel0_row28\" class=\"row_heading level0 row28\" >29</th>\n",
       "                        <td id=\"T_2ed5faec_d343_11ec_bb33_803253ddc3dfrow28_col0\" class=\"data row28 col0\" >29.000000</td>\n",
       "                        <td id=\"T_2ed5faec_d343_11ec_bb33_803253ddc3dfrow28_col1\" class=\"data row28 col1\" >W7LUX</td>\n",
       "                        <td id=\"T_2ed5faec_d343_11ec_bb33_803253ddc3dfrow28_col2\" class=\"data row28 col2\" >Joseph R Hobart [Joe Last]</td>\n",
       "                        <td id=\"T_2ed5faec_d343_11ec_bb33_803253ddc3dfrow28_col3\" class=\"data row28 col3\" >DM45dc</td>\n",
       "                        <td id=\"T_2ed5faec_d343_11ec_bb33_803253ddc3dfrow28_col4\" class=\"data row28 col4\" >35.099780</td>\n",
       "                        <td id=\"T_2ed5faec_d343_11ec_bb33_803253ddc3dfrow28_col5\" class=\"data row28 col5\" >-111.693100</td>\n",
       "                        <td id=\"T_2ed5faec_d343_11ec_bb33_803253ddc3dfrow28_col6\" class=\"data row28 col6\" >2091.000000</td>\n",
       "                        <td id=\"T_2ed5faec_d343_11ec_bb33_803253ddc3dfrow28_col7\" class=\"data row28 col7\" >nan</td>\n",
       "                        <td id=\"T_2ed5faec_d343_11ec_bb33_803253ddc3dfrow28_col8\" class=\"data row28 col8\" >nan</td>\n",
       "                        <td id=\"T_2ed5faec_d343_11ec_bb33_803253ddc3dfrow28_col9\" class=\"data row28 col9\" >nan</td>\n",
       "                        <td id=\"T_2ed5faec_d343_11ec_bb33_803253ddc3dfrow28_col10\" class=\"data row28 col10\" >nan</td>\n",
       "                        <td id=\"T_2ed5faec_d343_11ec_bb33_803253ddc3dfrow28_col11\" class=\"data row28 col11\" >nan</td>\n",
       "                        <td id=\"T_2ed5faec_d343_11ec_bb33_803253ddc3dfrow28_col12\" class=\"data row28 col12\" >nan</td>\n",
       "                        <td id=\"T_2ed5faec_d343_11ec_bb33_803253ddc3dfrow28_col13\" class=\"data row28 col13\" >Data logged</td>\n",
       "            </tr>\n",
       "            <tr>\n",
       "                        <th id=\"T_2ed5faec_d343_11ec_bb33_803253ddc3dflevel0_row29\" class=\"row_heading level0 row29\" >30</th>\n",
       "                        <td id=\"T_2ed5faec_d343_11ec_bb33_803253ddc3dfrow29_col0\" class=\"data row29 col0\" >30.000000</td>\n",
       "                        <td id=\"T_2ed5faec_d343_11ec_bb33_803253ddc3dfrow29_col1\" class=\"data row29 col1\" >K4BSE</td>\n",
       "                        <td id=\"T_2ed5faec_d343_11ec_bb33_803253ddc3dfrow29_col2\" class=\"data row29 col2\" >Jim Farmer</td>\n",
       "                        <td id=\"T_2ed5faec_d343_11ec_bb33_803253ddc3dfrow29_col3\" class=\"data row29 col3\" >EM73sj</td>\n",
       "                        <td id=\"T_2ed5faec_d343_11ec_bb33_803253ddc3dfrow29_col4\" class=\"data row29 col4\" >33.391626</td>\n",
       "                        <td id=\"T_2ed5faec_d343_11ec_bb33_803253ddc3dfrow29_col5\" class=\"data row29 col5\" >-84.471737</td>\n",
       "                        <td id=\"T_2ed5faec_d343_11ec_bb33_803253ddc3dfrow29_col6\" class=\"data row29 col6\" >240.000000</td>\n",
       "                        <td id=\"T_2ed5faec_d343_11ec_bb33_803253ddc3dfrow29_col7\" class=\"data row29 col7\" >Grape Gen 1 Rcvr 1</td>\n",
       "                        <td id=\"T_2ed5faec_d343_11ec_bb33_803253ddc3dfrow29_col8\" class=\"data row29 col8\" >Loop</td>\n",
       "                        <td id=\"T_2ed5faec_d343_11ec_bb33_803253ddc3dfrow29_col9\" class=\"data row29 col9\" >RasPi4B, FLDigi 4.1.13</td>\n",
       "                        <td id=\"T_2ed5faec_d343_11ec_bb33_803253ddc3dfrow29_col10\" class=\"data row29 col10\" >nan</td>\n",
       "                        <td id=\"T_2ed5faec_d343_11ec_bb33_803253ddc3dfrow29_col11\" class=\"data row29 col11\" >nan</td>\n",
       "                        <td id=\"T_2ed5faec_d343_11ec_bb33_803253ddc3dfrow29_col12\" class=\"data row29 col12\" >nan</td>\n",
       "                        <td id=\"T_2ed5faec_d343_11ec_bb33_803253ddc3dfrow29_col13\" class=\"data row29 col13\" >Data logged</td>\n",
       "            </tr>\n",
       "            <tr>\n",
       "                        <th id=\"T_2ed5faec_d343_11ec_bb33_803253ddc3dflevel0_row30\" class=\"row_heading level0 row30\" >31</th>\n",
       "                        <td id=\"T_2ed5faec_d343_11ec_bb33_803253ddc3dfrow30_col0\" class=\"data row30 col0\" >31.000000</td>\n",
       "                        <td id=\"T_2ed5faec_d343_11ec_bb33_803253ddc3dfrow30_col1\" class=\"data row30 col1\" >W1MTI</td>\n",
       "                        <td id=\"T_2ed5faec_d343_11ec_bb33_803253ddc3dfrow30_col2\" class=\"data row30 col2\" >Vladimir A Goncharov</td>\n",
       "                        <td id=\"T_2ed5faec_d343_11ec_bb33_803253ddc3dfrow30_col3\" class=\"data row30 col3\" >FN42fl</td>\n",
       "                        <td id=\"T_2ed5faec_d343_11ec_bb33_803253ddc3dfrow30_col4\" class=\"data row30 col4\" >42.498976</td>\n",
       "                        <td id=\"T_2ed5faec_d343_11ec_bb33_803253ddc3dfrow30_col5\" class=\"data row30 col5\" >-71.582575</td>\n",
       "                        <td id=\"T_2ed5faec_d343_11ec_bb33_803253ddc3dfrow30_col6\" class=\"data row30 col6\" >100.000000</td>\n",
       "                        <td id=\"T_2ed5faec_d343_11ec_bb33_803253ddc3dfrow30_col7\" class=\"data row30 col7\" >Grape Gen 1 Rcvr 1</td>\n",
       "                        <td id=\"T_2ed5faec_d343_11ec_bb33_803253ddc3dfrow30_col8\" class=\"data row30 col8\" >long wire</td>\n",
       "                        <td id=\"T_2ed5faec_d343_11ec_bb33_803253ddc3dfrow30_col9\" class=\"data row30 col9\" >RasPi4B, FLDigi 4.1.13</td>\n",
       "                        <td id=\"T_2ed5faec_d343_11ec_bb33_803253ddc3dfrow30_col10\" class=\"data row30 col10\" >nan</td>\n",
       "                        <td id=\"T_2ed5faec_d343_11ec_bb33_803253ddc3dfrow30_col11\" class=\"data row30 col11\" >nan</td>\n",
       "                        <td id=\"T_2ed5faec_d343_11ec_bb33_803253ddc3dfrow30_col12\" class=\"data row30 col12\" >nan</td>\n",
       "                        <td id=\"T_2ed5faec_d343_11ec_bb33_803253ddc3dfrow30_col13\" class=\"data row30 col13\" >No data logged</td>\n",
       "            </tr>\n",
       "            <tr>\n",
       "                        <th id=\"T_2ed5faec_d343_11ec_bb33_803253ddc3dflevel0_row31\" class=\"row_heading level0 row31\" >32</th>\n",
       "                        <td id=\"T_2ed5faec_d343_11ec_bb33_803253ddc3dfrow31_col0\" class=\"data row31 col0\" >32.000000</td>\n",
       "                        <td id=\"T_2ed5faec_d343_11ec_bb33_803253ddc3dfrow31_col1\" class=\"data row31 col1\" >AD0RR</td>\n",
       "                        <td id=\"T_2ed5faec_d343_11ec_bb33_803253ddc3dfrow31_col2\" class=\"data row31 col2\" >Todd Christell</td>\n",
       "                        <td id=\"T_2ed5faec_d343_11ec_bb33_803253ddc3dfrow31_col3\" class=\"data row31 col3\" >EM37je</td>\n",
       "                        <td id=\"T_2ed5faec_d343_11ec_bb33_803253ddc3dfrow31_col4\" class=\"data row31 col4\" >37.185100</td>\n",
       "                        <td id=\"T_2ed5faec_d343_11ec_bb33_803253ddc3dfrow31_col5\" class=\"data row31 col5\" >-93.235227</td>\n",
       "                        <td id=\"T_2ed5faec_d343_11ec_bb33_803253ddc3dfrow31_col6\" class=\"data row31 col6\" >382.000000</td>\n",
       "                        <td id=\"T_2ed5faec_d343_11ec_bb33_803253ddc3dfrow31_col7\" class=\"data row31 col7\" >nan</td>\n",
       "                        <td id=\"T_2ed5faec_d343_11ec_bb33_803253ddc3dfrow31_col8\" class=\"data row31 col8\" >30 meter dipole</td>\n",
       "                        <td id=\"T_2ed5faec_d343_11ec_bb33_803253ddc3dfrow31_col9\" class=\"data row31 col9\" >nan</td>\n",
       "                        <td id=\"T_2ed5faec_d343_11ec_bb33_803253ddc3dfrow31_col10\" class=\"data row31 col10\" >nan</td>\n",
       "                        <td id=\"T_2ed5faec_d343_11ec_bb33_803253ddc3dfrow31_col11\" class=\"data row31 col11\" >nan</td>\n",
       "                        <td id=\"T_2ed5faec_d343_11ec_bb33_803253ddc3dfrow31_col12\" class=\"data row31 col12\" >nan</td>\n",
       "                        <td id=\"T_2ed5faec_d343_11ec_bb33_803253ddc3dfrow31_col13\" class=\"data row31 col13\" >No data logged</td>\n",
       "            </tr>\n",
       "            <tr>\n",
       "                        <th id=\"T_2ed5faec_d343_11ec_bb33_803253ddc3dflevel0_row32\" class=\"row_heading level0 row32\" >33</th>\n",
       "                        <td id=\"T_2ed5faec_d343_11ec_bb33_803253ddc3dfrow32_col0\" class=\"data row32 col0\" >33.000000</td>\n",
       "                        <td id=\"T_2ed5faec_d343_11ec_bb33_803253ddc3dfrow32_col1\" class=\"data row32 col1\" >AB1XB</td>\n",
       "                        <td id=\"T_2ed5faec_d343_11ec_bb33_803253ddc3dfrow32_col2\" class=\"data row32 col2\" >Bill Blackwell</td>\n",
       "                        <td id=\"T_2ed5faec_d343_11ec_bb33_803253ddc3dfrow32_col3\" class=\"data row32 col3\" >FN42el</td>\n",
       "                        <td id=\"T_2ed5faec_d343_11ec_bb33_803253ddc3dfrow32_col4\" class=\"data row32 col4\" >42.498300</td>\n",
       "                        <td id=\"T_2ed5faec_d343_11ec_bb33_803253ddc3dfrow32_col5\" class=\"data row32 col5\" >-71.590700</td>\n",
       "                        <td id=\"T_2ed5faec_d343_11ec_bb33_803253ddc3dfrow32_col6\" class=\"data row32 col6\" >137.000000</td>\n",
       "                        <td id=\"T_2ed5faec_d343_11ec_bb33_803253ddc3dfrow32_col7\" class=\"data row32 col7\" >Grape Gen 1 Rcvr 1</td>\n",
       "                        <td id=\"T_2ed5faec_d343_11ec_bb33_803253ddc3dfrow32_col8\" class=\"data row32 col8\" >30M dipole</td>\n",
       "                        <td id=\"T_2ed5faec_d343_11ec_bb33_803253ddc3dfrow32_col9\" class=\"data row32 col9\" >RasPi4B, FLDigi V4.1.13</td>\n",
       "                        <td id=\"T_2ed5faec_d343_11ec_bb33_803253ddc3dfrow32_col10\" class=\"data row32 col10\" >nan</td>\n",
       "                        <td id=\"T_2ed5faec_d343_11ec_bb33_803253ddc3dfrow32_col11\" class=\"data row32 col11\" >nan</td>\n",
       "                        <td id=\"T_2ed5faec_d343_11ec_bb33_803253ddc3dfrow32_col12\" class=\"data row32 col12\" >nan</td>\n",
       "                        <td id=\"T_2ed5faec_d343_11ec_bb33_803253ddc3dfrow32_col13\" class=\"data row32 col13\" >Data logged</td>\n",
       "            </tr>\n",
       "            <tr>\n",
       "                        <th id=\"T_2ed5faec_d343_11ec_bb33_803253ddc3dflevel0_row33\" class=\"row_heading level0 row33\" >34</th>\n",
       "                        <td id=\"T_2ed5faec_d343_11ec_bb33_803253ddc3dfrow33_col0\" class=\"data row33 col0\" >34.000000</td>\n",
       "                        <td id=\"T_2ed5faec_d343_11ec_bb33_803253ddc3dfrow33_col1\" class=\"data row33 col1\" >N2RKL</td>\n",
       "                        <td id=\"T_2ed5faec_d343_11ec_bb33_803253ddc3dfrow33_col2\" class=\"data row33 col2\" >Bill Owens</td>\n",
       "                        <td id=\"T_2ed5faec_d343_11ec_bb33_803253ddc3dfrow33_col3\" class=\"data row33 col3\" >FN13wd</td>\n",
       "                        <td id=\"T_2ed5faec_d343_11ec_bb33_803253ddc3dfrow33_col4\" class=\"data row33 col4\" >43.163188</td>\n",
       "                        <td id=\"T_2ed5faec_d343_11ec_bb33_803253ddc3dfrow33_col5\" class=\"data row33 col5\" >-76.125350</td>\n",
       "                        <td id=\"T_2ed5faec_d343_11ec_bb33_803253ddc3dfrow33_col6\" class=\"data row33 col6\" >120.000000</td>\n",
       "                        <td id=\"T_2ed5faec_d343_11ec_bb33_803253ddc3dfrow33_col7\" class=\"data row33 col7\" >Grape Gen 1 Rcvr 1</td>\n",
       "                        <td id=\"T_2ed5faec_d343_11ec_bb33_803253ddc3dfrow33_col8\" class=\"data row33 col8\" >magnetic loop</td>\n",
       "                        <td id=\"T_2ed5faec_d343_11ec_bb33_803253ddc3dfrow33_col9\" class=\"data row33 col9\" >RasPi4B, FLDigi V4.1.13</td>\n",
       "                        <td id=\"T_2ed5faec_d343_11ec_bb33_803253ddc3dfrow33_col10\" class=\"data row33 col10\" >nan</td>\n",
       "                        <td id=\"T_2ed5faec_d343_11ec_bb33_803253ddc3dfrow33_col11\" class=\"data row33 col11\" >nan</td>\n",
       "                        <td id=\"T_2ed5faec_d343_11ec_bb33_803253ddc3dfrow33_col12\" class=\"data row33 col12\" >nan</td>\n",
       "                        <td id=\"T_2ed5faec_d343_11ec_bb33_803253ddc3dfrow33_col13\" class=\"data row33 col13\" >Data logged</td>\n",
       "            </tr>\n",
       "            <tr>\n",
       "                        <th id=\"T_2ed5faec_d343_11ec_bb33_803253ddc3dflevel0_row34\" class=\"row_heading level0 row34\" >35</th>\n",
       "                        <td id=\"T_2ed5faec_d343_11ec_bb33_803253ddc3dfrow34_col0\" class=\"data row34 col0\" >35.000000</td>\n",
       "                        <td id=\"T_2ed5faec_d343_11ec_bb33_803253ddc3dfrow34_col1\" class=\"data row34 col1\" >PA0RWT</td>\n",
       "                        <td id=\"T_2ed5faec_d343_11ec_bb33_803253ddc3dfrow34_col2\" class=\"data row34 col2\" >Robert Wagenvoort</td>\n",
       "                        <td id=\"T_2ed5faec_d343_11ec_bb33_803253ddc3dfrow34_col3\" class=\"data row34 col3\" >JO33lg</td>\n",
       "                        <td id=\"T_2ed5faec_d343_11ec_bb33_803253ddc3dfrow34_col4\" class=\"data row34 col4\" >53.257530</td>\n",
       "                        <td id=\"T_2ed5faec_d343_11ec_bb33_803253ddc3dfrow34_col5\" class=\"data row34 col5\" >6.958064</td>\n",
       "                        <td id=\"T_2ed5faec_d343_11ec_bb33_803253ddc3dfrow34_col6\" class=\"data row34 col6\" >-2.000000</td>\n",
       "                        <td id=\"T_2ed5faec_d343_11ec_bb33_803253ddc3dfrow34_col7\" class=\"data row34 col7\" >Flex 1500</td>\n",
       "                        <td id=\"T_2ed5faec_d343_11ec_bb33_803253ddc3dfrow34_col8\" class=\"data row34 col8\" >Active E-field probe; MiniWhip</td>\n",
       "                        <td id=\"T_2ed5faec_d343_11ec_bb33_803253ddc3dfrow34_col9\" class=\"data row34 col9\" >RasPi3B+, Fldigi 4.1.13</td>\n",
       "                        <td id=\"T_2ed5faec_d343_11ec_bb33_803253ddc3dfrow34_col10\" class=\"data row34 col10\" >nan</td>\n",
       "                        <td id=\"T_2ed5faec_d343_11ec_bb33_803253ddc3dfrow34_col11\" class=\"data row34 col11\" >nan</td>\n",
       "                        <td id=\"T_2ed5faec_d343_11ec_bb33_803253ddc3dfrow34_col12\" class=\"data row34 col12\" >nan</td>\n",
       "                        <td id=\"T_2ed5faec_d343_11ec_bb33_803253ddc3dfrow34_col13\" class=\"data row34 col13\" >Data logged</td>\n",
       "            </tr>\n",
       "            <tr>\n",
       "                        <th id=\"T_2ed5faec_d343_11ec_bb33_803253ddc3dflevel0_row35\" class=\"row_heading level0 row35\" >36</th>\n",
       "                        <td id=\"T_2ed5faec_d343_11ec_bb33_803253ddc3dfrow35_col0\" class=\"data row35 col0\" >36.000000</td>\n",
       "                        <td id=\"T_2ed5faec_d343_11ec_bb33_803253ddc3dfrow35_col1\" class=\"data row35 col1\" >KB1HFT</td>\n",
       "                        <td id=\"T_2ed5faec_d343_11ec_bb33_803253ddc3dfrow35_col2\" class=\"data row35 col2\" >George Kavanagh</td>\n",
       "                        <td id=\"T_2ed5faec_d343_11ec_bb33_803253ddc3dfrow35_col3\" class=\"data row35 col3\" >FN42hp</td>\n",
       "                        <td id=\"T_2ed5faec_d343_11ec_bb33_803253ddc3dfrow35_col4\" class=\"data row35 col4\" >42.637539</td>\n",
       "                        <td id=\"T_2ed5faec_d343_11ec_bb33_803253ddc3dfrow35_col5\" class=\"data row35 col5\" >-71.384285</td>\n",
       "                        <td id=\"T_2ed5faec_d343_11ec_bb33_803253ddc3dfrow35_col6\" class=\"data row35 col6\" >150.000000</td>\n",
       "                        <td id=\"T_2ed5faec_d343_11ec_bb33_803253ddc3dfrow35_col7\" class=\"data row35 col7\" >Grape Gen 1 Rcvr 1</td>\n",
       "                        <td id=\"T_2ed5faec_d343_11ec_bb33_803253ddc3dfrow35_col8\" class=\"data row35 col8\" >40m Inverted Vee</td>\n",
       "                        <td id=\"T_2ed5faec_d343_11ec_bb33_803253ddc3dfrow35_col9\" class=\"data row35 col9\" >RasPi4B, Raspias OS, FLDigi V4.1.13</td>\n",
       "                        <td id=\"T_2ed5faec_d343_11ec_bb33_803253ddc3dfrow35_col10\" class=\"data row35 col10\" >nan</td>\n",
       "                        <td id=\"T_2ed5faec_d343_11ec_bb33_803253ddc3dfrow35_col11\" class=\"data row35 col11\" >nan</td>\n",
       "                        <td id=\"T_2ed5faec_d343_11ec_bb33_803253ddc3dfrow35_col12\" class=\"data row35 col12\" >nan</td>\n",
       "                        <td id=\"T_2ed5faec_d343_11ec_bb33_803253ddc3dfrow35_col13\" class=\"data row35 col13\" >Data logged</td>\n",
       "            </tr>\n",
       "            <tr>\n",
       "                        <th id=\"T_2ed5faec_d343_11ec_bb33_803253ddc3dflevel0_row36\" class=\"row_heading level0 row36\" >37</th>\n",
       "                        <td id=\"T_2ed5faec_d343_11ec_bb33_803253ddc3dfrow36_col0\" class=\"data row36 col0\" >37.000000</td>\n",
       "                        <td id=\"T_2ed5faec_d343_11ec_bb33_803253ddc3dfrow36_col1\" class=\"data row36 col1\" >N8OBJ</td>\n",
       "                        <td id=\"T_2ed5faec_d343_11ec_bb33_803253ddc3dfrow36_col2\" class=\"data row36 col2\" >John C. Gibbons</td>\n",
       "                        <td id=\"T_2ed5faec_d343_11ec_bb33_803253ddc3dfrow36_col3\" class=\"data row36 col3\" >EN91fh</td>\n",
       "                        <td id=\"T_2ed5faec_d343_11ec_bb33_803253ddc3dfrow36_col4\" class=\"data row36 col4\" >41.321963</td>\n",
       "                        <td id=\"T_2ed5faec_d343_11ec_bb33_803253ddc3dfrow36_col5\" class=\"data row36 col5\" >-81.504739</td>\n",
       "                        <td id=\"T_2ed5faec_d343_11ec_bb33_803253ddc3dfrow36_col6\" class=\"data row36 col6\" >285.000000</td>\n",
       "                        <td id=\"T_2ed5faec_d343_11ec_bb33_803253ddc3dfrow36_col7\" class=\"data row36 col7\" >Grape Gen 2</td>\n",
       "                        <td id=\"T_2ed5faec_d343_11ec_bb33_803253ddc3dfrow36_col8\" class=\"data row36 col8\" >DX Eng RF-PRO-1B Mag Loop /w N8OBJ preamp</td>\n",
       "                        <td id=\"T_2ed5faec_d343_11ec_bb33_803253ddc3dfrow36_col9\" class=\"data row36 col9\" >RasPi4B</td>\n",
       "                        <td id=\"T_2ed5faec_d343_11ec_bb33_803253ddc3dfrow36_col10\" class=\"data row36 col10\" >nan</td>\n",
       "                        <td id=\"T_2ed5faec_d343_11ec_bb33_803253ddc3dfrow36_col11\" class=\"data row36 col11\" >nan</td>\n",
       "                        <td id=\"T_2ed5faec_d343_11ec_bb33_803253ddc3dfrow36_col12\" class=\"data row36 col12\" >nan</td>\n",
       "                        <td id=\"T_2ed5faec_d343_11ec_bb33_803253ddc3dfrow36_col13\" class=\"data row36 col13\" >No data logged</td>\n",
       "            </tr>\n",
       "            <tr>\n",
       "                        <th id=\"T_2ed5faec_d343_11ec_bb33_803253ddc3dflevel0_row37\" class=\"row_heading level0 row37\" >38</th>\n",
       "                        <td id=\"T_2ed5faec_d343_11ec_bb33_803253ddc3dfrow37_col0\" class=\"data row37 col0\" >38.000000</td>\n",
       "                        <td id=\"T_2ed5faec_d343_11ec_bb33_803253ddc3dfrow37_col1\" class=\"data row37 col1\" >WC0Y</td>\n",
       "                        <td id=\"T_2ed5faec_d343_11ec_bb33_803253ddc3dfrow37_col2\" class=\"data row37 col2\" >Edward Hall (Ward)</td>\n",
       "                        <td id=\"T_2ed5faec_d343_11ec_bb33_803253ddc3dfrow37_col3\" class=\"data row37 col3\" >EN71ia</td>\n",
       "                        <td id=\"T_2ed5faec_d343_11ec_bb33_803253ddc3dfrow37_col4\" class=\"data row37 col4\" >41.019477</td>\n",
       "                        <td id=\"T_2ed5faec_d343_11ec_bb33_803253ddc3dfrow37_col5\" class=\"data row37 col5\" >-85.292530</td>\n",
       "                        <td id=\"T_2ed5faec_d343_11ec_bb33_803253ddc3dfrow37_col6\" class=\"data row37 col6\" >237.000000</td>\n",
       "                        <td id=\"T_2ed5faec_d343_11ec_bb33_803253ddc3dfrow37_col7\" class=\"data row37 col7\" >Grape Gen 1 Rcvr 1</td>\n",
       "                        <td id=\"T_2ed5faec_d343_11ec_bb33_803253ddc3dfrow37_col8\" class=\"data row37 col8\" >EWE Wire</td>\n",
       "                        <td id=\"T_2ed5faec_d343_11ec_bb33_803253ddc3dfrow37_col9\" class=\"data row37 col9\" >RasPi4B, Raspias OS, FLDigi V4.1.13</td>\n",
       "                        <td id=\"T_2ed5faec_d343_11ec_bb33_803253ddc3dfrow37_col10\" class=\"data row37 col10\" >nan</td>\n",
       "                        <td id=\"T_2ed5faec_d343_11ec_bb33_803253ddc3dfrow37_col11\" class=\"data row37 col11\" >nan</td>\n",
       "                        <td id=\"T_2ed5faec_d343_11ec_bb33_803253ddc3dfrow37_col12\" class=\"data row37 col12\" >nan</td>\n",
       "                        <td id=\"T_2ed5faec_d343_11ec_bb33_803253ddc3dfrow37_col13\" class=\"data row37 col13\" >Data logged</td>\n",
       "            </tr>\n",
       "            <tr>\n",
       "                        <th id=\"T_2ed5faec_d343_11ec_bb33_803253ddc3dflevel0_row38\" class=\"row_heading level0 row38\" >39</th>\n",
       "                        <td id=\"T_2ed5faec_d343_11ec_bb33_803253ddc3dfrow38_col0\" class=\"data row38 col0\" >39.000000</td>\n",
       "                        <td id=\"T_2ed5faec_d343_11ec_bb33_803253ddc3dfrow38_col1\" class=\"data row38 col1\" >KM4YMI</td>\n",
       "                        <td id=\"T_2ed5faec_d343_11ec_bb33_803253ddc3dfrow38_col2\" class=\"data row38 col2\" >Beau Bruce</td>\n",
       "                        <td id=\"T_2ed5faec_d343_11ec_bb33_803253ddc3dfrow38_col3\" class=\"data row38 col3\" >EM73ut</td>\n",
       "                        <td id=\"T_2ed5faec_d343_11ec_bb33_803253ddc3dfrow38_col4\" class=\"data row38 col4\" >33.831250</td>\n",
       "                        <td id=\"T_2ed5faec_d343_11ec_bb33_803253ddc3dfrow38_col5\" class=\"data row38 col5\" >-84.280400</td>\n",
       "                        <td id=\"T_2ed5faec_d343_11ec_bb33_803253ddc3dfrow38_col6\" class=\"data row38 col6\" >316.000000</td>\n",
       "                        <td id=\"T_2ed5faec_d343_11ec_bb33_803253ddc3dfrow38_col7\" class=\"data row38 col7\" >Grape Gen 1 Rcvr 1</td>\n",
       "                        <td id=\"T_2ed5faec_d343_11ec_bb33_803253ddc3dfrow38_col8\" class=\"data row38 col8\" >tuned loop</td>\n",
       "                        <td id=\"T_2ed5faec_d343_11ec_bb33_803253ddc3dfrow38_col9\" class=\"data row38 col9\" >RasPi3B+, Raspian OS, FLDigi V4.1.13</td>\n",
       "                        <td id=\"T_2ed5faec_d343_11ec_bb33_803253ddc3dfrow38_col10\" class=\"data row38 col10\" >nan</td>\n",
       "                        <td id=\"T_2ed5faec_d343_11ec_bb33_803253ddc3dfrow38_col11\" class=\"data row38 col11\" >nan</td>\n",
       "                        <td id=\"T_2ed5faec_d343_11ec_bb33_803253ddc3dfrow38_col12\" class=\"data row38 col12\" >nan</td>\n",
       "                        <td id=\"T_2ed5faec_d343_11ec_bb33_803253ddc3dfrow38_col13\" class=\"data row38 col13\" >Data logged</td>\n",
       "            </tr>\n",
       "            <tr>\n",
       "                        <th id=\"T_2ed5faec_d343_11ec_bb33_803253ddc3dflevel0_row39\" class=\"row_heading level0 row39\" >40</th>\n",
       "                        <td id=\"T_2ed5faec_d343_11ec_bb33_803253ddc3dfrow39_col0\" class=\"data row39 col0\" >40.000000</td>\n",
       "                        <td id=\"T_2ed5faec_d343_11ec_bb33_803253ddc3dfrow39_col1\" class=\"data row39 col1\" >AC0G</td>\n",
       "                        <td id=\"T_2ed5faec_d343_11ec_bb33_803253ddc3dfrow39_col2\" class=\"data row39 col2\" >Michael James Hauan</td>\n",
       "                        <td id=\"T_2ed5faec_d343_11ec_bb33_803253ddc3dfrow39_col3\" class=\"data row39 col3\" >EM38ww</td>\n",
       "                        <td id=\"T_2ed5faec_d343_11ec_bb33_803253ddc3dfrow39_col4\" class=\"data row39 col4\" >38.918366</td>\n",
       "                        <td id=\"T_2ed5faec_d343_11ec_bb33_803253ddc3dfrow39_col5\" class=\"data row39 col5\" >-92.127864</td>\n",
       "                        <td id=\"T_2ed5faec_d343_11ec_bb33_803253ddc3dfrow39_col6\" class=\"data row39 col6\" >264.000000</td>\n",
       "                        <td id=\"T_2ed5faec_d343_11ec_bb33_803253ddc3dfrow39_col7\" class=\"data row39 col7\" >OpenHPSDR</td>\n",
       "                        <td id=\"T_2ed5faec_d343_11ec_bb33_803253ddc3dfrow39_col8\" class=\"data row39 col8\" >wire antenna</td>\n",
       "                        <td id=\"T_2ed5faec_d343_11ec_bb33_803253ddc3dfrow39_col9\" class=\"data row39 col9\" >RasPi3B+, Raspian OS, FLDigi V4.1.13</td>\n",
       "                        <td id=\"T_2ed5faec_d343_11ec_bb33_803253ddc3dfrow39_col10\" class=\"data row39 col10\" >nan</td>\n",
       "                        <td id=\"T_2ed5faec_d343_11ec_bb33_803253ddc3dfrow39_col11\" class=\"data row39 col11\" >nan</td>\n",
       "                        <td id=\"T_2ed5faec_d343_11ec_bb33_803253ddc3dfrow39_col12\" class=\"data row39 col12\" >nan</td>\n",
       "                        <td id=\"T_2ed5faec_d343_11ec_bb33_803253ddc3dfrow39_col13\" class=\"data row39 col13\" >Data logged</td>\n",
       "            </tr>\n",
       "            <tr>\n",
       "                        <th id=\"T_2ed5faec_d343_11ec_bb33_803253ddc3dflevel0_row40\" class=\"row_heading level0 row40\" >41</th>\n",
       "                        <td id=\"T_2ed5faec_d343_11ec_bb33_803253ddc3dfrow40_col0\" class=\"data row40 col0\" >41.000000</td>\n",
       "                        <td id=\"T_2ed5faec_d343_11ec_bb33_803253ddc3dfrow40_col1\" class=\"data row40 col1\" >N8ET</td>\n",
       "                        <td id=\"T_2ed5faec_d343_11ec_bb33_803253ddc3dfrow40_col2\" class=\"data row40 col2\" >Bill Kelsey</td>\n",
       "                        <td id=\"T_2ed5faec_d343_11ec_bb33_803253ddc3dfrow40_col3\" class=\"data row40 col3\" >EN80ex</td>\n",
       "                        <td id=\"T_2ed5faec_d343_11ec_bb33_803253ddc3dfrow40_col4\" class=\"data row40 col4\" >40.993667</td>\n",
       "                        <td id=\"T_2ed5faec_d343_11ec_bb33_803253ddc3dfrow40_col5\" class=\"data row40 col5\" >-83.655641</td>\n",
       "                        <td id=\"T_2ed5faec_d343_11ec_bb33_803253ddc3dfrow40_col6\" class=\"data row40 col6\" >243.000000</td>\n",
       "                        <td id=\"T_2ed5faec_d343_11ec_bb33_803253ddc3dfrow40_col7\" class=\"data row40 col7\" >Grape Gen 1 Rcvr 1</td>\n",
       "                        <td id=\"T_2ed5faec_d343_11ec_bb33_803253ddc3dfrow40_col8\" class=\"data row40 col8\" >30m vertical</td>\n",
       "                        <td id=\"T_2ed5faec_d343_11ec_bb33_803253ddc3dfrow40_col9\" class=\"data row40 col9\" >RasPi4B, Raspias OS, FLDigi V4.1.13</td>\n",
       "                        <td id=\"T_2ed5faec_d343_11ec_bb33_803253ddc3dfrow40_col10\" class=\"data row40 col10\" >nan</td>\n",
       "                        <td id=\"T_2ed5faec_d343_11ec_bb33_803253ddc3dfrow40_col11\" class=\"data row40 col11\" >nan</td>\n",
       "                        <td id=\"T_2ed5faec_d343_11ec_bb33_803253ddc3dfrow40_col12\" class=\"data row40 col12\" >nan</td>\n",
       "                        <td id=\"T_2ed5faec_d343_11ec_bb33_803253ddc3dfrow40_col13\" class=\"data row40 col13\" >Data logged</td>\n",
       "            </tr>\n",
       "    </tbody></table>"
      ],
      "text/plain": [
       "<pandas.io.formats.style.Styler at 0x7fdafba205f8>"
      ]
     },
     "execution_count": 31,
     "metadata": {},
     "output_type": "execute_result"
    }
   ],
   "source": [
    "# Read in node list:\n",
    "nodes = pd.read_csv ('nodelist.csv',  encoding='cp1252')\n",
    "nodes = nodes[1:42] # discarding extra rows - this should be dynamically assigned, but is manual for now.\n",
    "nodes = nodes.rename(columns={'Node #': 'Node_Number'})\n",
    "\n",
    "# Just the nodes that have data:\n",
    "# logged_nodes = df[\"Node\"].unique().tolist()\n",
    "# logged_nodes.sort()\n",
    "# logged_nodes = [s.lstrip('N') for s in logged_nodes]\n",
    "test_list = list(map(int, logged_nodes)) # cast to int\n",
    "\n",
    "# tf = nodes['Node #']logged_nodes[] # true/false vector\n",
    "# nodes['Node #'] in logged_nodes\n",
    "# nodes['Node #']\n",
    "nodes['Status'] = np.where((nodes.Node_Number.isin(logged_nodes)), \"Data logged\", \"No data logged\")\n",
    "nodes\n",
    "\n",
    "color = (nodes['Status'] == 'No data logged').map({True: 'background-color: pink', False: ''})\n",
    "nodes.style.apply(lambda s: color)"
   ]
  },
  {
   "cell_type": "code",
   "execution_count": 32,
   "metadata": {},
   "outputs": [
    {
     "data": {
      "application/vnd.plotly.v1+json": {
       "config": {
        "plotlyServerURL": "https://plot.ly"
       },
       "data": [
        {
         "customdata": [
          [
           1
          ],
          [
           2
          ],
          [
           3
          ],
          [
           4
          ],
          [
           6
          ],
          [
           7
          ],
          [
           8
          ],
          [
           9
          ],
          [
           10
          ],
          [
           13
          ],
          [
           14
          ],
          [
           15
          ],
          [
           16
          ],
          [
           22
          ],
          [
           24
          ],
          [
           29
          ],
          [
           30
          ],
          [
           33
          ],
          [
           34
          ],
          [
           35
          ],
          [
           36
          ],
          [
           38
          ],
          [
           39
          ],
          [
           40
          ],
          [
           41
          ]
         ],
         "geo": "geo",
         "hovertemplate": "<b>%{hovertext}</b><br><br>Status=Data logged<br>Latitude=%{lat}<br>Longitude=%{lon}<br>Node_Number=%{customdata[0]}<extra></extra>",
         "hovertext": [
          "N8OBJ",
          "AD8Y",
          "N8OBJ",
          "AD8Y",
          "KD8OXT",
          "N8OBJ",
          "AD8Y",
          "KB3UMD",
          "KD8SYG",
          "W3LLA",
          "W2NAF",
          "KD2UHN",
          "WW0WWV",
          "KD8CGH",
          "PA0SLT",
          "W7LUX",
          "K4BSE",
          "AB1XB",
          "N2RKL",
          "PA0RWT",
          "KB1HFT",
          "WC0Y",
          "KM4YMI",
          "AC0G",
          "N8ET"
         ],
         "lat": [
          "41.321963",
          "41.493744",
          "41.321963",
          "41.493744",
          "41.498777",
          "41.321963",
          "41.493744",
          "40.176000",
          " ",
          "40.543230",
          "41.335116",
          "40.633320",
          "40.562900",
          "41.198818",
          "00.000000",
          "35.099780",
          "33.391626",
          "42.498300",
          "43.163188",
          "53.257530",
          "42.637539",
          "41.019477",
          "33.831250",
          "38.918366",
          "40.993667"
         ],
         "legendgroup": "Data logged",
         "lon": [
          -81.504739,
          -81.578039,
          -81.504739,
          -81.578039,
          -81.573075,
          -81.504739,
          -81.578039,
          -75.493,
          -81.283015,
          -105.04555,
          -75.60069200000001,
          -74.98881,
          -105.10861000000001,
          -81.337331,
          0,
          -111.6931,
          -84.471737,
          -71.5907,
          -76.12535,
          6.958064,
          -71.38428499999999,
          -85.29253,
          -84.2804,
          -92.127864,
          -83.655641
         ],
         "marker": {
          "color": "#636efa",
          "symbol": "circle"
         },
         "mode": "markers",
         "name": "Data logged",
         "showlegend": true,
         "type": "scattergeo"
        },
        {
         "customdata": [
          [
           5
          ],
          [
           11
          ],
          [
           12
          ],
          [
           17
          ],
          [
           18
          ],
          [
           19
          ],
          [
           20
          ],
          [
           21
          ],
          [
           23
          ],
          [
           25
          ],
          [
           26
          ],
          [
           27
          ],
          [
           28
          ],
          [
           31
          ],
          [
           32
          ],
          [
           37
          ]
         ],
         "geo": "geo",
         "hovertemplate": "<b>%{hovertext}</b><br><br>Status=No data logged<br>Latitude=%{lat}<br>Longitude=%{lon}<br>Node_Number=%{customdata[0]}<extra></extra>",
         "hovertext": [
          "KE8HPA",
          "N8OBJ",
          "WA5FRF",
          "WA2UAR",
          "W6BHZ",
          "AB4EJ",
          "K2MFF",
          "KV0S",
          "KD0EAG ",
          "K2KGJ",
          "KE8QEP",
          "W0DAS",
          "N1JBJ",
          "W1MTI",
          "AD0RR",
          "N8OBJ"
         ],
         "lat": [
          "40.130910",
          "00.000000",
          "29.574783",
          "39.955650",
          "35.300589",
          "33.395833",
          "40.742018",
          "38.893189",
          "38.922295",
          "42.261653",
          "41.157078",
          "40.562900",
          "42.569956",
          "42.498976",
          "37.185100",
          "41.321963"
         ],
         "legendgroup": "No data logged",
         "lon": [
          -82.84778,
          0,
          -98.887183,
          -75.17405,
          -120.661717,
          -87.541667,
          -74.178975,
          -92.35945799999999,
          -92.29817299999999,
          -73.541606,
          -81.25161700000001,
          -105.10861000000001,
          -71.09137,
          -71.582575,
          -93.23522700000001,
          -81.504739
         ],
         "marker": {
          "color": "#EF553B",
          "symbol": "circle"
         },
         "mode": "markers",
         "name": "No data logged",
         "showlegend": true,
         "type": "scattergeo"
        }
       ],
       "layout": {
        "geo": {
         "center": {},
         "domain": {
          "x": [
           0,
           1
          ],
          "y": [
           0,
           1
          ]
         }
        },
        "legend": {
         "title": {
          "text": "Status"
         },
         "tracegroupgap": 0
        },
        "margin": {
         "t": 60
        },
        "template": {
         "data": {
          "bar": [
           {
            "error_x": {
             "color": "#2a3f5f"
            },
            "error_y": {
             "color": "#2a3f5f"
            },
            "marker": {
             "line": {
              "color": "#E5ECF6",
              "width": 0.5
             }
            },
            "type": "bar"
           }
          ],
          "barpolar": [
           {
            "marker": {
             "line": {
              "color": "#E5ECF6",
              "width": 0.5
             }
            },
            "type": "barpolar"
           }
          ],
          "carpet": [
           {
            "aaxis": {
             "endlinecolor": "#2a3f5f",
             "gridcolor": "white",
             "linecolor": "white",
             "minorgridcolor": "white",
             "startlinecolor": "#2a3f5f"
            },
            "baxis": {
             "endlinecolor": "#2a3f5f",
             "gridcolor": "white",
             "linecolor": "white",
             "minorgridcolor": "white",
             "startlinecolor": "#2a3f5f"
            },
            "type": "carpet"
           }
          ],
          "choropleth": [
           {
            "colorbar": {
             "outlinewidth": 0,
             "ticks": ""
            },
            "type": "choropleth"
           }
          ],
          "contour": [
           {
            "colorbar": {
             "outlinewidth": 0,
             "ticks": ""
            },
            "colorscale": [
             [
              0,
              "#0d0887"
             ],
             [
              0.1111111111111111,
              "#46039f"
             ],
             [
              0.2222222222222222,
              "#7201a8"
             ],
             [
              0.3333333333333333,
              "#9c179e"
             ],
             [
              0.4444444444444444,
              "#bd3786"
             ],
             [
              0.5555555555555556,
              "#d8576b"
             ],
             [
              0.6666666666666666,
              "#ed7953"
             ],
             [
              0.7777777777777778,
              "#fb9f3a"
             ],
             [
              0.8888888888888888,
              "#fdca26"
             ],
             [
              1,
              "#f0f921"
             ]
            ],
            "type": "contour"
           }
          ],
          "contourcarpet": [
           {
            "colorbar": {
             "outlinewidth": 0,
             "ticks": ""
            },
            "type": "contourcarpet"
           }
          ],
          "heatmap": [
           {
            "colorbar": {
             "outlinewidth": 0,
             "ticks": ""
            },
            "colorscale": [
             [
              0,
              "#0d0887"
             ],
             [
              0.1111111111111111,
              "#46039f"
             ],
             [
              0.2222222222222222,
              "#7201a8"
             ],
             [
              0.3333333333333333,
              "#9c179e"
             ],
             [
              0.4444444444444444,
              "#bd3786"
             ],
             [
              0.5555555555555556,
              "#d8576b"
             ],
             [
              0.6666666666666666,
              "#ed7953"
             ],
             [
              0.7777777777777778,
              "#fb9f3a"
             ],
             [
              0.8888888888888888,
              "#fdca26"
             ],
             [
              1,
              "#f0f921"
             ]
            ],
            "type": "heatmap"
           }
          ],
          "heatmapgl": [
           {
            "colorbar": {
             "outlinewidth": 0,
             "ticks": ""
            },
            "colorscale": [
             [
              0,
              "#0d0887"
             ],
             [
              0.1111111111111111,
              "#46039f"
             ],
             [
              0.2222222222222222,
              "#7201a8"
             ],
             [
              0.3333333333333333,
              "#9c179e"
             ],
             [
              0.4444444444444444,
              "#bd3786"
             ],
             [
              0.5555555555555556,
              "#d8576b"
             ],
             [
              0.6666666666666666,
              "#ed7953"
             ],
             [
              0.7777777777777778,
              "#fb9f3a"
             ],
             [
              0.8888888888888888,
              "#fdca26"
             ],
             [
              1,
              "#f0f921"
             ]
            ],
            "type": "heatmapgl"
           }
          ],
          "histogram": [
           {
            "marker": {
             "colorbar": {
              "outlinewidth": 0,
              "ticks": ""
             }
            },
            "type": "histogram"
           }
          ],
          "histogram2d": [
           {
            "colorbar": {
             "outlinewidth": 0,
             "ticks": ""
            },
            "colorscale": [
             [
              0,
              "#0d0887"
             ],
             [
              0.1111111111111111,
              "#46039f"
             ],
             [
              0.2222222222222222,
              "#7201a8"
             ],
             [
              0.3333333333333333,
              "#9c179e"
             ],
             [
              0.4444444444444444,
              "#bd3786"
             ],
             [
              0.5555555555555556,
              "#d8576b"
             ],
             [
              0.6666666666666666,
              "#ed7953"
             ],
             [
              0.7777777777777778,
              "#fb9f3a"
             ],
             [
              0.8888888888888888,
              "#fdca26"
             ],
             [
              1,
              "#f0f921"
             ]
            ],
            "type": "histogram2d"
           }
          ],
          "histogram2dcontour": [
           {
            "colorbar": {
             "outlinewidth": 0,
             "ticks": ""
            },
            "colorscale": [
             [
              0,
              "#0d0887"
             ],
             [
              0.1111111111111111,
              "#46039f"
             ],
             [
              0.2222222222222222,
              "#7201a8"
             ],
             [
              0.3333333333333333,
              "#9c179e"
             ],
             [
              0.4444444444444444,
              "#bd3786"
             ],
             [
              0.5555555555555556,
              "#d8576b"
             ],
             [
              0.6666666666666666,
              "#ed7953"
             ],
             [
              0.7777777777777778,
              "#fb9f3a"
             ],
             [
              0.8888888888888888,
              "#fdca26"
             ],
             [
              1,
              "#f0f921"
             ]
            ],
            "type": "histogram2dcontour"
           }
          ],
          "mesh3d": [
           {
            "colorbar": {
             "outlinewidth": 0,
             "ticks": ""
            },
            "type": "mesh3d"
           }
          ],
          "parcoords": [
           {
            "line": {
             "colorbar": {
              "outlinewidth": 0,
              "ticks": ""
             }
            },
            "type": "parcoords"
           }
          ],
          "pie": [
           {
            "automargin": true,
            "type": "pie"
           }
          ],
          "scatter": [
           {
            "marker": {
             "colorbar": {
              "outlinewidth": 0,
              "ticks": ""
             }
            },
            "type": "scatter"
           }
          ],
          "scatter3d": [
           {
            "line": {
             "colorbar": {
              "outlinewidth": 0,
              "ticks": ""
             }
            },
            "marker": {
             "colorbar": {
              "outlinewidth": 0,
              "ticks": ""
             }
            },
            "type": "scatter3d"
           }
          ],
          "scattercarpet": [
           {
            "marker": {
             "colorbar": {
              "outlinewidth": 0,
              "ticks": ""
             }
            },
            "type": "scattercarpet"
           }
          ],
          "scattergeo": [
           {
            "marker": {
             "colorbar": {
              "outlinewidth": 0,
              "ticks": ""
             }
            },
            "type": "scattergeo"
           }
          ],
          "scattergl": [
           {
            "marker": {
             "colorbar": {
              "outlinewidth": 0,
              "ticks": ""
             }
            },
            "type": "scattergl"
           }
          ],
          "scattermapbox": [
           {
            "marker": {
             "colorbar": {
              "outlinewidth": 0,
              "ticks": ""
             }
            },
            "type": "scattermapbox"
           }
          ],
          "scatterpolar": [
           {
            "marker": {
             "colorbar": {
              "outlinewidth": 0,
              "ticks": ""
             }
            },
            "type": "scatterpolar"
           }
          ],
          "scatterpolargl": [
           {
            "marker": {
             "colorbar": {
              "outlinewidth": 0,
              "ticks": ""
             }
            },
            "type": "scatterpolargl"
           }
          ],
          "scatterternary": [
           {
            "marker": {
             "colorbar": {
              "outlinewidth": 0,
              "ticks": ""
             }
            },
            "type": "scatterternary"
           }
          ],
          "surface": [
           {
            "colorbar": {
             "outlinewidth": 0,
             "ticks": ""
            },
            "colorscale": [
             [
              0,
              "#0d0887"
             ],
             [
              0.1111111111111111,
              "#46039f"
             ],
             [
              0.2222222222222222,
              "#7201a8"
             ],
             [
              0.3333333333333333,
              "#9c179e"
             ],
             [
              0.4444444444444444,
              "#bd3786"
             ],
             [
              0.5555555555555556,
              "#d8576b"
             ],
             [
              0.6666666666666666,
              "#ed7953"
             ],
             [
              0.7777777777777778,
              "#fb9f3a"
             ],
             [
              0.8888888888888888,
              "#fdca26"
             ],
             [
              1,
              "#f0f921"
             ]
            ],
            "type": "surface"
           }
          ],
          "table": [
           {
            "cells": {
             "fill": {
              "color": "#EBF0F8"
             },
             "line": {
              "color": "white"
             }
            },
            "header": {
             "fill": {
              "color": "#C8D4E3"
             },
             "line": {
              "color": "white"
             }
            },
            "type": "table"
           }
          ]
         },
         "layout": {
          "annotationdefaults": {
           "arrowcolor": "#2a3f5f",
           "arrowhead": 0,
           "arrowwidth": 1
          },
          "coloraxis": {
           "colorbar": {
            "outlinewidth": 0,
            "ticks": ""
           }
          },
          "colorscale": {
           "diverging": [
            [
             0,
             "#8e0152"
            ],
            [
             0.1,
             "#c51b7d"
            ],
            [
             0.2,
             "#de77ae"
            ],
            [
             0.3,
             "#f1b6da"
            ],
            [
             0.4,
             "#fde0ef"
            ],
            [
             0.5,
             "#f7f7f7"
            ],
            [
             0.6,
             "#e6f5d0"
            ],
            [
             0.7,
             "#b8e186"
            ],
            [
             0.8,
             "#7fbc41"
            ],
            [
             0.9,
             "#4d9221"
            ],
            [
             1,
             "#276419"
            ]
           ],
           "sequential": [
            [
             0,
             "#0d0887"
            ],
            [
             0.1111111111111111,
             "#46039f"
            ],
            [
             0.2222222222222222,
             "#7201a8"
            ],
            [
             0.3333333333333333,
             "#9c179e"
            ],
            [
             0.4444444444444444,
             "#bd3786"
            ],
            [
             0.5555555555555556,
             "#d8576b"
            ],
            [
             0.6666666666666666,
             "#ed7953"
            ],
            [
             0.7777777777777778,
             "#fb9f3a"
            ],
            [
             0.8888888888888888,
             "#fdca26"
            ],
            [
             1,
             "#f0f921"
            ]
           ],
           "sequentialminus": [
            [
             0,
             "#0d0887"
            ],
            [
             0.1111111111111111,
             "#46039f"
            ],
            [
             0.2222222222222222,
             "#7201a8"
            ],
            [
             0.3333333333333333,
             "#9c179e"
            ],
            [
             0.4444444444444444,
             "#bd3786"
            ],
            [
             0.5555555555555556,
             "#d8576b"
            ],
            [
             0.6666666666666666,
             "#ed7953"
            ],
            [
             0.7777777777777778,
             "#fb9f3a"
            ],
            [
             0.8888888888888888,
             "#fdca26"
            ],
            [
             1,
             "#f0f921"
            ]
           ]
          },
          "colorway": [
           "#636efa",
           "#EF553B",
           "#00cc96",
           "#ab63fa",
           "#FFA15A",
           "#19d3f3",
           "#FF6692",
           "#B6E880",
           "#FF97FF",
           "#FECB52"
          ],
          "font": {
           "color": "#2a3f5f"
          },
          "geo": {
           "bgcolor": "white",
           "lakecolor": "white",
           "landcolor": "#E5ECF6",
           "showlakes": true,
           "showland": true,
           "subunitcolor": "white"
          },
          "hoverlabel": {
           "align": "left"
          },
          "hovermode": "closest",
          "mapbox": {
           "style": "light"
          },
          "paper_bgcolor": "white",
          "plot_bgcolor": "#E5ECF6",
          "polar": {
           "angularaxis": {
            "gridcolor": "white",
            "linecolor": "white",
            "ticks": ""
           },
           "bgcolor": "#E5ECF6",
           "radialaxis": {
            "gridcolor": "white",
            "linecolor": "white",
            "ticks": ""
           }
          },
          "scene": {
           "xaxis": {
            "backgroundcolor": "#E5ECF6",
            "gridcolor": "white",
            "gridwidth": 2,
            "linecolor": "white",
            "showbackground": true,
            "ticks": "",
            "zerolinecolor": "white"
           },
           "yaxis": {
            "backgroundcolor": "#E5ECF6",
            "gridcolor": "white",
            "gridwidth": 2,
            "linecolor": "white",
            "showbackground": true,
            "ticks": "",
            "zerolinecolor": "white"
           },
           "zaxis": {
            "backgroundcolor": "#E5ECF6",
            "gridcolor": "white",
            "gridwidth": 2,
            "linecolor": "white",
            "showbackground": true,
            "ticks": "",
            "zerolinecolor": "white"
           }
          },
          "shapedefaults": {
           "line": {
            "color": "#2a3f5f"
           }
          },
          "ternary": {
           "aaxis": {
            "gridcolor": "white",
            "linecolor": "white",
            "ticks": ""
           },
           "baxis": {
            "gridcolor": "white",
            "linecolor": "white",
            "ticks": ""
           },
           "bgcolor": "#E5ECF6",
           "caxis": {
            "gridcolor": "white",
            "linecolor": "white",
            "ticks": ""
           }
          },
          "title": {
           "x": 0.05
          },
          "xaxis": {
           "automargin": true,
           "gridcolor": "white",
           "linecolor": "white",
           "ticks": "",
           "title": {
            "standoff": 15
           },
           "zerolinecolor": "white",
           "zerolinewidth": 2
          },
          "yaxis": {
           "automargin": true,
           "gridcolor": "white",
           "linecolor": "white",
           "ticks": "",
           "title": {
            "standoff": 15
           },
           "zerolinecolor": "white",
           "zerolinewidth": 2
          }
         }
        },
        "title": {
         "text": "Stations"
        }
       }
      },
      "text/html": [
       "<div>                            <div id=\"223bbacf-429e-48c6-872b-43e77f4cdc41\" class=\"plotly-graph-div\" style=\"height:525px; width:100%;\"></div>            <script type=\"text/javascript\">                require([\"plotly\"], function(Plotly) {                    window.PLOTLYENV=window.PLOTLYENV || {};                                    if (document.getElementById(\"223bbacf-429e-48c6-872b-43e77f4cdc41\")) {                    Plotly.newPlot(                        \"223bbacf-429e-48c6-872b-43e77f4cdc41\",                        [{\"customdata\": [[1.0], [2.0], [3.0], [4.0], [6.0], [7.0], [8.0], [9.0], [10.0], [13.0], [14.0], [15.0], [16.0], [22.0], [24.0], [29.0], [30.0], [33.0], [34.0], [35.0], [36.0], [38.0], [39.0], [40.0], [41.0]], \"geo\": \"geo\", \"hovertemplate\": \"<b>%{hovertext}</b><br><br>Status=Data logged<br>Latitude=%{lat}<br>Longitude=%{lon}<br>Node_Number=%{customdata[0]}<extra></extra>\", \"hovertext\": [\"N8OBJ\", \"AD8Y\", \"N8OBJ\", \"AD8Y\", \"KD8OXT\", \"N8OBJ\", \"AD8Y\", \"KB3UMD\", \"KD8SYG\", \"W3LLA\", \"W2NAF\", \"KD2UHN\", \"WW0WWV\", \"KD8CGH\", \"PA0SLT\", \"W7LUX\", \"K4BSE\", \"AB1XB\", \"N2RKL\", \"PA0RWT\", \"KB1HFT\", \"WC0Y\", \"KM4YMI\", \"AC0G\", \"N8ET\"], \"lat\": [\"41.321963\", \"41.493744\", \"41.321963\", \"41.493744\", \"41.498777\", \"41.321963\", \"41.493744\", \"40.176000\", \" \", \"40.543230\", \"41.335116\", \"40.633320\", \"40.562900\", \"41.198818\", \"00.000000\", \"35.099780\", \"33.391626\", \"42.498300\", \"43.163188\", \"53.257530\", \"42.637539\", \"41.019477\", \"33.831250\", \"38.918366\", \"40.993667\"], \"legendgroup\": \"Data logged\", \"lon\": [-81.504739, -81.578039, -81.504739, -81.578039, -81.573075, -81.504739, -81.578039, -75.493, -81.283015, -105.04555, -75.60069200000001, -74.98881, -105.10861000000001, -81.337331, 0.0, -111.6931, -84.471737, -71.5907, -76.12535, 6.958064, -71.38428499999999, -85.29253, -84.2804, -92.127864, -83.655641], \"marker\": {\"color\": \"#636efa\", \"symbol\": \"circle\"}, \"mode\": \"markers\", \"name\": \"Data logged\", \"showlegend\": true, \"type\": \"scattergeo\"}, {\"customdata\": [[5.0], [11.0], [12.0], [17.0], [18.0], [19.0], [20.0], [21.0], [23.0], [25.0], [26.0], [27.0], [28.0], [31.0], [32.0], [37.0]], \"geo\": \"geo\", \"hovertemplate\": \"<b>%{hovertext}</b><br><br>Status=No data logged<br>Latitude=%{lat}<br>Longitude=%{lon}<br>Node_Number=%{customdata[0]}<extra></extra>\", \"hovertext\": [\"KE8HPA\", \"N8OBJ\", \"WA5FRF\", \"WA2UAR\", \"W6BHZ\", \"AB4EJ\", \"K2MFF\", \"KV0S\", \"KD0EAG \", \"K2KGJ\", \"KE8QEP\", \"W0DAS\", \"N1JBJ\", \"W1MTI\", \"AD0RR\", \"N8OBJ\"], \"lat\": [\"40.130910\", \"00.000000\", \"29.574783\", \"39.955650\", \"35.300589\", \"33.395833\", \"40.742018\", \"38.893189\", \"38.922295\", \"42.261653\", \"41.157078\", \"40.562900\", \"42.569956\", \"42.498976\", \"37.185100\", \"41.321963\"], \"legendgroup\": \"No data logged\", \"lon\": [-82.84778, 0.0, -98.887183, -75.17405, -120.661717, -87.541667, -74.178975, -92.35945799999999, -92.29817299999999, -73.541606, -81.25161700000001, -105.10861000000001, -71.09137, -71.582575, -93.23522700000001, -81.504739], \"marker\": {\"color\": \"#EF553B\", \"symbol\": \"circle\"}, \"mode\": \"markers\", \"name\": \"No data logged\", \"showlegend\": true, \"type\": \"scattergeo\"}],                        {\"geo\": {\"center\": {}, \"domain\": {\"x\": [0.0, 1.0], \"y\": [0.0, 1.0]}}, \"legend\": {\"title\": {\"text\": \"Status\"}, \"tracegroupgap\": 0}, \"margin\": {\"t\": 60}, \"template\": {\"data\": {\"bar\": [{\"error_x\": {\"color\": \"#2a3f5f\"}, \"error_y\": {\"color\": \"#2a3f5f\"}, \"marker\": {\"line\": {\"color\": \"#E5ECF6\", \"width\": 0.5}}, \"type\": \"bar\"}], \"barpolar\": [{\"marker\": {\"line\": {\"color\": \"#E5ECF6\", \"width\": 0.5}}, \"type\": \"barpolar\"}], \"carpet\": [{\"aaxis\": {\"endlinecolor\": \"#2a3f5f\", \"gridcolor\": \"white\", \"linecolor\": \"white\", \"minorgridcolor\": \"white\", \"startlinecolor\": \"#2a3f5f\"}, \"baxis\": {\"endlinecolor\": \"#2a3f5f\", \"gridcolor\": \"white\", \"linecolor\": \"white\", \"minorgridcolor\": \"white\", \"startlinecolor\": \"#2a3f5f\"}, \"type\": \"carpet\"}], \"choropleth\": [{\"colorbar\": {\"outlinewidth\": 0, \"ticks\": \"\"}, \"type\": \"choropleth\"}], \"contour\": [{\"colorbar\": {\"outlinewidth\": 0, \"ticks\": \"\"}, \"colorscale\": [[0.0, \"#0d0887\"], [0.1111111111111111, \"#46039f\"], [0.2222222222222222, \"#7201a8\"], [0.3333333333333333, \"#9c179e\"], [0.4444444444444444, \"#bd3786\"], [0.5555555555555556, \"#d8576b\"], [0.6666666666666666, \"#ed7953\"], [0.7777777777777778, \"#fb9f3a\"], [0.8888888888888888, \"#fdca26\"], [1.0, \"#f0f921\"]], \"type\": \"contour\"}], \"contourcarpet\": [{\"colorbar\": {\"outlinewidth\": 0, \"ticks\": \"\"}, \"type\": \"contourcarpet\"}], \"heatmap\": [{\"colorbar\": {\"outlinewidth\": 0, \"ticks\": \"\"}, \"colorscale\": [[0.0, \"#0d0887\"], [0.1111111111111111, \"#46039f\"], [0.2222222222222222, \"#7201a8\"], [0.3333333333333333, \"#9c179e\"], [0.4444444444444444, \"#bd3786\"], [0.5555555555555556, \"#d8576b\"], [0.6666666666666666, \"#ed7953\"], [0.7777777777777778, \"#fb9f3a\"], [0.8888888888888888, \"#fdca26\"], [1.0, \"#f0f921\"]], \"type\": \"heatmap\"}], \"heatmapgl\": [{\"colorbar\": {\"outlinewidth\": 0, \"ticks\": \"\"}, \"colorscale\": [[0.0, \"#0d0887\"], [0.1111111111111111, \"#46039f\"], [0.2222222222222222, \"#7201a8\"], [0.3333333333333333, \"#9c179e\"], [0.4444444444444444, \"#bd3786\"], [0.5555555555555556, \"#d8576b\"], [0.6666666666666666, \"#ed7953\"], [0.7777777777777778, \"#fb9f3a\"], [0.8888888888888888, \"#fdca26\"], [1.0, \"#f0f921\"]], \"type\": \"heatmapgl\"}], \"histogram\": [{\"marker\": {\"colorbar\": {\"outlinewidth\": 0, \"ticks\": \"\"}}, \"type\": \"histogram\"}], \"histogram2d\": [{\"colorbar\": {\"outlinewidth\": 0, \"ticks\": \"\"}, \"colorscale\": [[0.0, \"#0d0887\"], [0.1111111111111111, \"#46039f\"], [0.2222222222222222, \"#7201a8\"], [0.3333333333333333, \"#9c179e\"], [0.4444444444444444, \"#bd3786\"], [0.5555555555555556, \"#d8576b\"], [0.6666666666666666, \"#ed7953\"], [0.7777777777777778, \"#fb9f3a\"], [0.8888888888888888, \"#fdca26\"], [1.0, \"#f0f921\"]], \"type\": \"histogram2d\"}], \"histogram2dcontour\": [{\"colorbar\": {\"outlinewidth\": 0, \"ticks\": \"\"}, \"colorscale\": [[0.0, \"#0d0887\"], [0.1111111111111111, \"#46039f\"], [0.2222222222222222, \"#7201a8\"], [0.3333333333333333, \"#9c179e\"], [0.4444444444444444, \"#bd3786\"], [0.5555555555555556, \"#d8576b\"], [0.6666666666666666, \"#ed7953\"], [0.7777777777777778, \"#fb9f3a\"], [0.8888888888888888, \"#fdca26\"], [1.0, \"#f0f921\"]], \"type\": \"histogram2dcontour\"}], \"mesh3d\": [{\"colorbar\": {\"outlinewidth\": 0, \"ticks\": \"\"}, \"type\": \"mesh3d\"}], \"parcoords\": [{\"line\": {\"colorbar\": {\"outlinewidth\": 0, \"ticks\": \"\"}}, \"type\": \"parcoords\"}], \"pie\": [{\"automargin\": true, \"type\": \"pie\"}], \"scatter\": [{\"marker\": {\"colorbar\": {\"outlinewidth\": 0, \"ticks\": \"\"}}, \"type\": \"scatter\"}], \"scatter3d\": [{\"line\": {\"colorbar\": {\"outlinewidth\": 0, \"ticks\": \"\"}}, \"marker\": {\"colorbar\": {\"outlinewidth\": 0, \"ticks\": \"\"}}, \"type\": \"scatter3d\"}], \"scattercarpet\": [{\"marker\": {\"colorbar\": {\"outlinewidth\": 0, \"ticks\": \"\"}}, \"type\": \"scattercarpet\"}], \"scattergeo\": [{\"marker\": {\"colorbar\": {\"outlinewidth\": 0, \"ticks\": \"\"}}, \"type\": \"scattergeo\"}], \"scattergl\": [{\"marker\": {\"colorbar\": {\"outlinewidth\": 0, \"ticks\": \"\"}}, \"type\": \"scattergl\"}], \"scattermapbox\": [{\"marker\": {\"colorbar\": {\"outlinewidth\": 0, \"ticks\": \"\"}}, \"type\": \"scattermapbox\"}], \"scatterpolar\": [{\"marker\": {\"colorbar\": {\"outlinewidth\": 0, \"ticks\": \"\"}}, \"type\": \"scatterpolar\"}], \"scatterpolargl\": [{\"marker\": {\"colorbar\": {\"outlinewidth\": 0, \"ticks\": \"\"}}, \"type\": \"scatterpolargl\"}], \"scatterternary\": [{\"marker\": {\"colorbar\": {\"outlinewidth\": 0, \"ticks\": \"\"}}, \"type\": \"scatterternary\"}], \"surface\": [{\"colorbar\": {\"outlinewidth\": 0, \"ticks\": \"\"}, \"colorscale\": [[0.0, \"#0d0887\"], [0.1111111111111111, \"#46039f\"], [0.2222222222222222, \"#7201a8\"], [0.3333333333333333, \"#9c179e\"], [0.4444444444444444, \"#bd3786\"], [0.5555555555555556, \"#d8576b\"], [0.6666666666666666, \"#ed7953\"], [0.7777777777777778, \"#fb9f3a\"], [0.8888888888888888, \"#fdca26\"], [1.0, \"#f0f921\"]], \"type\": \"surface\"}], \"table\": [{\"cells\": {\"fill\": {\"color\": \"#EBF0F8\"}, \"line\": {\"color\": \"white\"}}, \"header\": {\"fill\": {\"color\": \"#C8D4E3\"}, \"line\": {\"color\": \"white\"}}, \"type\": \"table\"}]}, \"layout\": {\"annotationdefaults\": {\"arrowcolor\": \"#2a3f5f\", \"arrowhead\": 0, \"arrowwidth\": 1}, \"coloraxis\": {\"colorbar\": {\"outlinewidth\": 0, \"ticks\": \"\"}}, \"colorscale\": {\"diverging\": [[0, \"#8e0152\"], [0.1, \"#c51b7d\"], [0.2, \"#de77ae\"], [0.3, \"#f1b6da\"], [0.4, \"#fde0ef\"], [0.5, \"#f7f7f7\"], [0.6, \"#e6f5d0\"], [0.7, \"#b8e186\"], [0.8, \"#7fbc41\"], [0.9, \"#4d9221\"], [1, \"#276419\"]], \"sequential\": [[0.0, \"#0d0887\"], [0.1111111111111111, \"#46039f\"], [0.2222222222222222, \"#7201a8\"], [0.3333333333333333, \"#9c179e\"], [0.4444444444444444, \"#bd3786\"], [0.5555555555555556, \"#d8576b\"], [0.6666666666666666, \"#ed7953\"], [0.7777777777777778, \"#fb9f3a\"], [0.8888888888888888, \"#fdca26\"], [1.0, \"#f0f921\"]], \"sequentialminus\": [[0.0, \"#0d0887\"], [0.1111111111111111, \"#46039f\"], [0.2222222222222222, \"#7201a8\"], [0.3333333333333333, \"#9c179e\"], [0.4444444444444444, \"#bd3786\"], [0.5555555555555556, \"#d8576b\"], [0.6666666666666666, \"#ed7953\"], [0.7777777777777778, \"#fb9f3a\"], [0.8888888888888888, \"#fdca26\"], [1.0, \"#f0f921\"]]}, \"colorway\": [\"#636efa\", \"#EF553B\", \"#00cc96\", \"#ab63fa\", \"#FFA15A\", \"#19d3f3\", \"#FF6692\", \"#B6E880\", \"#FF97FF\", \"#FECB52\"], \"font\": {\"color\": \"#2a3f5f\"}, \"geo\": {\"bgcolor\": \"white\", \"lakecolor\": \"white\", \"landcolor\": \"#E5ECF6\", \"showlakes\": true, \"showland\": true, \"subunitcolor\": \"white\"}, \"hoverlabel\": {\"align\": \"left\"}, \"hovermode\": \"closest\", \"mapbox\": {\"style\": \"light\"}, \"paper_bgcolor\": \"white\", \"plot_bgcolor\": \"#E5ECF6\", \"polar\": {\"angularaxis\": {\"gridcolor\": \"white\", \"linecolor\": \"white\", \"ticks\": \"\"}, \"bgcolor\": \"#E5ECF6\", \"radialaxis\": {\"gridcolor\": \"white\", \"linecolor\": \"white\", \"ticks\": \"\"}}, \"scene\": {\"xaxis\": {\"backgroundcolor\": \"#E5ECF6\", \"gridcolor\": \"white\", \"gridwidth\": 2, \"linecolor\": \"white\", \"showbackground\": true, \"ticks\": \"\", \"zerolinecolor\": \"white\"}, \"yaxis\": {\"backgroundcolor\": \"#E5ECF6\", \"gridcolor\": \"white\", \"gridwidth\": 2, \"linecolor\": \"white\", \"showbackground\": true, \"ticks\": \"\", \"zerolinecolor\": \"white\"}, \"zaxis\": {\"backgroundcolor\": \"#E5ECF6\", \"gridcolor\": \"white\", \"gridwidth\": 2, \"linecolor\": \"white\", \"showbackground\": true, \"ticks\": \"\", \"zerolinecolor\": \"white\"}}, \"shapedefaults\": {\"line\": {\"color\": \"#2a3f5f\"}}, \"ternary\": {\"aaxis\": {\"gridcolor\": \"white\", \"linecolor\": \"white\", \"ticks\": \"\"}, \"baxis\": {\"gridcolor\": \"white\", \"linecolor\": \"white\", \"ticks\": \"\"}, \"bgcolor\": \"#E5ECF6\", \"caxis\": {\"gridcolor\": \"white\", \"linecolor\": \"white\", \"ticks\": \"\"}}, \"title\": {\"x\": 0.05}, \"xaxis\": {\"automargin\": true, \"gridcolor\": \"white\", \"linecolor\": \"white\", \"ticks\": \"\", \"title\": {\"standoff\": 15}, \"zerolinecolor\": \"white\", \"zerolinewidth\": 2}, \"yaxis\": {\"automargin\": true, \"gridcolor\": \"white\", \"linecolor\": \"white\", \"ticks\": \"\", \"title\": {\"standoff\": 15}, \"zerolinecolor\": \"white\", \"zerolinewidth\": 2}}}, \"title\": {\"text\": \"Stations\"}},                        {\"responsive\": true}                    ).then(function(){\n",
       "                            \n",
       "var gd = document.getElementById('223bbacf-429e-48c6-872b-43e77f4cdc41');\n",
       "var x = new MutationObserver(function (mutations, observer) {{\n",
       "        var display = window.getComputedStyle(gd).display;\n",
       "        if (!display || display === 'none') {{\n",
       "            console.log([gd, 'removed!']);\n",
       "            Plotly.purge(gd);\n",
       "            observer.disconnect();\n",
       "        }}\n",
       "}});\n",
       "\n",
       "// Listen for the removal of the full notebook cells\n",
       "var notebookContainer = gd.closest('#notebook-container');\n",
       "if (notebookContainer) {{\n",
       "    x.observe(notebookContainer, {childList: true});\n",
       "}}\n",
       "\n",
       "// Listen for the clearing of the current output cell\n",
       "var outputEl = gd.closest('.output');\n",
       "if (outputEl) {{\n",
       "    x.observe(outputEl, {childList: true});\n",
       "}}\n",
       "\n",
       "                        })                };                });            </script>        </div>"
      ]
     },
     "metadata": {},
     "output_type": "display_data"
    }
   ],
   "source": [
    "# Map nodes:\n",
    "fig = px.scatter_geo(nodes, \"Latitude\", \"Longitude\",\n",
    "                     color=\"Status\", # which column to use to set the color of markers\n",
    "                     hover_name=nodes[\"Callsign\"], # column added to hover information\n",
    "                     hover_data=[nodes[\"Node_Number\"]], # this does not work\n",
    "                     #size=\"Latitude\", # size of markers\n",
    "#                      projection = 'albers usa',\n",
    "                     )\n",
    "fig.update_layout(title=\"Stations\")\n",
    "fig.show()"
   ]
  },
  {
   "cell_type": "markdown",
   "metadata": {},
   "source": [
    "## Example of a concurrent daily plot\n",
    "Let's use the multiplot function developed by Bob Benedict KD8CGH (https://github.com/rkayakr/ProcessPlot) to plot Grape data from multiple stations on the same date. October 28, 2021 is a good example date, because there were solar flares widely observed by Grape 1 stations."
   ]
  },
  {
   "cell_type": "code",
   "execution_count": 33,
   "metadata": {},
   "outputs": [],
   "source": [
    "import wget\n",
    "# path = '/data/'\n",
    "url =\"https://wwvarc.org/wwvarc.net/ftp/grape/2021-10-28T000000Z_N0000001_G1_EN91fh_FRQ_WWV5.csv\"\n",
    "filename = wget.download(url)\n",
    "filename\n",
    "os.remove(filename) # delete the file from the working directory when we're done using it"
   ]
  },
  {
   "cell_type": "markdown",
   "metadata": {},
   "source": [
    "Here's a function adapted from KD8CGH's code. It checks a text file in the local directory for the set of files to plot. We'll define the function, then make a list of files and call it. "
   ]
  },
  {
   "cell_type": "code",
   "execution_count": 34,
   "metadata": {
    "scrolled": true
   },
   "outputs": [],
   "source": [
    "def multiplot(plotTitle = ' Grape Data Plot'):\n",
    "    '''\n",
    "        # !/usr/bin/env python3\n",
    "    # -*- coding: utf-8 -*-\n",
    "    PROCESSED FILE VERSION V1.0 built on multiPlot v1.2\n",
    "    multiPlot version v1.2 cleans up to make Pi and Windows use easier\n",
    "    multiPlot version v1.1 adds sunrise sunset times for location of lat long in first file\n",
    "    requires suntime library https://github.com/SatAgro/suntime\n",
    "    multiPlot version v1.0 plots up to 10 PSWS \"rawdata\" files and average value\n",
    "    modified from WWV_plt2.py @authors dkazdan jgibbons\n",
    "    expects a homepath directory with processed files in homepath or subdirs \n",
    "    leaves plot in Mplot directory\n",
    "    plots files from multiple subdir to compare node results\n",
    "    plot title from first file\n",
    "    windows version hardcoded homepath directory location\n",
    "    for Pi comment out windows homepath and uncomment Pi  lines\n",
    "    uses WWV_utility2.py\n",
    "    Bob Benedict, KD8CGH, 7/29/2021\n",
    "    create text file \"plotfiles.txt\" in homepath directory\n",
    "      keyword ('Doppler' or 'Power')\n",
    "      keyword ('Average' or 'No Average')\n",
    "      subdir/filename1 \n",
    "      subdir/filename2\n",
    "      filename3\n",
    "      ...\n",
    "    Note - expects all data from the same beacon\n",
    "    if found 'Doppler' will plot Doppler shifts, else will plot Power\n",
    "    if found \"Average\" will add average plot\n",
    "    loads file names in list\n",
    "    plots first file and create axis and title info\n",
    "    plots rest in loop as curves on first plot\n",
    "    calculates average and plots\n",
    "    leaves plotfile in Mplot directory\n",
    "    uses\n",
    "    WWV_utility2.py\n",
    "    20 February 2020\n",
    "    WWV utility file\n",
    "    Routines and classes used in WWV file management and graphing\n",
    "    David Kazdan, AD8Y\n",
    "    John Gibbons, N8OBJ - mods to plot header 2/3/20\n",
    "    '''\n",
    "\n",
    "    #import os # uncomment for pi\n",
    "    from os import path\n",
    "    import sys\n",
    "    import csv\n",
    "    import math\n",
    "    #import shutil  # uncomment for pi\n",
    "    #from datetime import date, timedelta  # uncomment for pi\n",
    "    import numpy as np\n",
    "    import matplotlib.pyplot as plt\n",
    "    from scipy.signal import filtfilt, butter\n",
    "    import datetime  \n",
    "    from suntime import Sun\n",
    "    #import subprocess\n",
    "    from WWV_utility2 import time_string_to_decimals\n",
    "    from Beacon import readheader\n",
    "\n",
    "    '''  #uncomment for Pi\n",
    "    # ~ points to users home directory - usually /home/pi/\n",
    "    homepath = os.path.expanduser('~')\n",
    "    # embed the trailing / in the home path\n",
    "    homepath = homepath + \"/PSWS/\"\n",
    "    #comment out windows homepath\n",
    "    '''\n",
    "\n",
    "    homepath = \"\"#E:\\\\Documents\\\\PSWS\\\\\"  # set your windows path, comment out for Pi\n",
    "\n",
    "    names = open(homepath+\"Processfiles.txt\",\"r\")\n",
    "\n",
    "    PlotTarget = names.readline()\n",
    "    PlotTarget = PlotTarget.strip('\\n')\n",
    "    PlotAverage = names.readline()\n",
    "    if PlotAverage[0:7] == 'Average':\n",
    "        doavg=True\n",
    "    else:\n",
    "        doavg=False\n",
    "\n",
    "    Filenames=['a' for a in range (10)]\n",
    "    Filedates=['a' for a in range (10)]\n",
    "    #PrFilenames=['a' for a in range (10)]\n",
    "    Nodenum=['a' for a in range (10)]\n",
    "    Beaconname=['a' for a in range (10)]\n",
    "    beaconfreq=np.zeros(10)\n",
    "\n",
    "    nfiles = 0  # holder for number of files to plot\n",
    "\n",
    "    colors=['b','g','r','c','m','y','tab:orange','tab:gray','tab:purple','tab:brown']\n",
    "\n",
    "    while True:\n",
    "        temp = names.readline()\n",
    "        if  len(temp) <= 1:\n",
    "            break\n",
    "        Filenames[nfiles]=temp.strip(\"\\n\")\n",
    "        fdate = Filenames[nfiles].find(\"/\") # find start of filename after subdirectory\n",
    "        if fdate==-1 :  # if / not found try \\\n",
    "            fdate = Filenames[nfiles].find(\"\\\\\")\n",
    "    #    print(\" position \",fdate)\n",
    "        # if neith / nor \\ found file is in homepath, fdate=-1, following assignment still works\n",
    "        Filedates[nfiles]=temp[fdate+1:fdate+11]\n",
    "        nfiles=nfiles + 1\n",
    "\n",
    "    print(Filenames[0:9])\n",
    "    #print(Filedates[0:9])\n",
    "    print('number of files',nfiles)\n",
    "    if nfiles > 10 :\n",
    "        print('10 file limit')\n",
    "        sys.exit(0)\n",
    "\n",
    "    PROCESSDIR = homepath\n",
    "\n",
    "    #saved plot directory\n",
    "    PlotDir = homepath + 'Mplot/'\n",
    "\n",
    "    '''\n",
    "    read first file\n",
    "    '''\n",
    "    PrFilenames=(PROCESSDIR + Filenames[0])\n",
    "\n",
    "    if (path.exists(PrFilenames)):\n",
    "        print('File ' + PrFilenames + ' found!\\nProcessing...')\n",
    "    else:\n",
    "        print('File ' + PrFilenames + ' not available.\\nExiting disappointed...')\n",
    "        sys.exit(0)\n",
    "\n",
    "    with open(PrFilenames, 'r') as dataFile:\n",
    "        dataReader=csv.reader(dataFile)\n",
    "        data = list(dataReader)\n",
    "        Header = data.pop(0)\n",
    "\n",
    "    #    print('return',readheader(0,Header))\n",
    "        Nodenum[0], Beaconname[0], beaconfreq[0], Lat, Long = readheader(Header)\n",
    "    #    print('\\n returned ', Nodenum[0], Beaconname[0], beaconfreq[0], Lat, Long, '\\n')\n",
    "\n",
    "    ''' ###########################################################################\n",
    "    '''\n",
    "    print('Ready to start processing records')\n",
    "\n",
    "    # Prepare data arrays\n",
    "    hours=[[],[],[],[],[],[],[],[],[],[]]\n",
    "    Doppler=[[],[],[],[],[],[],[],[],[],[]]\n",
    "    #Vpk=[[],[],[],[],[],[],[],[],[],[]]\n",
    "    Power_dB=[[],[],[],[],[],[],[],[],[],[]] # will be second data set, received power 9I20\n",
    "    filtDoppler=[[],[],[],[],[],[],[],[],[],[]]\n",
    "    filtPower=[[],[],[],[],[],[],[],[],[],[]]\n",
    "\n",
    "    LateHour=False # flag for loop going past 23:00 hours\n",
    "\n",
    "    # eliminate all metadata saved at start of file - Look for UTC (CSV headers)\n",
    "    #find first row of data0\n",
    "    FindUTC = 0\n",
    "\n",
    "    for row in data:\n",
    "        if (FindUTC == 0):\n",
    "            #print('looking for UTC - row[0] =',row[0])\n",
    "            if (row[0] == 'UTC'):\n",
    "                FindUTC = 1\n",
    "    #            print('UTC found =', row[0])\n",
    "        else:\n",
    "            #print('Processing record')\n",
    "            decHours=time_string_to_decimals(row[0])\n",
    "    #        if (NewHdr != 'New'):\n",
    "    #            if (calccnt  < 101):\n",
    "    #                calcnt = calcnt+1\n",
    "    #                freqcalc = freqcalc + (float(row[1])/100)\n",
    "    #        if decHours > 23:\n",
    "    #            LateHour=True # went past 23:00 hours\n",
    "            if (not LateHour) or (LateHour and (decHours>23)): # Otherwise past 23:59:59.  Omit time past midnight.\n",
    "                hours[0].append(decHours) # already in float because of conversion to decimal hours.\n",
    "                Doppler[0].append(float(row[1])-beaconfreq[0]) # frequency offset from col 2\n",
    "    #            Vpk[0].append (float(row[2])) # Get Volts peak from col 3\n",
    "                Power_dB[0].append (20*math.log10(float(row[2]))) # log power from col 4\n",
    "\n",
    "    #print('nf ',0,'len hours',len(hours[0]))\n",
    "\n",
    "    ###############################################################################################\n",
    "    # Find max and min of Power_dB for graph preparation:\n",
    "    min_power=np.amin(Power_dB[0]) # will use for graph axis min\n",
    "    max_power=np.amax(Power_dB[0]) # will use for graph axis max\n",
    "\n",
    "    min_Doppler=np.amin(Doppler[0]) # min Doppler\n",
    "    max_Doppler=np.amax(Doppler[0]) # max Doppler\n",
    "\n",
    "    print('\\nDoppler min: ', min_Doppler, '; Doppler max: ', max_Doppler)\n",
    "    print('dB min: ', min_power, '; dB max: ', max_power)\n",
    "\n",
    "    #%% Create an order 3 lowpass butterworth filter.\n",
    "    # This is a digital filter (analog=False)\n",
    "    # Filtering at .01 to .004 times the Nyquist rate seems \"about right.\"\n",
    "    # The filtering argument (Wn, the second argument to butter()) of.01\n",
    "    # represents filtering at .05 Hz, or 20 second weighted averaging.\n",
    "    # That corresponds with the 20 second symmetric averaging window used in the 1 October 2019\n",
    "    # Excel spreadsheet for the Festival of Frequency Measurement data.\n",
    "    #FILTERBREAK=.005 #filter breakpoint in Nyquist rates. N. rate here is 1/sec, so this is in Hz.\n",
    "    FILTERBREAK=0.005 #filter breakpoint in Nyquist rates. N. rate here is 1/sec, so this is in Hz.\n",
    "    FILTERORDER=6\n",
    "    b, a = butter(FILTERORDER, FILTERBREAK, analog=False, btype='low')\n",
    "    #print (b, a)\n",
    "    #%%\n",
    "    # Use the just-created filter coefficients for a noncausal filtering (filtfilt is forward-backward noncausal)\n",
    "\n",
    "\n",
    "    filtDoppler[0] = filtfilt(b, a, Doppler[0])\n",
    "\n",
    "    filtPower[0] = filtfilt(b, a, Power_dB[0])\n",
    "\n",
    "    ##################################################################################################\n",
    "    # sunrise sunset times in UTC\n",
    "    sun = Sun(float(Lat), float(Long))\n",
    "\n",
    "    UTC_DT=Filedates[0]\n",
    "    print(UTC_DT)\n",
    "    SDAY=int(UTC_DT[8:10])\n",
    "    SMON=int(UTC_DT[5:7])\n",
    "    SYEAR=int(UTC_DT[0:4])\n",
    "    sdate = datetime.date(SYEAR, SMON, SDAY)\n",
    "    today_sr = sun.get_sunrise_time(sdate)\n",
    "    today_ss = sun.get_sunset_time(sdate)\n",
    "    #print(today_sr)\n",
    "    srh=int(format(today_sr.strftime('%H')))\n",
    "    srm=int(format(today_sr.strftime('%M')))\n",
    "    srx=srh+srm/60\n",
    "    ssh=int(format(today_ss.strftime('%H')))\n",
    "    ssm=int(format(today_ss.strftime('%M')))\n",
    "    ssx=ssh+ssm/60\n",
    "\n",
    "    # set up x-axis with time\n",
    "    fig = plt.figure(figsize=(19,10)) # inches x, y with 72 dots per inch\n",
    "    ax = fig.add_subplot(111)\n",
    "    ax.set_xlabel('UTC Hour')\n",
    "    ax.set_xlim(0,24) # UTC day\n",
    "    ax.set_xticks([0,1,2,3,4,5,6,7,8,9,10,11,12,13,14,15,16,17,18,19,20,21,22,23,24], minor=False)\n",
    "\n",
    "    # plot first curve\n",
    "    if (PlotTarget == 'Doppler'):\n",
    "        ax.plot([srx,srx],[-1,1],'y',label='sunrise',linestyle='dashed')\n",
    "        ax.plot([ssx,ssx],[-1,1],'b',label='sunset',linestyle='dashed')\n",
    "        ax.plot(hours[0], filtDoppler[0], colors[0],label=Beaconname[0] +' '+Nodenum[0]+' '+Filedates[0]) # color k for black\n",
    "        ax.set_ylabel('Doppler shift, Hz '+ Filedates[0])\n",
    "        ax.set_ylim([-1.0, 1.0]) # -1 to 1 Hz for Doppler shift\n",
    "        plt.axhline(y=0, color=\"gray\", lw=1) # plot a zero freq reference line for 0.000 Hz Doppler shift\n",
    "\n",
    "\n",
    "    else:\n",
    "        ax.plot([srx,srx],[-90,0],'y',label='sunrise',linestyle='dashed')\n",
    "        ax.plot([ssx,ssx],[-90,0],'b',label='sunset',linestyle='dashed')\n",
    "        ax.plot(hours[0], filtPower[0], colors[0],label=Beaconname[0] +' '+ Nodenum[0]+' '+Filedates[0]) # color k for black\n",
    "        ax.set_ylabel('Power, dB '+ Filedates[0])\n",
    "        ax.set_ylim(-90, 0)    \n",
    "\n",
    "\n",
    "    # add grid lines - RLB\n",
    "    plt.grid(axis='both')\n",
    "\n",
    "    '''\n",
    "    ######################################################################\n",
    "    read and plot files loop\n",
    "    '''\n",
    "\n",
    "    for nf in range(1, nfiles):\n",
    "    # splot second curve\n",
    "    # read second file, skip header\n",
    "        print('process file ',nf, Filenames[nf])\n",
    "        PrFilenames=(PROCESSDIR + Filenames[nf])\n",
    "        with open(PrFilenames, 'r') as dataFile: # read second set\n",
    "            dataReader=csv.reader(dataFile)\n",
    "            data = list(dataReader)\n",
    "            Header = data.pop(0)\n",
    "            Nodenum[nf]= Header[2]\n",
    "        FindUTC = 0\n",
    "\n",
    "        Nodenum[nf], Beaconname[nf], beaconfreq[nf], Lat, Long = readheader(Header)\n",
    "    #    print('\\n returned ', Nodenum[nf], Beaconname[nf], beaconfreq[nf], Lat, Long, '\\n')\n",
    "\n",
    "        for row in data:\n",
    "            if (FindUTC == 0):\n",
    "                #print('looking for UTC - row[0] =',row[0])\n",
    "                if (row[0] == 'UTC'):\n",
    "                    FindUTC = 1\n",
    "    #            print('UTC found =', row[0])\n",
    "            else:\n",
    "                decHours=time_string_to_decimals(row[0])\n",
    "                hours[nf].append(decHours) # already in float because of conversion to decimal hours.\n",
    "                Doppler[nf].append(float(row[1])-beaconfreq[nf]) # frequency offset from col 2\n",
    "    #            Vpk[nf].append (float(row[2])) # Get Volts peak from col 3\n",
    "    #            Power_dB[nf].append (float(row[4])) # log power from col 4    \n",
    "                Power_dB[nf].append (20*math.log10(float(row[2]))) # log power\n",
    "    # filter  file data\n",
    "        filtDoppler[nf] = filtfilt(b, a, Doppler[nf])\n",
    "        filtPower[nf] = filtfilt(b, a, Power_dB[nf])\n",
    "\n",
    "        if (PlotTarget == 'Doppler'):    \n",
    "            ax.plot(hours[nf], filtDoppler[nf], colors[nf], label=Beaconname[nf] +' '+ Nodenum[nf]+' '+Filedates[nf]) # color k for black\n",
    "        else:\n",
    "            ax.plot(hours[nf], filtPower[nf], colors[nf], label=Beaconname[nf] +' '+ Nodenum[nf]+' '+Filedates[nf]) # color k for black\n",
    "\n",
    "    '''\n",
    "    #############################################################################\n",
    "    end for read and plot loop, start average\n",
    "    '''\n",
    "    # find shortest data set, limit average to that\n",
    "    if doavg :\n",
    "        al=1000000\n",
    "        ak=0\n",
    "\n",
    "        for k in range(nfiles):\n",
    "            templ=len(hours[k])\n",
    "            if templ < al:\n",
    "                al=templ\n",
    "                ak=k\n",
    "\n",
    "        avg=[]\n",
    "\n",
    "        if (PlotTarget == 'Doppler'):\n",
    "            for i in range(al):\n",
    "                temp=0.0\n",
    "                for j in range(nfiles):\n",
    "                    temp=temp+filtDoppler[j][i]\n",
    "                temp=temp/nfiles\n",
    "                avg.append(temp)\n",
    "        else:\n",
    "            for i in range(al):\n",
    "                temp=0.0\n",
    "                for j in range(nfiles):\n",
    "                    temp=temp+filtPower[j][i]\n",
    "                temp=temp/nfiles\n",
    "                avg.append(temp)\n",
    "\n",
    "        #print('avg',len(avg))\n",
    "\n",
    "        ax.plot(hours[ak], avg, 'k', label='Average') # color k for black\n",
    "\n",
    "    '''\n",
    "    end average\n",
    "    '''\n",
    "    ax.legend(loc=\"lower right\",  frameon=False)\n",
    "\n",
    "\n",
    "    # Create Plot Title\n",
    "    plt.title(plotTitle)\n",
    "    #plt.title(beaconlabel + ' Grape Data Plot\\nNode:  ' + node + '     Gridsquare:  '+ GridSqr + '\\nLat= ' + Lat + '    Long= ' + Long + '    Elev= ' + Elev + ' M\\n' )\n",
    "    # Create Plot File Nam\n",
    "    #GraphFile = yesterdaystr + '_' + node + '_' + RadioID + '_' + GridSqr + '_' + beacon + '_graph.png'\n",
    "    GraphFile = 'multi'+ PlotTarget + '.png'\n",
    "    PlotGraphFile = PlotDir + GraphFile\n",
    "\n",
    "    # create plot\n",
    "    #plt.savefig(PlotDir + yesterdaystr + '_' + node + '_' +  GridSqr + '_' +  RadioID + '_' +  beacon + '_graph.png', dpi=250, orientation='landscape')\n",
    "    plt.savefig(PlotDir + GraphFile, dpi=250, orientation='landscape')\n",
    "    # =============================================================================\n",
    "\n",
    "    print('Plot File: ' + GraphFile + '\\n')  # indicate plot file name for crontab printout\n",
    "\n",
    "    return fig\n",
    "    #-------------------------------------------------------------------\n",
    "    print('Exiting python multi plot program gracefully')"
   ]
  },
  {
   "cell_type": "markdown",
   "metadata": {},
   "source": [
    "Here, we'll make a list of files. The multiplot function gives primacy to the first file listed. "
   ]
  },
  {
   "cell_type": "code",
   "execution_count": 35,
   "metadata": {},
   "outputs": [],
   "source": [
    "# Gather multiple files....\n",
    "gantt = gantt.loc[gantt['Frequency'] == 'WWV10']                        # only a specific frequency...\n",
    "sTime_tmp = datetime.datetime(2021,10,28, tzinfo = pytz.UTC)            # start time\n",
    "eTime_tmp = datetime.datetime(2021,10,29, tzinfo = pytz.UTC)            # end time\n",
    "namelist = gantt[(gantt['Datetime'] >= sTime_tmp) & (gantt['Datetime'] <= eTime_tmp)].Filename\n",
    "\n",
    "\n",
    "names=namelist.values.tolist()\n",
    "\n",
    "names = names[1:8]                                                   # select specific rows...\n",
    "\n",
    "textfile = open(\"Processfiles.txt\", \"w\")                             # write list to text file for multiplot, below\n",
    "for element in names:\n",
    "    textfile.write(element) # + \"\\n\")\n",
    "textfile.close()"
   ]
  },
  {
   "cell_type": "code",
   "execution_count": 36,
   "metadata": {},
   "outputs": [],
   "source": [
    "# Download the files to plot:\n",
    "\n",
    "#saved data directory\n",
    "homepath = \"\"\n",
    "DataDir = homepath + 'data/'\n",
    "\n",
    "for name in names:\n",
    "    stem = \"https://wwvarc.org/wwvarc.net/ftp/grape/\"\n",
    "    url = stem + name\n",
    "    filename = wget.download(url, out = DataDir)"
   ]
  },
  {
   "cell_type": "code",
   "execution_count": 18,
   "metadata": {},
   "outputs": [
    {
     "name": "stdout",
     "output_type": "stream",
     "text": [
      "['2021-10-28T000000Z_N0000014_G1_FN21ei_FRQ_WWV10.csv', '2021-10-28T000000Z_N0000015_G1_FN20mp_FRQ_WWV10.csv', '2021-10-28T000000Z_N0000034_G1_FN13wd_FRQ_WWV10.csv', '2021-10-28T000000Z_N0000036_G1_FN42hp_FRQ_WWV10.csv', '2021-10-28T000000Z_N00009_G1_FN20ge_FRQ_WWV10.csv', 'a', 'a', 'a', 'a']\n",
      "number of files 5\n",
      "File 2021-10-28T000000Z_N0000014_G1_FN21ei_FRQ_WWV10.csv found!\n",
      "Processing...\n",
      "New Header String Detected\n",
      "\n",
      "corrected UTCDTZ = 2021-10-28T000000Z\n",
      "Plot for Decoded 10MHz WWV Beacon\n",
      "\n",
      "Ready to start processing records\n",
      "\n",
      "Doppler min:  -3.6740000005811453 ; Doppler max:  4.598999999463558\n",
      "dB min:  -66.61366238867775 ; dB max:  -15.931726398070946\n",
      "2021-10-28\n",
      "process file  1 2021-10-28T000000Z_N0000015_G1_FN20mp_FRQ_WWV10.csv\n",
      "New Header String Detected\n",
      "\n",
      "corrected UTCDTZ = 2021-10-28T000000Z\n",
      "Plot for Decoded 10MHz WWV Beacon\n",
      "\n",
      "process file  2 2021-10-28T000000Z_N0000034_G1_FN13wd_FRQ_WWV10.csv\n",
      "New Header String Detected\n",
      "\n",
      "corrected UTCDTZ = 2021-10-28T000000Z\n",
      "Plot for Decoded 10MHz WWV Beacon\n",
      "\n",
      "process file  3 2021-10-28T000000Z_N0000036_G1_FN42hp_FRQ_WWV10.csv\n",
      "New Header String Detected\n",
      "\n",
      "corrected UTCDTZ = 2021-10-28T000000Z\n",
      "Plot for Decoded 10MHz WWV Beacon\n",
      "\n",
      "process file  4 2021-10-28T000000Z_N00009_G1_FN20ge_FRQ_WWV10.csv\n",
      "New Header String Detected\n",
      "\n",
      "corrected UTCDTZ = 2021-10-28T000000Z\n",
      "Plot for Decoded 10MHz WWV Beacon\n",
      "\n",
      "Plot File: multi2021-10-28T000000Z_N0000008_S1_EN91fl_FRQ_WWV10.csv.png\n",
      "\n",
      "Exiting python multi plot program gracefully\n"
     ]
    },
    {
     "data": {
      "image/png": "[encoded data removed]",
      "text/plain": [
       "<Figure size 1368x720 with 1 Axes>"
      ]
     },
     "metadata": {},
     "output_type": "display_data"
    }
   ],
   "source": [
    "# ....and plot:\n",
    "\n",
    "foo = multiplot()"
   ]
  },
  {
   "cell_type": "markdown",
   "metadata": {},
   "source": [
    "The version of `multiplot()` allows us to control the title and plotting of additional vertical lines. "
   ]
  },
  {
   "cell_type": "code",
   "execution_count": 20,
   "metadata": {},
   "outputs": [
    {
     "name": "stdout",
     "output_type": "stream",
     "text": [
      "['2021-10-28T000000Z_N0000014_G1_FN21ei_FRQ_WWV10.csv', '2021-10-28T000000Z_N0000015_G1_FN20mp_FRQ_WWV10.csv', '2021-10-28T000000Z_N0000034_G1_FN13wd_FRQ_WWV10.csv', '2021-10-28T000000Z_N0000036_G1_FN42hp_FRQ_WWV10.csv', '2021-10-28T000000Z_N00009_G1_FN20ge_FRQ_WWV10.csv', 'a', 'a', 'a', 'a']\n",
      "number of files 5\n",
      "File 2021-10-28T000000Z_N0000014_G1_FN21ei_FRQ_WWV10.csv found!\n",
      "Processing...\n",
      "New Header String Detected\n",
      "\n",
      "corrected UTCDTZ = 2021-10-28T000000Z\n",
      "Plot for Decoded 10MHz WWV Beacon\n",
      "\n",
      "Ready to start processing records\n",
      "\n",
      "Doppler min:  -3.6740000005811453 ; Doppler max:  4.598999999463558\n",
      "dB min:  -66.61366238867775 ; dB max:  -15.931726398070946\n",
      "2021-10-28\n",
      "process file  1 2021-10-28T000000Z_N0000015_G1_FN20mp_FRQ_WWV10.csv\n",
      "New Header String Detected\n",
      "\n",
      "corrected UTCDTZ = 2021-10-28T000000Z\n",
      "Plot for Decoded 10MHz WWV Beacon\n",
      "\n",
      "process file  2 2021-10-28T000000Z_N0000034_G1_FN13wd_FRQ_WWV10.csv\n",
      "New Header String Detected\n",
      "\n",
      "corrected UTCDTZ = 2021-10-28T000000Z\n",
      "Plot for Decoded 10MHz WWV Beacon\n",
      "\n",
      "process file  3 2021-10-28T000000Z_N0000036_G1_FN42hp_FRQ_WWV10.csv\n",
      "New Header String Detected\n",
      "\n",
      "corrected UTCDTZ = 2021-10-28T000000Z\n",
      "Plot for Decoded 10MHz WWV Beacon\n",
      "\n",
      "process file  4 2021-10-28T000000Z_N00009_G1_FN20ge_FRQ_WWV10.csv\n",
      "New Header String Detected\n",
      "\n",
      "corrected UTCDTZ = 2021-10-28T000000Z\n",
      "Plot for Decoded 10MHz WWV Beacon\n",
      "\n",
      "Plot File: multi2021-10-28T000000Z_N0000008_S1_EN91fl_FRQ_WWV10.csv.png\n",
      "\n",
      "Exiting python multi plot program gracefully\n"
     ]
    },
    {
     "data": {
      "image/png": "[encoded data removed]",
      "text/plain": [
       "<Figure size 1368x720 with 1 Axes>"
      ]
     },
     "metadata": {},
     "output_type": "display_data"
    }
   ],
   "source": [
    "multiplot(plotTitle = ' Tonga Earthquake')"
   ]
  },
  {
   "cell_type": "code",
   "execution_count": 19,
   "metadata": {},
   "outputs": [],
   "source": [
    "# # Load file into dataframe, ignore comment lines, and parse dates\n",
    "# # fname = '2021-04-07T000000Z_N0000007_G1_EN91fh_FRQ_WWV10.csv.bz2'\n",
    "# fname = \"2021-10-28T000000Z_N0000001_G1_EN91fh_FRQ_WWV5.csv\"\n",
    "# cfreq = 10e6\n",
    "# data    = pd.read_csv(fname, comment = '#', parse_dates=[0])\n",
    "\n",
    "# # Remove the 10 MHz offset from the frequency column.\n",
    "# data['Freq'] = data['Freq']-cfreq\n",
    "\n",
    "\n",
    "\n"
   ]
  },
  {
   "cell_type": "markdown",
   "metadata": {},
   "source": [
    "## Keogram of long-term data\n",
    "Let's generate a keogram of data from AD8Y and N8OBJ, two stations relatively close to one another."
   ]
  },
  {
   "cell_type": "code",
   "execution_count": null,
   "metadata": {},
   "outputs": [],
   "source": [
    "# Code to create a table, called \"keo\", which includes the data for a station.\n",
    "\n",
    "tic = time.time()                                                       # set up time clock to see how long this takes\n",
    "# First we select stations of interest:\n",
    "keolist = df[df['Node']==29]         # selecting one node\n",
    "cfreq = 10e6 # 10 MHz.... will change if we want to look at another frequency.\n",
    "\n",
    "\n",
    "# # Filter by days of interest:\n",
    "sTime_tmp = datetime.datetime(2022,1,10, tzinfo = pytz.UTC)\n",
    "tf = keolist['Datetime'] >= sTime_tmp # true/false vector\n",
    "keolist = keolist[tf].copy()\n",
    "keolist[\"Filename\"]=keolist[\"Filename\"].str.replace(\"\\n\",\"\")\n",
    "\n",
    "keofiles = keolist[\"Filename\"].tolist() # generate a list of filenames\n",
    "urls = [\"https://wwvarc.org/wwvarc.net/ftp/grape/\" + s for s in keofiles]\n",
    "\n",
    "urls = urls[20:30] # for debugging - make it a short list. \n",
    "\n",
    "# For each url, download file, regularize, pull date from datestamp, convert datestamp to timestamp, \n",
    "# pd.merge() into keo, delete old file\n",
    "\n",
    "keo = _                                # Renew keo variable\n",
    "try:\n",
    "    del keo\n",
    "except NameError:\n",
    "    print('No keo table to refresh.')\n",
    "    \n",
    "for url in urls:\n",
    "    filename = wget.download(url)\n",
    "    rawdata    = pd.read_csv(url, comment = '#', parse_dates=[0])\n",
    "    data = rawdata.drop_duplicates(subset=['UTC'], keep='last')      # drop duplicates\n",
    "    datestring = data['UTC'].iloc[4].date().strftime('%d %b %Y')     # what's the date?\n",
    "    current_date = data['UTC'].iloc[4].date()\n",
    "    data['UTC'] = pd.to_datetime(data['UTC'])                        # convert from string to datetime\n",
    "    data = data.set_index(['UTC'])                                   # index by datetime\n",
    "    data = data.resample('5min').pad()                               # Resample *within* for loop\n",
    "    data.index = pd.Series([val.time() for val in data.index])       # Ditch date from datetime\n",
    "    data = data.drop(columns = ['Vpk'])                              # let's just look at frequency information...\n",
    "    data['Freq'] = data['Freq']-cfreq                                # Remove the 10 MHz offset from the freq column.\n",
    "    Freq_string=\"freq: \"+ datestring                                 # Rename col with date\n",
    "    Vpk_string = \"Vpk: \" + datestring                                # Rename col with date\n",
    "    data = data.rename(columns={'Freq': Freq_string, 'Vpk': Vpk_string})\n",
    "    \n",
    "    os.remove(filename) # delete the file from the working directory when we're done using it\n",
    "    try: # put all data of interest into one\n",
    "        \n",
    "        while current_date > expected_date:        # Check and see if we missed a day.\n",
    "            print('Missing a day!............. Expected ' + expected_date.strftime('%d %b %Y') +\n",
    "                 ' but the next dataset is ' + current_date.strftime('%d %b %Y'))\n",
    "            expected_date = expected_date+datetime.timedelta(days=1)\n",
    "            print( \"Let's check for \" + expected_date.strftime('%d %b %Y'))\n",
    "            data[:] = np.nan                                 # Pad with a blank day's worth of data\n",
    "            keo = pd.concat([keo, data], axis=1)\n",
    "        print('Merging data...' + current_date.strftime('%d %b %Y'))\n",
    "        keo = pd.concat([keo, data], axis=1)                     \n",
    "        expected_date = current_date+datetime.timedelta(days=1)\n",
    "    except NameError:\n",
    "        keo = data.copy(deep=True)\n",
    "        print('Starting keo table...'+ current_date.strftime('%d %b %Y'))\n",
    "        expected_date = current_date\n",
    "        print('Starting date list. ' + expected_date.strftime('%d %b %Y'))\n",
    "keo\n",
    "\n",
    "toc = time.time() - tic                                     # See how much time has passed\n",
    "print(str(toc) + ' seconds to complete this task.')         # Feedback to user\n"
   ]
  },
  {
   "cell_type": "code",
   "execution_count": null,
   "metadata": {},
   "outputs": [],
   "source": [
    "\n",
    "\n",
    "color = plt.get_cmap('RdBu')   # default color\n",
    "\n",
    "# cmap = copy.copy(mpl.cm.get_cmap(\"RdYlGn\"))\n",
    "color.set_bad('black')    # distinct color if value is bad. Try \"lightblue\" for something milder...\n",
    "# h_map = sns.heatmap(data=N8OBJ, cmap=color, robust = 1, center = 0,  vmin=-.45, vmax=.45)   # now plot the heatmap\n",
    "# plt.title('N8OBJ')\n",
    "\n",
    "\n",
    "# list(N8OBJ)\n"
   ]
  },
  {
   "cell_type": "code",
   "execution_count": null,
   "metadata": {},
   "outputs": [],
   "source": [
    "# AD8Y = keo.copy()\n",
    "# h_map = sns.heatmap(data=AD8Y, cmap=color, robust = 1, center = 0,  vmin=-.45, vmax=.45)   # now plot the heatmap\n",
    "# plt.title('AD8Y')\n",
    "# list(AD8Y)\n",
    "# AD8Y"
   ]
  },
  {
   "cell_type": "code",
   "execution_count": null,
   "metadata": {},
   "outputs": [],
   "source": [
    "# # import plotly.plotly as py #import for online posted plots\n",
    "# import chart_studio.plotly as py\n",
    "# import numpy as np\n",
    "# from scicolorscales import *\n",
    "\n",
    "# def surface2():    \n",
    "#     x = np.linspace(-2, 2, 200)\n",
    "#     y = np.linspace(-2, 2, 200)\n",
    "#     x,y = np.meshgrid(x, y)\n",
    "#     z = 2*(x+y)*np.exp(-x**2-y**2)\n",
    "#     return x, y, z\n",
    "\n",
    "# data2=get_plotly_data(surface=surface2, colorscale=vik)\n",
    "# layout['scene'].update(zaxis=dict(axes_style, **dict(range=[-2.5,1.5])),\n",
    "#                        camera=dict(eye=dict(x=-1.25, y=1.25, z=0.6)))\n",
    "# layout.update(title='Plot with vik colorscale')\n",
    "# fig2=dict(data=data2, layout=layout)\n",
    "# py.iplot(fig2, filename='scientific-divclsc')"
   ]
  },
  {
   "cell_type": "code",
   "execution_count": null,
   "metadata": {},
   "outputs": [],
   "source": [
    "# h_map = sns.heatmap(data=N8OBJ.-AD8Y, cmap=color, robust = 1, center = 0,  vmin=-.45, vmax=.45)   # now plot the heatmap"
   ]
  },
  {
   "cell_type": "code",
   "execution_count": null,
   "metadata": {},
   "outputs": [],
   "source": [
    "def keomaker(nodenum, start = [2018, 1, 1, 0, 0, 0], end = [date.today().year, date.today().month, date.today().day], \n",
    "             cfreq = 10e6, cadence = '5min', quant='freq'):\n",
    "    tic = time.time()                                                       # set up time clock to see how long this takes\n",
    "    # First we select stations of interest:\n",
    "    keolist = df[df['Node']==nodenum]         # selecting one node\n",
    "\n",
    "\n",
    "    # Filter by days of interest:\n",
    "    sTime_tmp = datetime.datetime(start[0], start[1], start[2], tzinfo = pytz.UTC)\n",
    "    tf1 = keolist['Datetime'] >= sTime_tmp\n",
    "    eTime_tmp = datetime.datetime(end[0], end[1], end[2], tzinfo = pytz.UTC)\n",
    "    tf2 = keolist['Datetime'] <= eTime_tmp\n",
    "    tf = tf1 & tf2                                                                  \n",
    "    keolist = keolist[tf].copy()\n",
    "    keolist[\"Filename\"]=keolist[\"Filename\"].str.replace(\"\\n\",\"\")\n",
    "    \n",
    "\n",
    "    keofiles = keolist[\"Filename\"].tolist() # generate a list of filenames\n",
    "    urls = [\"https://wwvarc.org/wwvarc.net/ftp/grape/\" + s for s in keofiles]\n",
    "\n",
    "    # urls = urls[20:30] # for debugging - make it a short list. \n",
    "\n",
    "    # For each url, download file, regularize, pull date from datestamp, convert datestamp to timestamp, \n",
    "    # pd.merge() into keo, delete old file\n",
    "\n",
    "    keo = _                                # Renew keo variable\n",
    "    try:\n",
    "        del keo\n",
    "    except NameError:\n",
    "        print('No keo table to refresh.')\n",
    "\n",
    "    for url in urls:\n",
    "        filename = wget.download(url)\n",
    "        rawdata    = pd.read_csv(url, comment = '#', parse_dates=[0])\n",
    "        data = rawdata.drop_duplicates(subset=['UTC'], keep='last')      # drop duplicates\n",
    "        datestring = data['UTC'].iloc[4].date().strftime('%d %b %Y')     # what's the date?\n",
    "        current_date = data['UTC'].iloc[4].date()\n",
    "        data['UTC'] = pd.to_datetime(data['UTC'], utc=True)             # convert from string to datetime\n",
    "        data = data.set_index(['UTC'])                                   # index by datetime\n",
    "        data = data.resample(cadence).pad()                               # Resample *within* for loop\n",
    "        data.index = pd.Series([val.time() for val in data.index])       # Ditch date from datetime\n",
    "\n",
    "        if quant == 'amp':\n",
    "            data = data.drop(columns = ['Freq'])\n",
    "            print('Looking at amplitude.')\n",
    "        if quant == 'freq':\n",
    "            data = data.drop(columns = ['Vpk'])                              # let's just look at frequency information.\n",
    "            data['Freq'] = data['Freq']-cfreq                                # Remove the 10 MHz offset from the freq column.\n",
    "        Freq_string= datestring                                          # Rename col with date\n",
    "        Vpk_string = \"Vpk: \" + datestring                                # Rename col with date\n",
    "        data = data.rename(columns={'Freq': Freq_string, 'Vpk': Vpk_string})\n",
    "\n",
    "        os.remove(filename) # delete the file from the working directory when we're done using it\n",
    "        try: # put all data of interest into one\n",
    "\n",
    "            while current_date > expected_date:        # Check and see if we missed a day.\n",
    "                print('Missing a day!............. Expected ' + expected_date.strftime('%d %b %Y') +\n",
    "                     ' but the next dataset is ' + current_date.strftime('%d %b %Y'))\n",
    "                expected_date = expected_date+datetime.timedelta(days=1)\n",
    "                print( \"Let's check for \" + expected_date.strftime('%d %b %Y'))\n",
    "                data[:] = np.nan                                 # Pad with a blank day's worth of data\n",
    "                keo = pd.concat([keo, data], axis=1)\n",
    "            print('Merging data...' + current_date.strftime('%d %b %Y'))\n",
    "            keo = pd.concat([keo, data], axis=1)                     \n",
    "            expected_date = current_date+datetime.timedelta(days=1)\n",
    "        except NameError:\n",
    "            keo = data.copy(deep=True)\n",
    "            print('Starting keo table...'+ current_date.strftime('%d %b %Y'))\n",
    "            expected_date = current_date\n",
    "            print('Starting date list. ' + expected_date.strftime('%d %b %Y'))\n",
    "\n",
    "    toc = time.time() - tic                                     # See how much time has passed\n",
    "    print(str(toc) + ' seconds to complete this task.')         # Feedback to user\n",
    "    return keo\n"
   ]
  },
  {
   "cell_type": "code",
   "execution_count": null,
   "metadata": {},
   "outputs": [],
   "source": [
    "# N8OBJ = keomaker(1, cfreq=5e6, end=[2020, 7, 1, 0, 0, 0])\n",
    "# h_map = sns.heatmap(data=N8OBJ, cmap=color, robust = 1, center = 0,  vmin=-.45, vmax=.45)   # now plot the heatmap\n",
    "# # AD8Y = keomaker(8)\n",
    "\n",
    "# W7LUX = keomaker(29, cfreq=10e6, end = [2021, 6, 1, 0, 0, 0], quant = 'amp')\n",
    "h_map = sns.heatmap(data=W7LUX, robust = 1)# cmap=color, robust = 1)# center = 0,  vmin=-.45, vmax=.45)   # now plot the heatmap"
   ]
  },
  {
   "cell_type": "code",
   "execution_count": null,
   "metadata": {},
   "outputs": [],
   "source": [
    "\n",
    "# W7LUX = keomaker(29, cfreq=10e6, end = [2022, 1, 1, 0, 0, 0])\n",
    "h_map = sns.heatmap(data=W7LUX, cmap=color, robust = 1, center = 0,  vmin=-.45, vmax=.45)   # now plot the heatmap\n",
    "plt.title('W7LUX, 10 MHz')"
   ]
  },
  {
   "cell_type": "code",
   "execution_count": null,
   "metadata": {},
   "outputs": [],
   "source": [
    "W7LUX"
   ]
  },
  {
   "cell_type": "code",
   "execution_count": null,
   "metadata": {},
   "outputs": [],
   "source": [
    "N8OBJ2 = keomaker(7, cfreq=10e6)\n",
    "h_map = sns.heatmap(data=N8OBJ2, cmap=color, robust = 1, center = 0,  vmin=-.45, vmax=.45)   # now plot the heatmap\n"
   ]
  },
  {
   "cell_type": "code",
   "execution_count": null,
   "metadata": {},
   "outputs": [],
   "source": [
    "h_map = sns.heatmap(data=N8OBJ2, cmap=color, robust = 1, center = 0,  vmin=-.45, vmax=.45)   # now plot the heatmap\n",
    "plt.title('Node 7 - N8OBJ, 10 MHz')\n",
    "\n",
    "N8OBJ2"
   ]
  },
  {
   "cell_type": "code",
   "execution_count": null,
   "metadata": {},
   "outputs": [],
   "source": [
    "N8OBJ3 = keomaker(7, start = [2022, 1, 10, 0, 0, 0], end = [2022, 1, 20, 0, 0, 0], cfreq=10e6, cadence = '1s')\n",
    "h_map = sns.heatmap(data=N8OBJ3, cmap=color, robust = 1, center = 0,  vmin=-.45, vmax=.45)   # now plot the heatmap\n"
   ]
  },
  {
   "cell_type": "code",
   "execution_count": null,
   "metadata": {},
   "outputs": [],
   "source": [
    "# Next steps:\n",
    "#     1) Get keosaver bug fixed (flip start and end times above to test) so partial datasets can be incorporated\n",
    "#    1.5) Sub in new node list from John - delete PII first - new filelist.txt too\n",
    "#     2) Write for loop (below) to bulk gen keograms and save data\n",
    "#     3) Make a version of keosaver to zoom in on sunrise only - higher time resolution/shorter cadence"
   ]
  },
  {
   "cell_type": "code",
   "execution_count": null,
   "metadata": {},
   "outputs": [],
   "source": [
    "# nodes\n",
    "\n",
    "# # N8OBJ2.to_csv('N8OBJ Node 7 10 MHz 5 min cadence.csv')\n",
    "# for i in nodes:\n",
    "#     nodes\n",
    "\n",
    "nodes['Grid Square']"
   ]
  },
  {
   "cell_type": "markdown",
   "metadata": {},
   "source": [
    "# Create Event List\n",
    "## Pull Space WX Data from Other Sources\n",
    "Let's also pull data from the NOAA database. We'll use this to generate our event list, selecting dates when, for instance, we saw solar flares that might induce Doppler flash and so on. We can also pull data showing seasonal or solar variation, like a history of the Kp index, which we can integrate into the visualizations we generated above. "
   ]
  },
  {
   "cell_type": "markdown",
   "metadata": {},
   "source": [
    "## List Events of Interest\n",
    "We have certain events that we noticed produced interesting plots. Let's compile a list of them here, with annotations of why they're interesting. Then we'll use multiplot to make figures for them."
   ]
  },
  {
   "cell_type": "code",
   "execution_count": null,
   "metadata": {},
   "outputs": [],
   "source": []
  }
 ],
 "metadata": {
  "celltoolbar": "Edit Metadata",
  "kernelspec": {
   "display_name": "Python 3",
   "language": "python",
   "name": "python3"
  },
  "language_info": {
   "codemirror_mode": {
    "name": "ipython",
    "version": 3
   },
   "file_extension": ".py",
   "mimetype": "text/x-python",
   "name": "python",
   "nbconvert_exporter": "python",
   "pygments_lexer": "ipython3",
   "version": "3.6.9"
  }
 },
 "nbformat": 4,
 "nbformat_minor": 4
}
