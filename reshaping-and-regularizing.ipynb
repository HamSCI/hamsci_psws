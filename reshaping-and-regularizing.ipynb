{
 "cells": [
  {
   "cell_type": "code",
   "execution_count": null,
   "id": "d23e4d46-4b75-44c1-abae-51c09872a5fe",
   "metadata": {},
   "outputs": [],
   "source": [
    "import pandas as pd\n",
    "import seaborn as sns\n",
    "import re\n",
    "import wget"
   ]
  },
  {
   "cell_type": "code",
   "execution_count": null,
   "id": "ec0ac38f-b179-4ae4-b764-0504d59da869",
   "metadata": {},
   "outputs": [],
   "source": [
    "pd.read_csv(\"filelist.txt\", names=[\"filename\"]).squeeze()"
   ]
  },
  {
   "cell_type": "code",
   "execution_count": null,
   "id": "b6c235e6-ad81-4821-ac99-9b20d6f4244f",
   "metadata": {},
   "outputs": [],
   "source": [
    "filenames = _"
   ]
  },
  {
   "cell_type": "code",
   "execution_count": null,
   "id": "aed5bc03-b0ee-4225-9c4d-971fe6fb1e05",
   "metadata": {},
   "outputs": [],
   "source": [
    "print(filenames[0])\n",
    "print(filenames[1])"
   ]
  },
  {
   "cell_type": "code",
   "execution_count": null,
   "id": "f3886483-96db-42f3-936f-9bf6d482e60b",
   "metadata": {},
   "outputs": [],
   "source": [
    "\"YYYY-MM-DDTHHMMSSZ_NODENUMBER_RECEIVER_GRIDSQUARE_FRQ_STATION.csv\";"
   ]
  },
  {
   "cell_type": "code",
   "execution_count": null,
   "id": "604a608e-3c84-4e5e-8ecc-3035a5616f2e",
   "metadata": {},
   "outputs": [],
   "source": [
    "filename_regex = r\"(?P<timestamp>\\d{4}-\\d{2}-\\d{2}T\\d{6}Z)_(?P<nodenumber>N\\d+)_(?P<reciever>[^_]+)_(?P<gridsquare>[A-Za-z0-9]{6})_FRQ_(?P<station>.+).csv\""
   ]
  },
  {
   "cell_type": "code",
   "execution_count": null,
   "id": "9f389728-441b-4f6e-9a7e-35ab889022f1",
   "metadata": {},
   "outputs": [],
   "source": [
    "re.match(filename_regex, filenames[0]).groups()"
   ]
  },
  {
   "cell_type": "code",
   "execution_count": null,
   "id": "34f72c21-2ad5-4f0f-98f4-7d90141c817d",
   "metadata": {},
   "outputs": [],
   "source": [
    "filenames[filenames.str.endswith('.csv')]"
   ]
  },
  {
   "cell_type": "code",
   "execution_count": null,
   "id": "957625dc-0390-4df8-8cc9-7d1eeafe6e58",
   "metadata": {},
   "outputs": [],
   "source": [
    "_.str.extract(filename_regex).join(_)"
   ]
  },
  {
   "cell_type": "code",
   "execution_count": null,
   "id": "afc60538-e032-4976-b218-5e2f951f01a4",
   "metadata": {},
   "outputs": [],
   "source": [
    "file_info = _"
   ]
  },
  {
   "cell_type": "code",
   "execution_count": null,
   "id": "4bb8d7f7-262e-48ba-85ab-e9af6af91d07",
   "metadata": {},
   "outputs": [],
   "source": [
    "file_info[file_info['nodenumber'] == 'N0000001']"
   ]
  },
  {
   "cell_type": "code",
   "execution_count": null,
   "id": "f58068ea-e3c8-4bfb-a86f-692d654f159a",
   "metadata": {},
   "outputs": [],
   "source": [
    "download_urls = [\"https://wwvarc.org/wwvarc.net/ftp/grape/\" + s for s in _['filename'].tolist()]"
   ]
  },
  {
   "cell_type": "code",
   "execution_count": null,
   "id": "eb71c148-b24d-4f35-bdbe-39cc7f75eb05",
   "metadata": {},
   "outputs": [],
   "source": [
    "?wget.download"
   ]
  },
  {
   "cell_type": "code",
   "execution_count": null,
   "id": "5f62b785-241e-4eff-82bb-dd3411c1a99b",
   "metadata": {},
   "outputs": [],
   "source": [
    "n_files = 100"
   ]
  },
  {
   "cell_type": "code",
   "execution_count": null,
   "id": "62859b42-14cd-481f-ba21-44d991395fef",
   "metadata": {},
   "outputs": [],
   "source": [
    "for u in download_urls[0:n_files]:\n",
    "    filename = wget.download(u)\n",
    "    print(filename)"
   ]
  },
  {
   "cell_type": "code",
   "execution_count": null,
   "id": "fe426f6e-fc03-47d4-8a87-3880342a1f78",
   "metadata": {},
   "outputs": [],
   "source": [
    "file_info['filename'].head(n_files)"
   ]
  },
  {
   "cell_type": "code",
   "execution_count": null,
   "id": "2a14091f-153c-406e-8e42-dbb9121635a4",
   "metadata": {},
   "outputs": [],
   "source": [
    "pd.concat([pd.read_csv(x,\n",
    "            comment='#',\n",
    "            index_col=0,\n",
    "            parse_dates=True) for x in _])"
   ]
  },
  {
   "cell_type": "code",
   "execution_count": null,
   "id": "8c6366c1-5704-4062-9c63-8ba453d56b88",
   "metadata": {},
   "outputs": [],
   "source": [
    "data = _"
   ]
  },
  {
   "cell_type": "code",
   "execution_count": null,
   "id": "c0be3292-d22e-4d4a-a8fa-eb1313500ab2",
   "metadata": {},
   "outputs": [],
   "source": [
    "data['Freq'].plot.line()"
   ]
  },
  {
   "cell_type": "code",
   "execution_count": null,
   "id": "2df6c199-81c1-4100-b09b-a5682cab218f",
   "metadata": {},
   "outputs": [],
   "source": [
    "[.5e7, 1e7, 2.5e7, .5e7]"
   ]
  },
  {
   "cell_type": "code",
   "execution_count": null,
   "id": "4ba7298d-53d4-4bcc-8a0a-77bc15d48d04",
   "metadata": {},
   "outputs": [],
   "source": [
    "data.index.is_unique"
   ]
  },
  {
   "cell_type": "code",
   "execution_count": null,
   "id": "46f82fb5-2fc7-4bde-8926-a3d8f17e33df",
   "metadata": {},
   "outputs": [],
   "source": [
    "data.index[data.index.duplicated()]"
   ]
  },
  {
   "cell_type": "code",
   "execution_count": null,
   "id": "2f022f65-cd1d-4cf1-bbd3-d25d87fce75f",
   "metadata": {},
   "outputs": [],
   "source": [
    "data.loc[~data.index.duplicated(), :]"
   ]
  },
  {
   "cell_type": "code",
   "execution_count": null,
   "id": "86a19fa1-0f86-439b-be12-399ab9eb4a97",
   "metadata": {},
   "outputs": [],
   "source": [
    "deduped = _"
   ]
  },
  {
   "cell_type": "code",
   "execution_count": null,
   "id": "10f760c0-de21-4be6-85ff-17a68521545a",
   "metadata": {},
   "outputs": [],
   "source": [
    "pd.date_range(start=data.index.date[0],\n",
    "              end=data.index.date[-1] + pd.Timedelta('1 day'),\n",
    "              tz=data.index.tz,\n",
    "              freq='S',\n",
    "              inclusive='left')"
   ]
  },
  {
   "cell_type": "code",
   "execution_count": null,
   "id": "8d123fd1-7875-42b2-bb78-6723d12d825d",
   "metadata": {},
   "outputs": [],
   "source": [
    "regular_index = _"
   ]
  },
  {
   "cell_type": "code",
   "execution_count": null,
   "id": "ab58681c-9ed8-4c03-9495-2110e781f421",
   "metadata": {},
   "outputs": [],
   "source": [
    "deduped.reindex(regular_index)"
   ]
  },
  {
   "cell_type": "code",
   "execution_count": null,
   "id": "0ffb849e-d962-4ecd-bd3d-fba283a41b12",
   "metadata": {},
   "outputs": [],
   "source": [
    "data = _"
   ]
  },
  {
   "cell_type": "code",
   "execution_count": null,
   "id": "5a0fb200-019e-4005-b990-05a55aefcc56",
   "metadata": {},
   "outputs": [],
   "source": [
    "data.set_index(pd.MultiIndex.from_arrays([data.index.date, data.index.time]))"
   ]
  },
  {
   "cell_type": "code",
   "execution_count": null,
   "id": "744ef86f-9fe5-4964-adb9-fb2ec6772b9f",
   "metadata": {},
   "outputs": [],
   "source": [
    "multiindex = _"
   ]
  },
  {
   "cell_type": "code",
   "execution_count": null,
   "id": "a0257be3-bb23-4397-94b0-f5a2e6b34f6c",
   "metadata": {},
   "outputs": [],
   "source": [
    "multiindex['Freq']"
   ]
  },
  {
   "cell_type": "code",
   "execution_count": null,
   "id": "8b5c8b64-ef4d-4f9f-95f5-cb9bcb03edaf",
   "metadata": {},
   "outputs": [],
   "source": [
    "multiindex.index.is_unique"
   ]
  },
  {
   "cell_type": "code",
   "execution_count": null,
   "id": "dda7b33c-3e26-4fa9-bb7c-faf822e48d53",
   "metadata": {},
   "outputs": [],
   "source": [
    "multiindex[multiindex['Freq'].between(4e6, 6e6)]"
   ]
  },
  {
   "cell_type": "code",
   "execution_count": null,
   "id": "2a3a2506-d771-4c89-95c8-01e655695ba7",
   "metadata": {},
   "outputs": [],
   "source": [
    "_['Freq'].plot.line()"
   ]
  },
  {
   "cell_type": "code",
   "execution_count": null,
   "id": "084ec6f8-a830-497a-8018-f561bad1acb6",
   "metadata": {},
   "outputs": [],
   "source": [
    "__['Freq'].unstack().transpose() - 5e6"
   ]
  },
  {
   "cell_type": "code",
   "execution_count": null,
   "id": "5a38e4e9-45a5-4735-98f3-9c0b26f6107f",
   "metadata": {},
   "outputs": [],
   "source": [
    "keogram_data = _"
   ]
  },
  {
   "cell_type": "code",
   "execution_count": null,
   "id": "de1f7b25-98e3-4e4e-9877-dbb55b5be31c",
   "metadata": {},
   "outputs": [],
   "source": [
    "ax = sns.heatmap(keogram_data, center=0)\n",
    "ax.set_facecolor('black')"
   ]
  },
  {
   "cell_type": "code",
   "execution_count": null,
   "id": "3841674a-164a-4b7b-bad8-6fe2cc146f51",
   "metadata": {},
   "outputs": [],
   "source": []
  }
 ],
 "metadata": {
  "kernelspec": {
   "display_name": "Python 3 (ipykernel)",
   "language": "python",
   "name": "python3"
  },
  "language_info": {
   "codemirror_mode": {
    "name": "ipython",
    "version": 3
   },
   "file_extension": ".py",
   "mimetype": "text/x-python",
   "name": "python",
   "nbconvert_exporter": "python",
   "pygments_lexer": "ipython3",
   "version": "3.10.3"
  }
 },
 "nbformat": 4,
 "nbformat_minor": 5
}
