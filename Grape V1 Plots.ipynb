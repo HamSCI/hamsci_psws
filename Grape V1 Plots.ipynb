{
 "cells": [
  {
   "cell_type": "markdown",
   "metadata": {},
   "source": [
    "# Grape V1 Data Plots\n",
    "The purpose of this notebook is to provide a one-stop shop for plotting data from the prototype of the Grape 1 Low-Cost Personal Space Weather Station. It's used for two purposes: to generate climatology figures and to serve as an interactive data analysis system via Binder. (If you are using it in the latter form, note that Binder does not enable changes to the notebook to be saved - you must generate your own local copy.) \n",
    "\n",
    "#### Update history: \n",
    "This notebook was created by Kristina KD8OXT on 10 March 2022.\n",
    "\n",
    "#### CReDIT Acknowlegment\n",
    "John Gibbons N8OBJ for hardware design, Bob Benedict KD8CGH for multiplot utilities."
   ]
  },
  {
   "cell_type": "code",
   "execution_count": 16,
   "metadata": {},
   "outputs": [],
   "source": [
    "import pandas as pd\n",
    "import plotly.express as px\n",
    "import datetime\n",
    "import pytz"
   ]
  },
  {
   "cell_type": "markdown",
   "metadata": {},
   "source": [
    "# Generate Data Overview\n",
    "The first step is to pull the list of filenames from the server maintained by the WWV Amateur Radio Club, WW0WWV. We will then generate a pandas dataframe from the filename list using the split() function. This will tell us the earliest and latest dates of data collection; we can use these as the bounds of our analysis, or substitute in a smaller set of bounds. We'll use this to create a Gantt chart showing station availability, and maybe keograms of our data over time. While we're at it, we can also generate two versions of a station map: one static, to put in our paper; and one dynamic, showing which stations were active at a given point in time. "
   ]
  },
  {
   "cell_type": "markdown",
   "metadata": {},
   "source": [
    "## Pull list of filenames from server"
   ]
  },
  {
   "cell_type": "code",
   "execution_count": 17,
   "metadata": {},
   "outputs": [
    {
     "data": {
      "text/plain": [
       "<function TextIOWrapper.close()>"
      ]
     },
     "execution_count": 17,
     "metadata": {},
     "output_type": "execute_result"
    }
   ],
   "source": [
    "# For now, we'll look at a list of filenames that was saved manually. \n",
    "f = open(\"filelist.txt\", \"r\")\n",
    "df = pd.DataFrame(f)\n",
    "# s = print(f.readline()) # read the next line of the list\n",
    "f.close"
   ]
  },
  {
   "cell_type": "code",
   "execution_count": 18,
   "metadata": {},
   "outputs": [
    {
     "name": "stdout",
     "output_type": "stream",
     "text": [
      "b'<!DOCTYPE html>\\n<html lang=\"en\" dir=\"ltr\" prefix=\"content: http://purl.org/rss/1.0/modules/content/  dc: http://purl.org/dc/terms/  foaf: http://xmlns.com/foaf/0.1/  og: http://ogp.me/ns#  rdfs: http://www.w3.org/2000/01/rdf-schema#  schema: http://schema.org/  sioc: http://rdfs.org/sioc/ns#  sioct: http://rdfs.org/sioc/types#  skos: http://www.w3.org/2004/02/skos/core#  xsd: http://www.w3.org/2001/XMLSchema# \">\\n  <head>\\n    <meta charset=\"utf-8\" />\\n<meta name=\"Generator\" content=\"Drupal 8 (https://www.drupal.org)\" />\\n<meta name=\"MobileOptimized\" content=\"width\" />\\n<meta name=\"HandheldFriendly\" content=\"true\" />\\n<meta name=\"viewport\" content=\"width=device-width, initial-scale=1.0\" />\\n<link rel=\"shortcut icon\" href=\"/sites/default/files/WW0WWV.logo_2_0.png\" type=\"image/png\" />\\n\\n    <title>Access denied | WWVARC</title>\\n    <link rel=\"stylesheet\" media=\"all\" href=\"/sites/default/files/css/css_87GMcmxT1ib8ziQiU2KUAnTDFtZQV6iP-KGslA9LigM.css\" />\\n<link rel=\"stylesheet\" media=\"all\" href=\"/sites/default/files/css/css_gynvQNoFl9p_FXe5bLZZBnJTmx4snVVywR0UEugMxtk.css\" />\\n\\n    \\n<!--[if lte IE 8]>\\n<script src=\"/sites/default/files/js/js_VtafjXmRvoUgAzqzYTA3Wrjkx9wcWhjP0G4ZnnqRamA.js\"></script>\\n<![endif]-->\\n\\n  </head>\\n  <body class=\"path-node\">\\n    <a href=\"#main-content\" class=\"visually-hidden focusable skip-link\">\\n      Skip to main content\\n    </a>\\n    \\n      <div class=\"dialog-off-canvas-main-canvas\" data-off-canvas-main-canvas>\\n    \\n\\n<!-- Header and Navbar -->\\n<header class=\"main-header\">\\n  <div class=\"container\">\\n    <div class=\"row\">\\n      <div class=\"col-sm-4 col-md-3\">\\n                    <div class=\"region region-header\">\\n    <div id=\"block-business-responsive-theme-branding\" class=\"site-branding block block-system block-system-branding-block\">\\n  \\n    \\n        <div class=\"brand logo\">\\n      <a href=\"/\" title=\"Home\" rel=\"home\" class=\"site-branding__logo\">\\n        <img src=\"/sites/default/files/WW0WWV.logo_.png\" alt=\"Home\" />\\n      </a>\\n    </div>\\n        <div class=\"brand site-name\">\\n              <div class=\"site-branding__name\">\\n          <a href=\"/\" title=\"Home\" rel=\"home\">WWVARC</a>\\n        </div>\\n                </div>\\n  </div>\\n\\n  </div>\\n\\n\\n          <button type=\"button\" class=\"navbar-toggle\" data-toggle=\"collapse\" data-target=\"#main-navigation\">\\n            <span class=\"sr-only\">Toggle navigation</span>\\n            <span class=\"icon-bar\"></span>\\n            <span class=\"icon-bar\"></span>\\n            <span class=\"icon-bar\"></span>\\n          </button>\\n        \\n              </div>\\n\\n              <div class=\"col-sm-8 col-md-9\">\\n\\n                        <div class=\"region region-search\">\\n    <div class=\"search-block-form block block-search\" data-drupal-selector=\"search-block-form\" id=\"block-business-responsive-theme-search\" role=\"search\">\\n  \\n      <h2 class=\"visually-hidden\">Search</h2>\\n    \\n      <form action=\"/search/node\" method=\"get\" id=\"search-block-form\" accept-charset=\"UTF-8\">\\n  <div class=\"js-form-item form-item js-form-type-search form-item-keys js-form-item-keys form-no-label\">\\n      <label for=\"edit-keys\" class=\"visually-hidden\">Search</label>\\n        <input title=\"Enter the terms you wish to search for.\" data-drupal-selector=\"edit-keys\" type=\"search\" id=\"edit-keys\" name=\"keys\" value=\"\" size=\"15\" maxlength=\"128\" class=\"form-search\" />\\n\\n        </div>\\n<div data-drupal-selector=\"edit-actions\" class=\"form-actions js-form-wrapper form-wrapper\" id=\"edit-actions\"><input data-drupal-selector=\"edit-submit\" type=\"submit\" id=\"edit-submit\" value=\"Search\" class=\"button js-form-submit form-submit\" />\\n</div>\\n\\n</form>\\n\\n  </div>\\n\\n  </div>\\n\\n                    \\n          \\n        </div>\\n      \\n    </div>\\n  </div>\\n</header>\\n<!--End Header & Navbar -->\\n\\n\\n<div class=\"container main-menuwrap\">\\n  <div class=\"row\">\\n    <div class=\"navbar-header col-md-12\">\\n      <nav class=\"navbar navbar-default\" role=\"navigation\">\\n        \\n\\n                    <div class=\"region region-primary-menu\">\\n    <nav role=\"navigation\" aria-labelledby=\"block-business-responsive-theme-main-menu-menu\" id=\"block-business-responsive-theme-main-menu\">\\n            \\n  <h2 class=\"visually-hidden\" id=\"block-business-responsive-theme-main-menu-menu\">Main navigation</h2>\\n  \\n\\n        \\n              <ul class=\"sm menu-base-theme\" id=\"main-menu\"  class=\"menu nav navbar-nav\">\\n                      <li class=\"active\">\\n        <a href=\"/\" data-drupal-link-system-path=\"&lt;front&gt;\">Home</a>\\n                  </li>\\n                  <li>\\n        <a href=\"/membership\" data-drupal-link-system-path=\"node/24\">Join</a>\\n                  </li>\\n                  <li>\\n        <a href=\"/about\" data-target=\"#\" data-toggle=\"dropdown\">Our Club</a>\\n                                  <ul>\\n                      <li>\\n        <a href=\"/about\" data-drupal-link-system-path=\"node/2\">About</a>\\n                  </li>\\n                  <li>\\n        <a href=\"/meeting-information\" data-drupal-link-system-path=\"meeting-information\">Meeting Information</a>\\n                  </li>\\n                  <li>\\n        <a href=\"/membership\" data-drupal-link-system-path=\"node/24\">Membership</a>\\n                  </li>\\n        </ul>\\n  \\n            </li>\\n                  <li>\\n        <a href=\"/events\" data-target=\"#\" data-toggle=\"dropdown\">Events</a>\\n                                  <ul>\\n                      <li>\\n        <a href=\"/october2021\" data-drupal-link-system-path=\"node/26\">October 2021 SES - WWV 102nd Anniversary</a>\\n                  </li>\\n                  <li>\\n        <a href=\"/events\" data-drupal-link-system-path=\"node/3\">Prior Events</a>\\n                  </li>\\n        </ul>\\n  \\n            </li>\\n                  <li>\\n        <a href=\"/fmt\" data-drupal-link-system-path=\"node/4\">Frequency Measurement</a>\\n                  </li>\\n                  <li>\\n        <a href=\"/wwvmodulation\" data-target=\"#\" data-toggle=\"dropdown\">NIST News</a>\\n                                  <ul>\\n                      <li>\\n        <a href=\"/wwvmodulation\" data-drupal-link-system-path=\"node/27\">NIST and Amateur Radio discuss WWV/WWVH Broadcast Modifications</a>\\n                  </li>\\n                  <li>\\n        <a href=\"/wwvmodannouncement\" data-drupal-link-system-path=\"node/29\">NIST/HamSCI modulation test announced on-the-air</a>\\n                  </li>\\n                  <li>\\n        <a href=\"/wwvwwvhtestmodbegins\" title=\"WWV, WWVH now broadcasting HamSCI Test Modulation\" data-drupal-link-system-path=\"node/32\">WWV, WWVH now broadcasting HamSCI Test Modulation</a>\\n                  </li>\\n        </ul>\\n  \\n            </li>\\n                  <li>\\n        <a href=\"/wwvhistory\" data-target=\"#\" data-toggle=\"dropdown\">WWV Articles and Info</a>\\n                                  <ul>\\n                      <li>\\n        <a href=\"/wwvhistory\" title=\"WWV History\" data-drupal-link-system-path=\"node/5\">WWV History</a>\\n                  </li>\\n                  <li>\\n        <a href=\"/wwv100\" title=\"WWV 100th Anniversary\" data-drupal-link-system-path=\"node/6\">WWV 100th Anniversary</a>\\n                  </li>\\n                  <li>\\n        <a href=\"/articles\" title=\"Articles that relate to WWV/WWVB\" data-drupal-link-system-path=\"articles\">Interesting Articles</a>\\n                  </li>\\n        </ul>\\n  \\n            </li>\\n        </ul>\\n  \\n\\n\\n  </nav>\\n\\n  </div>\\n\\n              </nav>\\n    </div>\\n  </div>\\n</div>\\n\\n\\n\\n\\n<!--Highlighted-->\\n      <div class=\"container\">\\n      <div class=\"row\">\\n        <div class=\"col-md-12\">\\n            <div class=\"region region-highlighted\">\\n    <div data-drupal-messages-fallback class=\"hidden\"></div>\\n\\n  </div>\\n\\n        </div>\\n      </div>\\n    </div>\\n  <!--End Highlighted-->\\n\\n\\n<!-- Start Top Widget -->\\n<!--End Top Widget -->\\n\\n\\n<!-- Start Middle Widget -->\\n<!--End Top Widget -->\\n\\n\\n<!-- Page Title -->\\n<!-- End Page Title ---- >\\n\\n\\n<!-- layout -->\\n<div id=\"wrapper\">\\n  <!-- start: Container -->\\n  <div class=\"container\">\\n    \\n    <!--Content top-->\\n          <!--End Content top-->\\n    \\n    <!--start:content -->\\n    <div class=\"row\">\\n      <div class=\"col-md-12\">  <div class=\"region region-breadcrumb\">\\n    <div id=\"block-business-responsive-theme-breadcrumbs\" class=\"block block-system block-system-breadcrumb-block\">\\n  \\n    \\n        <nav class=\"breadcrumb\" role=\"navigation\" aria-labelledby=\"system-breadcrumb\">\\n    <h2 id=\"system-breadcrumb\" class=\"visually-hidden\">Breadcrumb</h2>\\n    <ul>\\n          <li>\\n                  <a href=\"/\">Home</a>\\n         >\\n      </li>\\n          <li>\\n                  <a href=\"/node\">Node</a>\\n         >\\n      </li>\\n        </ul>\\n  </nav>\\n\\n  </div>\\n\\n  </div>\\n</div>\\n    </div>\\n\\n    <div class=\"row layout\">\\n      <!--- Start Left SideBar -->\\n            <!---End Right SideBar -->\\n\\n      <!--- Start content -->\\n              <div class=\"content_layout\">\\n          <div class=col-md-9>\\n              <div class=\"region region-content\">\\n    <div id=\"block-business-responsive-theme-content\" class=\"block block-system block-system-main-block\">\\n  \\n    \\n      You are not authorized to access this page.\\n  </div>\\n\\n  </div>\\n\\n          </div>\\n        </div>\\n            <!---End content -->\\n\\n      <!--- Start Right SideBar -->\\n              <div class=\"sidebar\">\\n          <div class=col-md-3>\\n              <div class=\"region region-sidebar-second\">\\n    <div id=\"block-userlogin-2\" role=\"form\" class=\"block block-user block-user-login-block\">\\n  \\n      <h2>User login</h2>\\n    \\n      <form class=\"user-login-form\" data-drupal-selector=\"user-login-form\" action=\"/system/403?destination=/GrapeFiles\" method=\"post\" id=\"user-login-form\" accept-charset=\"UTF-8\">\\n  <div class=\"js-form-item form-item js-form-type-textfield form-item-name js-form-item-name\">\\n      <label for=\"edit-name\" class=\"js-form-required form-required\">Username</label>\\n        <input autocorrect=\"none\" autocapitalize=\"none\" spellcheck=\"false\" data-drupal-selector=\"edit-name\" type=\"text\" id=\"edit-name\" name=\"name\" value=\"\" size=\"15\" maxlength=\"60\" class=\"form-text required\" required=\"required\" aria-required=\"true\" />\\n\\n        </div>\\n<div class=\"js-form-item form-item js-form-type-password form-item-pass js-form-item-pass\">\\n      <label for=\"edit-pass\" class=\"js-form-required form-required\">Password</label>\\n        <input data-drupal-selector=\"edit-pass\" type=\"password\" id=\"edit-pass\" name=\"pass\" size=\"15\" maxlength=\"128\" class=\"form-text required\" required=\"required\" aria-required=\"true\" />\\n\\n        </div>\\n<input autocomplete=\"off\" data-drupal-selector=\"form-hkb9ra3tj-ni1izcru3qbzuvywrwrcnbowwn317azn0\" type=\"hidden\" name=\"form_build_id\" value=\"form-HKB9RA3TJ_NI1izCRU3QbzUVywrWRcnBoWWn317AZn0\" />\\n<input data-drupal-selector=\"edit-user-login-form\" type=\"hidden\" name=\"form_id\" value=\"user_login_form\" />\\n<div data-drupal-selector=\"edit-actions\" class=\"form-actions js-form-wrapper form-wrapper\" id=\"edit-actions--2\"><input data-drupal-selector=\"edit-submit\" type=\"submit\" id=\"edit-submit--2\" name=\"op\" value=\"Log in\" class=\"button js-form-submit form-submit\" />\\n</div>\\n\\n</form>\\n<ul><li><a href=\"/user/password\" title=\"Send password reset instructions via email.\" class=\"request-password-link\">Reset your password</a></li></ul>\\n  </div>\\n<nav role=\"navigation\" aria-labelledby=\"block-useraccountmenu-menu\" id=\"block-useraccountmenu\">\\n      \\n  <h2 id=\"block-useraccountmenu-menu\">User account menu</h2>\\n  \\n\\n        \\n              <ul class=\"menu\">\\n                    <li class=\"menu-item\">\\n        <a href=\"/user/login\" data-drupal-link-system-path=\"user/login\">Log in</a>\\n              </li>\\n                <li class=\"menu-item\">\\n        <a href=\"/membership\" title=\"Link to membership registration\" data-drupal-link-system-path=\"node/24\">Join</a>\\n              </li>\\n        </ul>\\n  \\n\\n\\n  </nav>\\n\\n  </div>\\n\\n          </div>\\n        </div>\\n            <!---End Right SideBar -->\\n      \\n    </div>\\n    <!--End Content -->\\n\\n    <!--Start Content Bottom-->\\n        <!--End Content Bottom-->\\n  </div>\\n</div>\\n<!-- End layout -->\\n\\n\\n<!-- Start: Price table widgets -->\\n\\n\\n<!--End: Price table widgets -->\\n\\n\\n<!-- start: bottom -->\\n<!--End bottom -->\\n\\n\\n<!-- start: Footer -->\\n<!--End Footer -->\\n\\n\\n<!-- Start Footer Menu -->\\n  <div class=\"footer-menu\">\\n    <div class=\"container\">\\n      <div class=\"row\">\\n        <div class=\"col-sm-6 col-md-6\">\\n            <div class=\"region region-footer-menu\">\\n    <nav role=\"navigation\" aria-labelledby=\"block-business-responsive-theme-footer-menu\" id=\"block-business-responsive-theme-footer\">\\n            \\n  <h2 class=\"visually-hidden\" id=\"block-business-responsive-theme-footer-menu\">Footer menu</h2>\\n  \\n\\n        \\n              <ul class=\"menu\">\\n                    <li class=\"menu-item\">\\n        <a href=\"/contact\" data-drupal-link-system-path=\"contact\">Contact</a>\\n              </li>\\n                <li class=\"menu-item\">\\n        <a href=\"/\" data-drupal-link-system-path=\"&lt;front&gt;\">Signed in as </a>\\n              </li>\\n        </ul>\\n  \\n\\n\\n  </nav>\\n\\n  </div>\\n\\n        </div>\\n        \\n      </div>\\n    </div>\\n  </div>\\n<!-- End Footer Menu -->\\n\\n\\n<div class=\"copyright\">\\n  <div class=\"container\">\\n    <div class=\"row\">\\n\\n      <!-- Copyright -->\\n      <div class=\"col-sm-6 col-md-6\">\\n                \\n          <p>Copyright 2021 WWV ARC - All rights reserved</p>        \\n              </div>\\n      <!-- End Copyright -->\\n\\n      <!-- Credit link -->\\n            <!-- End Credit link -->\\n            \\n    </div>\\n  </div>\\n</div>\\n\\n\\n  </div>\\n\\n    \\n    <script type=\"application/json\" data-drupal-selector=\"drupal-settings-json\">{\"path\":{\"baseUrl\":\"\\\\/\",\"scriptPath\":null,\"pathPrefix\":\"\",\"currentPath\":\"node\\\\/37\",\"currentPathIsAdmin\":false,\"isFront\":false,\"currentLanguage\":\"en\"},\"pluralDelimiter\":\"\\\\u0003\",\"suppressDeprecationErrors\":true,\"ajaxPageState\":{\"libraries\":\"business_responsive_theme\\\\/bootstrap,business_responsive_theme\\\\/flexslider,business_responsive_theme\\\\/fontawesome,business_responsive_theme\\\\/global-components,business_responsive_theme\\\\/smartmenus,core\\\\/html5shiv,system\\\\/base\",\"theme\":\"business_responsive_theme\",\"theme_token\":null},\"ajaxTrustedUrl\":{\"form_action_p_pvdeGsVG5zNF_XLGPTvYSKCf43t8qZYSwcfZl2uzM\":true,\"\\\\/search\\\\/node\":true},\"user\":{\"uid\":0,\"permissionsHash\":\"82c882d13c22954f7d298c0cf8ced83efe33b4b87f135c1b750b356c8454431d\"}}</script>\\n<script src=\"/sites/default/files/js/js_6JaaVc4-U0Z_tQgRRDyYZ2ADHeAmp0cMTgGpA_mp6q4.js\"></script>\\n\\n  </body>\\n</html>\\n'\n"
     ]
    }
   ],
   "source": [
    "import pycurl\n",
    "username = \"kd8oxt\"\n",
    "password = \"kE6z@&G@$4HnMNfK\"\n",
    "# curl -u username:password https://wwvarc.org/node/37\n",
    "# curl 'https://wwvarc.org/node/37'\n",
    "\n",
    "import pycurl\n",
    "import certifi\n",
    "from io import BytesIO\n",
    "\n",
    "buffer = BytesIO()\n",
    "c = pycurl.Curl()\n",
    "c.setopt(c.USERPWD, 'kd8oxt:kE6z@&G@$4HnMNfK')\n",
    "c.setopt(c.URL, 'https://wwvarc.org/node/37')\n",
    "c.setopt(c.WRITEDATA, buffer)\n",
    "c.setopt(c.CAINFO, certifi.where())\n",
    "c.perform()\n",
    "c.close()\n",
    "\n",
    "body = buffer.getvalue()\n",
    "# Body is a byte string.\n",
    "# We have to know the encoding in order to print it to a text file\n",
    "# such as standard output.\n",
    "print(body)"
   ]
  },
  {
   "cell_type": "code",
   "execution_count": 19,
   "metadata": {},
   "outputs": [],
   "source": [
    "# import wget\n",
    "# url = \"https://wwvarc.org/node/37\"\n",
    "# # wget.download(url)\n",
    "# curl -v -u 'apiuser:apipwd https://wwvarc.org/node/37'\n",
    "# wget http://kd8oxt:kE6z@&G@$4HnMNfK@www.wwvarc.org/node/37"
   ]
  },
  {
   "cell_type": "code",
   "execution_count": 20,
   "metadata": {},
   "outputs": [],
   "source": [
    "# Eliminate .pngs from our file list:\n",
    "df = df[~df[0].str.contains('.png')]\n",
    "df.columns =['Filename']\n",
    "df2 = df['Filename'].str.split('_', expand=True)\n",
    "df2.columns =['Datetime', 'Node', 'G', 'Grid Square', 'FRQ', 'Frequency']\n",
    "df2 = df2.drop(columns=['FRQ']) # no information in this columnn\n",
    "# df2['Frequency'] = df2['Frequency'].map(lambda x: x.lstrip('.csv\\n')\n",
    "# df['Frequency'] = df['Frequency'].str.replace(r'.csv\\n', '')\n",
    "df2[\"Frequency\"] = df2[\"Frequency\"].str.replace(\".csv\\n\",\"\")\n",
    "df = pd.concat([df2, df], axis = 1) # concatenate dataframes horizontally\n",
    "df['Datetime']= pd.to_datetime(df['Datetime']) # cast to datetime"
   ]
  },
  {
   "cell_type": "code",
   "execution_count": 21,
   "metadata": {},
   "outputs": [
    {
     "data": {
      "text/plain": [
       "Timestamp('2019-05-24 00:00:00+0000', tz='UTC')"
      ]
     },
     "execution_count": 21,
     "metadata": {},
     "output_type": "execute_result"
    }
   ],
   "source": [
    "df['Datetime'][0] # checking data type\n"
   ]
  },
  {
   "cell_type": "code",
   "execution_count": 22,
   "metadata": {},
   "outputs": [],
   "source": [
    "# f = open(\"nodelist.csv\", \"r\")\n",
    "# nodes = pd.DataFrame(f)\n",
    "# # s = print(f.readline()) # read the next line of the list\n",
    "# f.close"
   ]
  },
  {
   "cell_type": "code",
   "execution_count": 23,
   "metadata": {},
   "outputs": [
    {
     "data": {
      "text/plain": [
       "<AxesSubplot:xlabel='Frequency'>"
      ]
     },
     "execution_count": 23,
     "metadata": {},
     "output_type": "execute_result"
    },
    {
     "data": {
      "image/png": "[encoded data removed]",
      "text/plain": [
       "<Figure size 432x288 with 1 Axes>"
      ]
     },
     "metadata": {
      "needs_background": "light"
     },
     "output_type": "display_data"
    }
   ],
   "source": [
    "# We can generate bar graphs:\n",
    "# df.groupby(df[\"Datetime\"].dt.year).count().plot(kind=\"bar\")\n",
    "df.groupby(df[\"Frequency\"]).count().plot(kind=\"bar\")"
   ]
  },
  {
   "cell_type": "code",
   "execution_count": 24,
   "metadata": {},
   "outputs": [
    {
     "data": {
      "text/plain": [
       "array(['N0000001', 'N0000002', 'N0000003', 'N0000007', 'N0000014',\n",
       "       'N0000016', 'N0000022', 'N0000024', 'N0000029', 'N0000030',\n",
       "       'N0000035', 'N0000038', 'N0000039', 'N0000040', 'N00010'],\n",
       "      dtype=object)"
      ]
     },
     "execution_count": 24,
     "metadata": {},
     "output_type": "execute_result"
    }
   ],
   "source": [
    "logged_nodes = gantt[\"Node\"].unique()#.tolist()\n",
    "logged_nodes.sort()\n",
    "logged_nodes"
   ]
  },
  {
   "cell_type": "code",
   "execution_count": 25,
   "metadata": {
    "scrolled": true
   },
   "outputs": [
    {
     "data": {
      "application/vnd.plotly.v1+json": {
       "config": {
        "plotlyServerURL": "https://plot.ly"
       },
       "data": [
        {
         "alignmentgroup": "True",
         "base": [
          "2022-04-01T00:00:00+00:00",
          "2022-04-01T00:00:00+00:00",
          "2022-04-01T00:00:00+00:00",
          "2022-04-01T00:00:00+00:00",
          "2022-04-01T00:00:00+00:00",
          "2022-04-01T00:00:00+00:00",
          "2022-04-01T00:00:00+00:00",
          "2022-04-01T00:00:00+00:00",
          "2022-04-01T00:00:00+00:00",
          "2022-04-01T00:00:00+00:00",
          "2022-04-01T00:00:00+00:00",
          "2022-04-01T00:00:00+00:00",
          "2022-04-01T00:00:00+00:00",
          "2022-04-01T00:00:00+00:00",
          "2022-04-01T00:00:01+00:00",
          "2022-04-02T00:00:00+00:00",
          "2022-04-02T00:00:00+00:00",
          "2022-04-02T00:00:00+00:00",
          "2022-04-02T00:00:00+00:00",
          "2022-04-02T00:00:00+00:00",
          "2022-04-02T00:00:00+00:00",
          "2022-04-02T00:00:00+00:00",
          "2022-04-02T00:00:00+00:00",
          "2022-04-02T00:00:00+00:00",
          "2022-04-02T00:00:00+00:00",
          "2022-04-02T00:00:00+00:00",
          "2022-04-02T00:00:00+00:00",
          "2022-04-02T00:00:00+00:00",
          "2022-04-02T00:00:00+00:00",
          "2022-04-02T00:00:00+00:00",
          "2022-04-03T00:00:00+00:00",
          "2022-04-03T00:00:00+00:00",
          "2022-04-03T00:00:00+00:00",
          "2022-04-03T00:00:00+00:00",
          "2022-04-03T00:00:00+00:00",
          "2022-04-03T00:00:00+00:00",
          "2022-04-03T00:00:00+00:00",
          "2022-04-03T00:00:00+00:00",
          "2022-04-03T00:00:00+00:00",
          "2022-04-03T00:00:00+00:00",
          "2022-04-03T00:00:00+00:00",
          "2022-04-03T00:00:00+00:00",
          "2022-04-03T00:00:00+00:00",
          "2022-04-03T00:00:00+00:00",
          "2022-04-03T00:00:01+00:00",
          "2022-04-04T00:00:00+00:00",
          "2022-04-04T00:00:00+00:00",
          "2022-04-04T00:00:00+00:00",
          "2022-04-04T00:00:00+00:00",
          "2022-04-04T00:00:00+00:00",
          "2022-04-04T00:00:00+00:00",
          "2022-04-04T00:00:00+00:00",
          "2022-04-04T00:00:00+00:00",
          "2022-04-04T00:00:00+00:00",
          "2022-04-04T00:00:00+00:00",
          "2022-04-04T00:00:00+00:00",
          "2022-04-04T00:00:00+00:00",
          "2022-04-04T00:00:00+00:00",
          "2022-04-04T00:00:00+00:00",
          "2022-04-04T00:00:01+00:00",
          "2022-04-05T00:00:00+00:00",
          "2022-04-05T00:00:00+00:00",
          "2022-04-05T00:00:00+00:00",
          "2022-04-05T00:00:00+00:00",
          "2022-04-05T00:00:00+00:00",
          "2022-04-05T00:00:00+00:00",
          "2022-04-05T00:00:00+00:00",
          "2022-04-05T00:00:00+00:00",
          "2022-04-05T00:00:00+00:00",
          "2022-04-05T00:00:00+00:00",
          "2022-04-05T00:00:00+00:00",
          "2022-04-05T00:00:00+00:00",
          "2022-04-05T00:00:00+00:00",
          "2022-04-05T00:00:00+00:00",
          "2022-04-05T00:00:00+00:00",
          "2022-04-06T00:00:00+00:00",
          "2022-04-06T00:00:00+00:00",
          "2022-04-06T00:00:00+00:00",
          "2022-04-06T00:00:00+00:00",
          "2022-04-06T00:00:00+00:00",
          "2022-04-06T00:00:00+00:00",
          "2022-04-06T00:00:00+00:00",
          "2022-04-06T00:00:00+00:00",
          "2022-04-06T00:00:00+00:00",
          "2022-04-06T00:00:00+00:00",
          "2022-04-06T00:00:00+00:00",
          "2022-04-06T00:00:00+00:00",
          "2022-04-06T10:54:16+00:00"
         ],
         "hovertemplate": "Datetime=%{base}<br>EndTime=%{x}<br>Node=%{y}<extra></extra>",
         "legendgroup": "",
         "marker": {
          "color": "#636efa"
         },
         "name": "",
         "offsetgroup": "",
         "orientation": "h",
         "showlegend": false,
         "textposition": "auto",
         "type": "bar",
         "x": [
          86400000,
          86400000,
          86400000,
          86400000,
          86400000,
          86400000,
          86400000,
          86400000,
          86400000,
          86400000,
          86400000,
          86400000,
          86400000,
          86400000,
          86400000,
          86400000,
          86400000,
          86400000,
          86400000,
          86400000,
          86400000,
          86400000,
          86400000,
          86400000,
          86400000,
          86400000,
          86400000,
          86400000,
          86400000,
          86400000,
          86400000,
          86400000,
          86400000,
          86400000,
          86400000,
          86400000,
          86400000,
          86400000,
          86400000,
          86400000,
          86400000,
          86400000,
          86400000,
          86400000,
          86400000,
          86400000,
          86400000,
          86400000,
          86400000,
          86400000,
          86400000,
          86400000,
          86400000,
          86400000,
          86400000,
          86400000,
          86400000,
          86400000,
          86400000,
          86400000,
          86400000,
          86400000,
          86400000,
          86400000,
          86400000,
          86400000,
          86400000,
          86400000,
          86400000,
          86400000,
          86400000,
          86400000,
          86400000,
          86400000,
          86400000,
          86400000,
          86400000,
          86400000,
          86400000,
          86400000,
          86400000,
          86400000,
          86400000,
          86400000,
          86400000,
          86400000,
          86400000,
          86400000
         ],
         "xaxis": "x",
         "y": [
          "N0000001",
          "N0000002",
          "N0000003",
          "N0000007",
          "N0000014",
          "N0000016",
          "N0000022",
          "N0000024",
          "N0000029",
          "N0000030",
          "N0000035",
          "N0000038",
          "N0000040",
          "N00010",
          "N0000039",
          "N0000001",
          "N0000002",
          "N0000003",
          "N0000007",
          "N0000014",
          "N0000016",
          "N0000022",
          "N0000024",
          "N0000029",
          "N0000030",
          "N0000035",
          "N0000038",
          "N0000039",
          "N0000040",
          "N00010",
          "N0000001",
          "N0000002",
          "N0000003",
          "N0000007",
          "N0000016",
          "N0000022",
          "N0000024",
          "N0000029",
          "N0000030",
          "N0000035",
          "N0000038",
          "N0000039",
          "N0000040",
          "N00010",
          "N0000014",
          "N0000001",
          "N0000002",
          "N0000003",
          "N0000007",
          "N0000014",
          "N0000016",
          "N0000022",
          "N0000024",
          "N0000029",
          "N0000030",
          "N0000035",
          "N0000038",
          "N0000039",
          "N00010",
          "N0000040",
          "N0000001",
          "N0000002",
          "N0000003",
          "N0000007",
          "N0000014",
          "N0000016",
          "N0000022",
          "N0000024",
          "N0000029",
          "N0000030",
          "N0000035",
          "N0000038",
          "N0000039",
          "N0000040",
          "N00010",
          "N0000001",
          "N0000002",
          "N0000003",
          "N0000007",
          "N0000016",
          "N0000022",
          "N0000024",
          "N0000029",
          "N0000035",
          "N0000038",
          "N0000039",
          "N0000040",
          "N0000030"
         ],
         "yaxis": "y"
        }
       ],
       "layout": {
        "barmode": "overlay",
        "legend": {
         "tracegroupgap": 0
        },
        "margin": {
         "t": 60
        },
        "template": {
         "data": {
          "bar": [
           {
            "error_x": {
             "color": "#2a3f5f"
            },
            "error_y": {
             "color": "#2a3f5f"
            },
            "marker": {
             "line": {
              "color": "#E5ECF6",
              "width": 0.5
             }
            },
            "type": "bar"
           }
          ],
          "barpolar": [
           {
            "marker": {
             "line": {
              "color": "#E5ECF6",
              "width": 0.5
             }
            },
            "type": "barpolar"
           }
          ],
          "carpet": [
           {
            "aaxis": {
             "endlinecolor": "#2a3f5f",
             "gridcolor": "white",
             "linecolor": "white",
             "minorgridcolor": "white",
             "startlinecolor": "#2a3f5f"
            },
            "baxis": {
             "endlinecolor": "#2a3f5f",
             "gridcolor": "white",
             "linecolor": "white",
             "minorgridcolor": "white",
             "startlinecolor": "#2a3f5f"
            },
            "type": "carpet"
           }
          ],
          "choropleth": [
           {
            "colorbar": {
             "outlinewidth": 0,
             "ticks": ""
            },
            "type": "choropleth"
           }
          ],
          "contour": [
           {
            "colorbar": {
             "outlinewidth": 0,
             "ticks": ""
            },
            "colorscale": [
             [
              0,
              "#0d0887"
             ],
             [
              0.1111111111111111,
              "#46039f"
             ],
             [
              0.2222222222222222,
              "#7201a8"
             ],
             [
              0.3333333333333333,
              "#9c179e"
             ],
             [
              0.4444444444444444,
              "#bd3786"
             ],
             [
              0.5555555555555556,
              "#d8576b"
             ],
             [
              0.6666666666666666,
              "#ed7953"
             ],
             [
              0.7777777777777778,
              "#fb9f3a"
             ],
             [
              0.8888888888888888,
              "#fdca26"
             ],
             [
              1,
              "#f0f921"
             ]
            ],
            "type": "contour"
           }
          ],
          "contourcarpet": [
           {
            "colorbar": {
             "outlinewidth": 0,
             "ticks": ""
            },
            "type": "contourcarpet"
           }
          ],
          "heatmap": [
           {
            "colorbar": {
             "outlinewidth": 0,
             "ticks": ""
            },
            "colorscale": [
             [
              0,
              "#0d0887"
             ],
             [
              0.1111111111111111,
              "#46039f"
             ],
             [
              0.2222222222222222,
              "#7201a8"
             ],
             [
              0.3333333333333333,
              "#9c179e"
             ],
             [
              0.4444444444444444,
              "#bd3786"
             ],
             [
              0.5555555555555556,
              "#d8576b"
             ],
             [
              0.6666666666666666,
              "#ed7953"
             ],
             [
              0.7777777777777778,
              "#fb9f3a"
             ],
             [
              0.8888888888888888,
              "#fdca26"
             ],
             [
              1,
              "#f0f921"
             ]
            ],
            "type": "heatmap"
           }
          ],
          "heatmapgl": [
           {
            "colorbar": {
             "outlinewidth": 0,
             "ticks": ""
            },
            "colorscale": [
             [
              0,
              "#0d0887"
             ],
             [
              0.1111111111111111,
              "#46039f"
             ],
             [
              0.2222222222222222,
              "#7201a8"
             ],
             [
              0.3333333333333333,
              "#9c179e"
             ],
             [
              0.4444444444444444,
              "#bd3786"
             ],
             [
              0.5555555555555556,
              "#d8576b"
             ],
             [
              0.6666666666666666,
              "#ed7953"
             ],
             [
              0.7777777777777778,
              "#fb9f3a"
             ],
             [
              0.8888888888888888,
              "#fdca26"
             ],
             [
              1,
              "#f0f921"
             ]
            ],
            "type": "heatmapgl"
           }
          ],
          "histogram": [
           {
            "marker": {
             "colorbar": {
              "outlinewidth": 0,
              "ticks": ""
             }
            },
            "type": "histogram"
           }
          ],
          "histogram2d": [
           {
            "colorbar": {
             "outlinewidth": 0,
             "ticks": ""
            },
            "colorscale": [
             [
              0,
              "#0d0887"
             ],
             [
              0.1111111111111111,
              "#46039f"
             ],
             [
              0.2222222222222222,
              "#7201a8"
             ],
             [
              0.3333333333333333,
              "#9c179e"
             ],
             [
              0.4444444444444444,
              "#bd3786"
             ],
             [
              0.5555555555555556,
              "#d8576b"
             ],
             [
              0.6666666666666666,
              "#ed7953"
             ],
             [
              0.7777777777777778,
              "#fb9f3a"
             ],
             [
              0.8888888888888888,
              "#fdca26"
             ],
             [
              1,
              "#f0f921"
             ]
            ],
            "type": "histogram2d"
           }
          ],
          "histogram2dcontour": [
           {
            "colorbar": {
             "outlinewidth": 0,
             "ticks": ""
            },
            "colorscale": [
             [
              0,
              "#0d0887"
             ],
             [
              0.1111111111111111,
              "#46039f"
             ],
             [
              0.2222222222222222,
              "#7201a8"
             ],
             [
              0.3333333333333333,
              "#9c179e"
             ],
             [
              0.4444444444444444,
              "#bd3786"
             ],
             [
              0.5555555555555556,
              "#d8576b"
             ],
             [
              0.6666666666666666,
              "#ed7953"
             ],
             [
              0.7777777777777778,
              "#fb9f3a"
             ],
             [
              0.8888888888888888,
              "#fdca26"
             ],
             [
              1,
              "#f0f921"
             ]
            ],
            "type": "histogram2dcontour"
           }
          ],
          "mesh3d": [
           {
            "colorbar": {
             "outlinewidth": 0,
             "ticks": ""
            },
            "type": "mesh3d"
           }
          ],
          "parcoords": [
           {
            "line": {
             "colorbar": {
              "outlinewidth": 0,
              "ticks": ""
             }
            },
            "type": "parcoords"
           }
          ],
          "pie": [
           {
            "automargin": true,
            "type": "pie"
           }
          ],
          "scatter": [
           {
            "marker": {
             "colorbar": {
              "outlinewidth": 0,
              "ticks": ""
             }
            },
            "type": "scatter"
           }
          ],
          "scatter3d": [
           {
            "line": {
             "colorbar": {
              "outlinewidth": 0,
              "ticks": ""
             }
            },
            "marker": {
             "colorbar": {
              "outlinewidth": 0,
              "ticks": ""
             }
            },
            "type": "scatter3d"
           }
          ],
          "scattercarpet": [
           {
            "marker": {
             "colorbar": {
              "outlinewidth": 0,
              "ticks": ""
             }
            },
            "type": "scattercarpet"
           }
          ],
          "scattergeo": [
           {
            "marker": {
             "colorbar": {
              "outlinewidth": 0,
              "ticks": ""
             }
            },
            "type": "scattergeo"
           }
          ],
          "scattergl": [
           {
            "marker": {
             "colorbar": {
              "outlinewidth": 0,
              "ticks": ""
             }
            },
            "type": "scattergl"
           }
          ],
          "scattermapbox": [
           {
            "marker": {
             "colorbar": {
              "outlinewidth": 0,
              "ticks": ""
             }
            },
            "type": "scattermapbox"
           }
          ],
          "scatterpolar": [
           {
            "marker": {
             "colorbar": {
              "outlinewidth": 0,
              "ticks": ""
             }
            },
            "type": "scatterpolar"
           }
          ],
          "scatterpolargl": [
           {
            "marker": {
             "colorbar": {
              "outlinewidth": 0,
              "ticks": ""
             }
            },
            "type": "scatterpolargl"
           }
          ],
          "scatterternary": [
           {
            "marker": {
             "colorbar": {
              "outlinewidth": 0,
              "ticks": ""
             }
            },
            "type": "scatterternary"
           }
          ],
          "surface": [
           {
            "colorbar": {
             "outlinewidth": 0,
             "ticks": ""
            },
            "colorscale": [
             [
              0,
              "#0d0887"
             ],
             [
              0.1111111111111111,
              "#46039f"
             ],
             [
              0.2222222222222222,
              "#7201a8"
             ],
             [
              0.3333333333333333,
              "#9c179e"
             ],
             [
              0.4444444444444444,
              "#bd3786"
             ],
             [
              0.5555555555555556,
              "#d8576b"
             ],
             [
              0.6666666666666666,
              "#ed7953"
             ],
             [
              0.7777777777777778,
              "#fb9f3a"
             ],
             [
              0.8888888888888888,
              "#fdca26"
             ],
             [
              1,
              "#f0f921"
             ]
            ],
            "type": "surface"
           }
          ],
          "table": [
           {
            "cells": {
             "fill": {
              "color": "#EBF0F8"
             },
             "line": {
              "color": "white"
             }
            },
            "header": {
             "fill": {
              "color": "#C8D4E3"
             },
             "line": {
              "color": "white"
             }
            },
            "type": "table"
           }
          ]
         },
         "layout": {
          "annotationdefaults": {
           "arrowcolor": "#2a3f5f",
           "arrowhead": 0,
           "arrowwidth": 1
          },
          "coloraxis": {
           "colorbar": {
            "outlinewidth": 0,
            "ticks": ""
           }
          },
          "colorscale": {
           "diverging": [
            [
             0,
             "#8e0152"
            ],
            [
             0.1,
             "#c51b7d"
            ],
            [
             0.2,
             "#de77ae"
            ],
            [
             0.3,
             "#f1b6da"
            ],
            [
             0.4,
             "#fde0ef"
            ],
            [
             0.5,
             "#f7f7f7"
            ],
            [
             0.6,
             "#e6f5d0"
            ],
            [
             0.7,
             "#b8e186"
            ],
            [
             0.8,
             "#7fbc41"
            ],
            [
             0.9,
             "#4d9221"
            ],
            [
             1,
             "#276419"
            ]
           ],
           "sequential": [
            [
             0,
             "#0d0887"
            ],
            [
             0.1111111111111111,
             "#46039f"
            ],
            [
             0.2222222222222222,
             "#7201a8"
            ],
            [
             0.3333333333333333,
             "#9c179e"
            ],
            [
             0.4444444444444444,
             "#bd3786"
            ],
            [
             0.5555555555555556,
             "#d8576b"
            ],
            [
             0.6666666666666666,
             "#ed7953"
            ],
            [
             0.7777777777777778,
             "#fb9f3a"
            ],
            [
             0.8888888888888888,
             "#fdca26"
            ],
            [
             1,
             "#f0f921"
            ]
           ],
           "sequentialminus": [
            [
             0,
             "#0d0887"
            ],
            [
             0.1111111111111111,
             "#46039f"
            ],
            [
             0.2222222222222222,
             "#7201a8"
            ],
            [
             0.3333333333333333,
             "#9c179e"
            ],
            [
             0.4444444444444444,
             "#bd3786"
            ],
            [
             0.5555555555555556,
             "#d8576b"
            ],
            [
             0.6666666666666666,
             "#ed7953"
            ],
            [
             0.7777777777777778,
             "#fb9f3a"
            ],
            [
             0.8888888888888888,
             "#fdca26"
            ],
            [
             1,
             "#f0f921"
            ]
           ]
          },
          "colorway": [
           "#636efa",
           "#EF553B",
           "#00cc96",
           "#ab63fa",
           "#FFA15A",
           "#19d3f3",
           "#FF6692",
           "#B6E880",
           "#FF97FF",
           "#FECB52"
          ],
          "font": {
           "color": "#2a3f5f"
          },
          "geo": {
           "bgcolor": "white",
           "lakecolor": "white",
           "landcolor": "#E5ECF6",
           "showlakes": true,
           "showland": true,
           "subunitcolor": "white"
          },
          "hoverlabel": {
           "align": "left"
          },
          "hovermode": "closest",
          "mapbox": {
           "style": "light"
          },
          "paper_bgcolor": "white",
          "plot_bgcolor": "#E5ECF6",
          "polar": {
           "angularaxis": {
            "gridcolor": "white",
            "linecolor": "white",
            "ticks": ""
           },
           "bgcolor": "#E5ECF6",
           "radialaxis": {
            "gridcolor": "white",
            "linecolor": "white",
            "ticks": ""
           }
          },
          "scene": {
           "xaxis": {
            "backgroundcolor": "#E5ECF6",
            "gridcolor": "white",
            "gridwidth": 2,
            "linecolor": "white",
            "showbackground": true,
            "ticks": "",
            "zerolinecolor": "white"
           },
           "yaxis": {
            "backgroundcolor": "#E5ECF6",
            "gridcolor": "white",
            "gridwidth": 2,
            "linecolor": "white",
            "showbackground": true,
            "ticks": "",
            "zerolinecolor": "white"
           },
           "zaxis": {
            "backgroundcolor": "#E5ECF6",
            "gridcolor": "white",
            "gridwidth": 2,
            "linecolor": "white",
            "showbackground": true,
            "ticks": "",
            "zerolinecolor": "white"
           }
          },
          "shapedefaults": {
           "line": {
            "color": "#2a3f5f"
           }
          },
          "ternary": {
           "aaxis": {
            "gridcolor": "white",
            "linecolor": "white",
            "ticks": ""
           },
           "baxis": {
            "gridcolor": "white",
            "linecolor": "white",
            "ticks": ""
           },
           "bgcolor": "#E5ECF6",
           "caxis": {
            "gridcolor": "white",
            "linecolor": "white",
            "ticks": ""
           }
          },
          "title": {
           "x": 0.05
          },
          "xaxis": {
           "automargin": true,
           "gridcolor": "white",
           "linecolor": "white",
           "ticks": "",
           "title": {
            "standoff": 15
           },
           "zerolinecolor": "white",
           "zerolinewidth": 2
          },
          "yaxis": {
           "automargin": true,
           "gridcolor": "white",
           "linecolor": "white",
           "ticks": "",
           "title": {
            "standoff": 15
           },
           "zerolinecolor": "white",
           "zerolinewidth": 2
          }
         }
        },
        "xaxis": {
         "anchor": "y",
         "domain": [
          0,
          1
         ],
         "type": "date"
        },
        "yaxis": {
         "anchor": "x",
         "autorange": "reversed",
         "domain": [
          0,
          1
         ],
         "title": {
          "text": "Node"
         }
        }
       }
      },
      "text/html": [
       "<div>                            <div id=\"a991e270-63b1-4ce3-bdbb-c59af5cd8a3f\" class=\"plotly-graph-div\" style=\"height:525px; width:100%;\"></div>            <script type=\"text/javascript\">                require([\"plotly\"], function(Plotly) {                    window.PLOTLYENV=window.PLOTLYENV || {};                                    if (document.getElementById(\"a991e270-63b1-4ce3-bdbb-c59af5cd8a3f\")) {                    Plotly.newPlot(                        \"a991e270-63b1-4ce3-bdbb-c59af5cd8a3f\",                        [{\"alignmentgroup\": \"True\", \"base\": [\"2022-04-01T00:00:00+00:00\", \"2022-04-01T00:00:00+00:00\", \"2022-04-01T00:00:00+00:00\", \"2022-04-01T00:00:00+00:00\", \"2022-04-01T00:00:00+00:00\", \"2022-04-01T00:00:00+00:00\", \"2022-04-01T00:00:00+00:00\", \"2022-04-01T00:00:00+00:00\", \"2022-04-01T00:00:00+00:00\", \"2022-04-01T00:00:00+00:00\", \"2022-04-01T00:00:00+00:00\", \"2022-04-01T00:00:00+00:00\", \"2022-04-01T00:00:00+00:00\", \"2022-04-01T00:00:00+00:00\", \"2022-04-01T00:00:01+00:00\", \"2022-04-02T00:00:00+00:00\", \"2022-04-02T00:00:00+00:00\", \"2022-04-02T00:00:00+00:00\", \"2022-04-02T00:00:00+00:00\", \"2022-04-02T00:00:00+00:00\", \"2022-04-02T00:00:00+00:00\", \"2022-04-02T00:00:00+00:00\", \"2022-04-02T00:00:00+00:00\", \"2022-04-02T00:00:00+00:00\", \"2022-04-02T00:00:00+00:00\", \"2022-04-02T00:00:00+00:00\", \"2022-04-02T00:00:00+00:00\", \"2022-04-02T00:00:00+00:00\", \"2022-04-02T00:00:00+00:00\", \"2022-04-02T00:00:00+00:00\", \"2022-04-03T00:00:00+00:00\", \"2022-04-03T00:00:00+00:00\", \"2022-04-03T00:00:00+00:00\", \"2022-04-03T00:00:00+00:00\", \"2022-04-03T00:00:00+00:00\", \"2022-04-03T00:00:00+00:00\", \"2022-04-03T00:00:00+00:00\", \"2022-04-03T00:00:00+00:00\", \"2022-04-03T00:00:00+00:00\", \"2022-04-03T00:00:00+00:00\", \"2022-04-03T00:00:00+00:00\", \"2022-04-03T00:00:00+00:00\", \"2022-04-03T00:00:00+00:00\", \"2022-04-03T00:00:00+00:00\", \"2022-04-03T00:00:01+00:00\", \"2022-04-04T00:00:00+00:00\", \"2022-04-04T00:00:00+00:00\", \"2022-04-04T00:00:00+00:00\", \"2022-04-04T00:00:00+00:00\", \"2022-04-04T00:00:00+00:00\", \"2022-04-04T00:00:00+00:00\", \"2022-04-04T00:00:00+00:00\", \"2022-04-04T00:00:00+00:00\", \"2022-04-04T00:00:00+00:00\", \"2022-04-04T00:00:00+00:00\", \"2022-04-04T00:00:00+00:00\", \"2022-04-04T00:00:00+00:00\", \"2022-04-04T00:00:00+00:00\", \"2022-04-04T00:00:00+00:00\", \"2022-04-04T00:00:01+00:00\", \"2022-04-05T00:00:00+00:00\", \"2022-04-05T00:00:00+00:00\", \"2022-04-05T00:00:00+00:00\", \"2022-04-05T00:00:00+00:00\", \"2022-04-05T00:00:00+00:00\", \"2022-04-05T00:00:00+00:00\", \"2022-04-05T00:00:00+00:00\", \"2022-04-05T00:00:00+00:00\", \"2022-04-05T00:00:00+00:00\", \"2022-04-05T00:00:00+00:00\", \"2022-04-05T00:00:00+00:00\", \"2022-04-05T00:00:00+00:00\", \"2022-04-05T00:00:00+00:00\", \"2022-04-05T00:00:00+00:00\", \"2022-04-05T00:00:00+00:00\", \"2022-04-06T00:00:00+00:00\", \"2022-04-06T00:00:00+00:00\", \"2022-04-06T00:00:00+00:00\", \"2022-04-06T00:00:00+00:00\", \"2022-04-06T00:00:00+00:00\", \"2022-04-06T00:00:00+00:00\", \"2022-04-06T00:00:00+00:00\", \"2022-04-06T00:00:00+00:00\", \"2022-04-06T00:00:00+00:00\", \"2022-04-06T00:00:00+00:00\", \"2022-04-06T00:00:00+00:00\", \"2022-04-06T00:00:00+00:00\", \"2022-04-06T10:54:16+00:00\"], \"hovertemplate\": \"Datetime=%{base}<br>EndTime=%{x}<br>Node=%{y}<extra></extra>\", \"legendgroup\": \"\", \"marker\": {\"color\": \"#636efa\"}, \"name\": \"\", \"offsetgroup\": \"\", \"orientation\": \"h\", \"showlegend\": false, \"textposition\": \"auto\", \"type\": \"bar\", \"x\": [86400000.0, 86400000.0, 86400000.0, 86400000.0, 86400000.0, 86400000.0, 86400000.0, 86400000.0, 86400000.0, 86400000.0, 86400000.0, 86400000.0, 86400000.0, 86400000.0, 86400000.0, 86400000.0, 86400000.0, 86400000.0, 86400000.0, 86400000.0, 86400000.0, 86400000.0, 86400000.0, 86400000.0, 86400000.0, 86400000.0, 86400000.0, 86400000.0, 86400000.0, 86400000.0, 86400000.0, 86400000.0, 86400000.0, 86400000.0, 86400000.0, 86400000.0, 86400000.0, 86400000.0, 86400000.0, 86400000.0, 86400000.0, 86400000.0, 86400000.0, 86400000.0, 86400000.0, 86400000.0, 86400000.0, 86400000.0, 86400000.0, 86400000.0, 86400000.0, 86400000.0, 86400000.0, 86400000.0, 86400000.0, 86400000.0, 86400000.0, 86400000.0, 86400000.0, 86400000.0, 86400000.0, 86400000.0, 86400000.0, 86400000.0, 86400000.0, 86400000.0, 86400000.0, 86400000.0, 86400000.0, 86400000.0, 86400000.0, 86400000.0, 86400000.0, 86400000.0, 86400000.0, 86400000.0, 86400000.0, 86400000.0, 86400000.0, 86400000.0, 86400000.0, 86400000.0, 86400000.0, 86400000.0, 86400000.0, 86400000.0, 86400000.0, 86400000.0], \"xaxis\": \"x\", \"y\": [\"N0000001\", \"N0000002\", \"N0000003\", \"N0000007\", \"N0000014\", \"N0000016\", \"N0000022\", \"N0000024\", \"N0000029\", \"N0000030\", \"N0000035\", \"N0000038\", \"N0000040\", \"N00010\", \"N0000039\", \"N0000001\", \"N0000002\", \"N0000003\", \"N0000007\", \"N0000014\", \"N0000016\", \"N0000022\", \"N0000024\", \"N0000029\", \"N0000030\", \"N0000035\", \"N0000038\", \"N0000039\", \"N0000040\", \"N00010\", \"N0000001\", \"N0000002\", \"N0000003\", \"N0000007\", \"N0000016\", \"N0000022\", \"N0000024\", \"N0000029\", \"N0000030\", \"N0000035\", \"N0000038\", \"N0000039\", \"N0000040\", \"N00010\", \"N0000014\", \"N0000001\", \"N0000002\", \"N0000003\", \"N0000007\", \"N0000014\", \"N0000016\", \"N0000022\", \"N0000024\", \"N0000029\", \"N0000030\", \"N0000035\", \"N0000038\", \"N0000039\", \"N00010\", \"N0000040\", \"N0000001\", \"N0000002\", \"N0000003\", \"N0000007\", \"N0000014\", \"N0000016\", \"N0000022\", \"N0000024\", \"N0000029\", \"N0000030\", \"N0000035\", \"N0000038\", \"N0000039\", \"N0000040\", \"N00010\", \"N0000001\", \"N0000002\", \"N0000003\", \"N0000007\", \"N0000016\", \"N0000022\", \"N0000024\", \"N0000029\", \"N0000035\", \"N0000038\", \"N0000039\", \"N0000040\", \"N0000030\"], \"yaxis\": \"y\"}],                        {\"barmode\": \"overlay\", \"legend\": {\"tracegroupgap\": 0}, \"margin\": {\"t\": 60}, \"template\": {\"data\": {\"bar\": [{\"error_x\": {\"color\": \"#2a3f5f\"}, \"error_y\": {\"color\": \"#2a3f5f\"}, \"marker\": {\"line\": {\"color\": \"#E5ECF6\", \"width\": 0.5}}, \"type\": \"bar\"}], \"barpolar\": [{\"marker\": {\"line\": {\"color\": \"#E5ECF6\", \"width\": 0.5}}, \"type\": \"barpolar\"}], \"carpet\": [{\"aaxis\": {\"endlinecolor\": \"#2a3f5f\", \"gridcolor\": \"white\", \"linecolor\": \"white\", \"minorgridcolor\": \"white\", \"startlinecolor\": \"#2a3f5f\"}, \"baxis\": {\"endlinecolor\": \"#2a3f5f\", \"gridcolor\": \"white\", \"linecolor\": \"white\", \"minorgridcolor\": \"white\", \"startlinecolor\": \"#2a3f5f\"}, \"type\": \"carpet\"}], \"choropleth\": [{\"colorbar\": {\"outlinewidth\": 0, \"ticks\": \"\"}, \"type\": \"choropleth\"}], \"contour\": [{\"colorbar\": {\"outlinewidth\": 0, \"ticks\": \"\"}, \"colorscale\": [[0.0, \"#0d0887\"], [0.1111111111111111, \"#46039f\"], [0.2222222222222222, \"#7201a8\"], [0.3333333333333333, \"#9c179e\"], [0.4444444444444444, \"#bd3786\"], [0.5555555555555556, \"#d8576b\"], [0.6666666666666666, \"#ed7953\"], [0.7777777777777778, \"#fb9f3a\"], [0.8888888888888888, \"#fdca26\"], [1.0, \"#f0f921\"]], \"type\": \"contour\"}], \"contourcarpet\": [{\"colorbar\": {\"outlinewidth\": 0, \"ticks\": \"\"}, \"type\": \"contourcarpet\"}], \"heatmap\": [{\"colorbar\": {\"outlinewidth\": 0, \"ticks\": \"\"}, \"colorscale\": [[0.0, \"#0d0887\"], [0.1111111111111111, \"#46039f\"], [0.2222222222222222, \"#7201a8\"], [0.3333333333333333, \"#9c179e\"], [0.4444444444444444, \"#bd3786\"], [0.5555555555555556, \"#d8576b\"], [0.6666666666666666, \"#ed7953\"], [0.7777777777777778, \"#fb9f3a\"], [0.8888888888888888, \"#fdca26\"], [1.0, \"#f0f921\"]], \"type\": \"heatmap\"}], \"heatmapgl\": [{\"colorbar\": {\"outlinewidth\": 0, \"ticks\": \"\"}, \"colorscale\": [[0.0, \"#0d0887\"], [0.1111111111111111, \"#46039f\"], [0.2222222222222222, \"#7201a8\"], [0.3333333333333333, \"#9c179e\"], [0.4444444444444444, \"#bd3786\"], [0.5555555555555556, \"#d8576b\"], [0.6666666666666666, \"#ed7953\"], [0.7777777777777778, \"#fb9f3a\"], [0.8888888888888888, \"#fdca26\"], [1.0, \"#f0f921\"]], \"type\": \"heatmapgl\"}], \"histogram\": [{\"marker\": {\"colorbar\": {\"outlinewidth\": 0, \"ticks\": \"\"}}, \"type\": \"histogram\"}], \"histogram2d\": [{\"colorbar\": {\"outlinewidth\": 0, \"ticks\": \"\"}, \"colorscale\": [[0.0, \"#0d0887\"], [0.1111111111111111, \"#46039f\"], [0.2222222222222222, \"#7201a8\"], [0.3333333333333333, \"#9c179e\"], [0.4444444444444444, \"#bd3786\"], [0.5555555555555556, \"#d8576b\"], [0.6666666666666666, \"#ed7953\"], [0.7777777777777778, \"#fb9f3a\"], [0.8888888888888888, \"#fdca26\"], [1.0, \"#f0f921\"]], \"type\": \"histogram2d\"}], \"histogram2dcontour\": [{\"colorbar\": {\"outlinewidth\": 0, \"ticks\": \"\"}, \"colorscale\": [[0.0, \"#0d0887\"], [0.1111111111111111, \"#46039f\"], [0.2222222222222222, \"#7201a8\"], [0.3333333333333333, \"#9c179e\"], [0.4444444444444444, \"#bd3786\"], [0.5555555555555556, \"#d8576b\"], [0.6666666666666666, \"#ed7953\"], [0.7777777777777778, \"#fb9f3a\"], [0.8888888888888888, \"#fdca26\"], [1.0, \"#f0f921\"]], \"type\": \"histogram2dcontour\"}], \"mesh3d\": [{\"colorbar\": {\"outlinewidth\": 0, \"ticks\": \"\"}, \"type\": \"mesh3d\"}], \"parcoords\": [{\"line\": {\"colorbar\": {\"outlinewidth\": 0, \"ticks\": \"\"}}, \"type\": \"parcoords\"}], \"pie\": [{\"automargin\": true, \"type\": \"pie\"}], \"scatter\": [{\"marker\": {\"colorbar\": {\"outlinewidth\": 0, \"ticks\": \"\"}}, \"type\": \"scatter\"}], \"scatter3d\": [{\"line\": {\"colorbar\": {\"outlinewidth\": 0, \"ticks\": \"\"}}, \"marker\": {\"colorbar\": {\"outlinewidth\": 0, \"ticks\": \"\"}}, \"type\": \"scatter3d\"}], \"scattercarpet\": [{\"marker\": {\"colorbar\": {\"outlinewidth\": 0, \"ticks\": \"\"}}, \"type\": \"scattercarpet\"}], \"scattergeo\": [{\"marker\": {\"colorbar\": {\"outlinewidth\": 0, \"ticks\": \"\"}}, \"type\": \"scattergeo\"}], \"scattergl\": [{\"marker\": {\"colorbar\": {\"outlinewidth\": 0, \"ticks\": \"\"}}, \"type\": \"scattergl\"}], \"scattermapbox\": [{\"marker\": {\"colorbar\": {\"outlinewidth\": 0, \"ticks\": \"\"}}, \"type\": \"scattermapbox\"}], \"scatterpolar\": [{\"marker\": {\"colorbar\": {\"outlinewidth\": 0, \"ticks\": \"\"}}, \"type\": \"scatterpolar\"}], \"scatterpolargl\": [{\"marker\": {\"colorbar\": {\"outlinewidth\": 0, \"ticks\": \"\"}}, \"type\": \"scatterpolargl\"}], \"scatterternary\": [{\"marker\": {\"colorbar\": {\"outlinewidth\": 0, \"ticks\": \"\"}}, \"type\": \"scatterternary\"}], \"surface\": [{\"colorbar\": {\"outlinewidth\": 0, \"ticks\": \"\"}, \"colorscale\": [[0.0, \"#0d0887\"], [0.1111111111111111, \"#46039f\"], [0.2222222222222222, \"#7201a8\"], [0.3333333333333333, \"#9c179e\"], [0.4444444444444444, \"#bd3786\"], [0.5555555555555556, \"#d8576b\"], [0.6666666666666666, \"#ed7953\"], [0.7777777777777778, \"#fb9f3a\"], [0.8888888888888888, \"#fdca26\"], [1.0, \"#f0f921\"]], \"type\": \"surface\"}], \"table\": [{\"cells\": {\"fill\": {\"color\": \"#EBF0F8\"}, \"line\": {\"color\": \"white\"}}, \"header\": {\"fill\": {\"color\": \"#C8D4E3\"}, \"line\": {\"color\": \"white\"}}, \"type\": \"table\"}]}, \"layout\": {\"annotationdefaults\": {\"arrowcolor\": \"#2a3f5f\", \"arrowhead\": 0, \"arrowwidth\": 1}, \"coloraxis\": {\"colorbar\": {\"outlinewidth\": 0, \"ticks\": \"\"}}, \"colorscale\": {\"diverging\": [[0, \"#8e0152\"], [0.1, \"#c51b7d\"], [0.2, \"#de77ae\"], [0.3, \"#f1b6da\"], [0.4, \"#fde0ef\"], [0.5, \"#f7f7f7\"], [0.6, \"#e6f5d0\"], [0.7, \"#b8e186\"], [0.8, \"#7fbc41\"], [0.9, \"#4d9221\"], [1, \"#276419\"]], \"sequential\": [[0.0, \"#0d0887\"], [0.1111111111111111, \"#46039f\"], [0.2222222222222222, \"#7201a8\"], [0.3333333333333333, \"#9c179e\"], [0.4444444444444444, \"#bd3786\"], [0.5555555555555556, \"#d8576b\"], [0.6666666666666666, \"#ed7953\"], [0.7777777777777778, \"#fb9f3a\"], [0.8888888888888888, \"#fdca26\"], [1.0, \"#f0f921\"]], \"sequentialminus\": [[0.0, \"#0d0887\"], [0.1111111111111111, \"#46039f\"], [0.2222222222222222, \"#7201a8\"], [0.3333333333333333, \"#9c179e\"], [0.4444444444444444, \"#bd3786\"], [0.5555555555555556, \"#d8576b\"], [0.6666666666666666, \"#ed7953\"], [0.7777777777777778, \"#fb9f3a\"], [0.8888888888888888, \"#fdca26\"], [1.0, \"#f0f921\"]]}, \"colorway\": [\"#636efa\", \"#EF553B\", \"#00cc96\", \"#ab63fa\", \"#FFA15A\", \"#19d3f3\", \"#FF6692\", \"#B6E880\", \"#FF97FF\", \"#FECB52\"], \"font\": {\"color\": \"#2a3f5f\"}, \"geo\": {\"bgcolor\": \"white\", \"lakecolor\": \"white\", \"landcolor\": \"#E5ECF6\", \"showlakes\": true, \"showland\": true, \"subunitcolor\": \"white\"}, \"hoverlabel\": {\"align\": \"left\"}, \"hovermode\": \"closest\", \"mapbox\": {\"style\": \"light\"}, \"paper_bgcolor\": \"white\", \"plot_bgcolor\": \"#E5ECF6\", \"polar\": {\"angularaxis\": {\"gridcolor\": \"white\", \"linecolor\": \"white\", \"ticks\": \"\"}, \"bgcolor\": \"#E5ECF6\", \"radialaxis\": {\"gridcolor\": \"white\", \"linecolor\": \"white\", \"ticks\": \"\"}}, \"scene\": {\"xaxis\": {\"backgroundcolor\": \"#E5ECF6\", \"gridcolor\": \"white\", \"gridwidth\": 2, \"linecolor\": \"white\", \"showbackground\": true, \"ticks\": \"\", \"zerolinecolor\": \"white\"}, \"yaxis\": {\"backgroundcolor\": \"#E5ECF6\", \"gridcolor\": \"white\", \"gridwidth\": 2, \"linecolor\": \"white\", \"showbackground\": true, \"ticks\": \"\", \"zerolinecolor\": \"white\"}, \"zaxis\": {\"backgroundcolor\": \"#E5ECF6\", \"gridcolor\": \"white\", \"gridwidth\": 2, \"linecolor\": \"white\", \"showbackground\": true, \"ticks\": \"\", \"zerolinecolor\": \"white\"}}, \"shapedefaults\": {\"line\": {\"color\": \"#2a3f5f\"}}, \"ternary\": {\"aaxis\": {\"gridcolor\": \"white\", \"linecolor\": \"white\", \"ticks\": \"\"}, \"baxis\": {\"gridcolor\": \"white\", \"linecolor\": \"white\", \"ticks\": \"\"}, \"bgcolor\": \"#E5ECF6\", \"caxis\": {\"gridcolor\": \"white\", \"linecolor\": \"white\", \"ticks\": \"\"}}, \"title\": {\"x\": 0.05}, \"xaxis\": {\"automargin\": true, \"gridcolor\": \"white\", \"linecolor\": \"white\", \"ticks\": \"\", \"title\": {\"standoff\": 15}, \"zerolinecolor\": \"white\", \"zerolinewidth\": 2}, \"yaxis\": {\"automargin\": true, \"gridcolor\": \"white\", \"linecolor\": \"white\", \"ticks\": \"\", \"title\": {\"standoff\": 15}, \"zerolinecolor\": \"white\", \"zerolinewidth\": 2}}}, \"xaxis\": {\"anchor\": \"y\", \"domain\": [0.0, 1.0], \"type\": \"date\"}, \"yaxis\": {\"anchor\": \"x\", \"autorange\": \"reversed\", \"domain\": [0.0, 1.0], \"title\": {\"text\": \"Node\"}}},                        {\"responsive\": true}                    ).then(function(){\n",
       "                            \n",
       "var gd = document.getElementById('a991e270-63b1-4ce3-bdbb-c59af5cd8a3f');\n",
       "var x = new MutationObserver(function (mutations, observer) {{\n",
       "        var display = window.getComputedStyle(gd).display;\n",
       "        if (!display || display === 'none') {{\n",
       "            console.log([gd, 'removed!']);\n",
       "            Plotly.purge(gd);\n",
       "            observer.disconnect();\n",
       "        }}\n",
       "}});\n",
       "\n",
       "// Listen for the removal of the full notebook cells\n",
       "var notebookContainer = gd.closest('#notebook-container');\n",
       "if (notebookContainer) {{\n",
       "    x.observe(notebookContainer, {childList: true});\n",
       "}}\n",
       "\n",
       "// Listen for the clearing of the current output cell\n",
       "var outputEl = gd.closest('.output');\n",
       "if (outputEl) {{\n",
       "    x.observe(outputEl, {childList: true});\n",
       "}}\n",
       "\n",
       "                        })                };                });            </script>        </div>"
      ]
     },
     "metadata": {},
     "output_type": "display_data"
    }
   ],
   "source": [
    "# We can create a Gantt chart showing when different stations were active. \n",
    "gantt = df.copy()\n",
    "\n",
    "# Filter by day:\n",
    "sTime_tmp = datetime.datetime(2022,4,1, tzinfo = pytz.UTC)\n",
    "tf = gantt['Datetime'] >= sTime_tmp # true/false vector\n",
    "gantt = gantt[tf].copy()\n",
    "\n",
    "gantt.set_index('Node')\n",
    "gantt = gantt.drop(columns=['G', 'Grid Square', 'Filename'])\n",
    "gantt['EndTime'] = gantt['Datetime']+ datetime.timedelta(days=1) # create an end\n",
    "# For now, let's look at one frequency at a time.\n",
    "# rows = gantt['Frequency']=='WWV5' # can change this to look at a different freq of interest.\n",
    "# gantt = gantt.loc[gantt['Frequency'] == 'WWV2p5']\n",
    "\n",
    "fig = px.timeline(gantt, x_start=\"Datetime\", x_end=\"EndTime\", y=\"Node\")\n",
    "fig.update_yaxes(autorange=\"reversed\") # otherwise tasks are listed from the bottom up\n",
    "fig.show()"
   ]
  },
  {
   "cell_type": "code",
   "execution_count": 26,
   "metadata": {},
   "outputs": [
    {
     "data": {
      "text/plain": [
       "0        False\n",
       "2        False\n",
       "4        False\n",
       "6        False\n",
       "8        False\n",
       "         ...  \n",
       "12362     True\n",
       "12363     True\n",
       "12365     True\n",
       "12367     True\n",
       "12369     True\n",
       "Name: Datetime, Length: 6594, dtype: bool"
      ]
     },
     "execution_count": 26,
     "metadata": {},
     "output_type": "execute_result"
    }
   ],
   "source": [
    "tf"
   ]
  },
  {
   "cell_type": "code",
   "execution_count": 27,
   "metadata": {},
   "outputs": [
    {
     "data": {
      "text/html": [
       "<div>\n",
       "<style scoped>\n",
       "    .dataframe tbody tr th:only-of-type {\n",
       "        vertical-align: middle;\n",
       "    }\n",
       "\n",
       "    .dataframe tbody tr th {\n",
       "        vertical-align: top;\n",
       "    }\n",
       "\n",
       "    .dataframe thead th {\n",
       "        text-align: right;\n",
       "    }\n",
       "</style>\n",
       "<table border=\"1\" class=\"dataframe\">\n",
       "  <thead>\n",
       "    <tr style=\"text-align: right;\">\n",
       "      <th></th>\n",
       "      <th>Datetime</th>\n",
       "      <th>Node</th>\n",
       "      <th>Frequency</th>\n",
       "      <th>EndTime</th>\n",
       "    </tr>\n",
       "  </thead>\n",
       "  <tbody>\n",
       "    <tr>\n",
       "      <th>12196</th>\n",
       "      <td>2022-04-01 00:00:00+00:00</td>\n",
       "      <td>N0000001</td>\n",
       "      <td>WWV5</td>\n",
       "      <td>2022-04-02 00:00:00+00:00</td>\n",
       "    </tr>\n",
       "    <tr>\n",
       "      <th>12198</th>\n",
       "      <td>2022-04-01 00:00:00+00:00</td>\n",
       "      <td>N0000002</td>\n",
       "      <td>WWV2p5</td>\n",
       "      <td>2022-04-02 00:00:00+00:00</td>\n",
       "    </tr>\n",
       "    <tr>\n",
       "      <th>12200</th>\n",
       "      <td>2022-04-01 00:00:00+00:00</td>\n",
       "      <td>N0000003</td>\n",
       "      <td>WWV2p5</td>\n",
       "      <td>2022-04-02 00:00:00+00:00</td>\n",
       "    </tr>\n",
       "    <tr>\n",
       "      <th>12202</th>\n",
       "      <td>2022-04-01 00:00:00+00:00</td>\n",
       "      <td>N0000007</td>\n",
       "      <td>WWV10</td>\n",
       "      <td>2022-04-02 00:00:00+00:00</td>\n",
       "    </tr>\n",
       "    <tr>\n",
       "      <th>12204</th>\n",
       "      <td>2022-04-01 00:00:00+00:00</td>\n",
       "      <td>N0000014</td>\n",
       "      <td>WWV10</td>\n",
       "      <td>2022-04-02 00:00:00+00:00</td>\n",
       "    </tr>\n",
       "    <tr>\n",
       "      <th>...</th>\n",
       "      <td>...</td>\n",
       "      <td>...</td>\n",
       "      <td>...</td>\n",
       "      <td>...</td>\n",
       "    </tr>\n",
       "    <tr>\n",
       "      <th>12362</th>\n",
       "      <td>2022-04-06 00:00:00+00:00</td>\n",
       "      <td>N0000035</td>\n",
       "      <td>CHU14</td>\n",
       "      <td>2022-04-07 00:00:00+00:00</td>\n",
       "    </tr>\n",
       "    <tr>\n",
       "      <th>12363</th>\n",
       "      <td>2022-04-06 00:00:00+00:00</td>\n",
       "      <td>N0000038</td>\n",
       "      <td>WWV10</td>\n",
       "      <td>2022-04-07 00:00:00+00:00</td>\n",
       "    </tr>\n",
       "    <tr>\n",
       "      <th>12365</th>\n",
       "      <td>2022-04-06 00:00:00+00:00</td>\n",
       "      <td>N0000039</td>\n",
       "      <td>WWV10</td>\n",
       "      <td>2022-04-07 00:00:00+00:00</td>\n",
       "    </tr>\n",
       "    <tr>\n",
       "      <th>12367</th>\n",
       "      <td>2022-04-06 00:00:00+00:00</td>\n",
       "      <td>N0000040</td>\n",
       "      <td>WWV5</td>\n",
       "      <td>2022-04-07 00:00:00+00:00</td>\n",
       "    </tr>\n",
       "    <tr>\n",
       "      <th>12369</th>\n",
       "      <td>2022-04-06 10:54:16+00:00</td>\n",
       "      <td>N0000030</td>\n",
       "      <td>WWV10</td>\n",
       "      <td>2022-04-07 10:54:16+00:00</td>\n",
       "    </tr>\n",
       "  </tbody>\n",
       "</table>\n",
       "<p>88 rows × 4 columns</p>\n",
       "</div>"
      ],
      "text/plain": [
       "                       Datetime      Node Frequency                   EndTime\n",
       "12196 2022-04-01 00:00:00+00:00  N0000001      WWV5 2022-04-02 00:00:00+00:00\n",
       "12198 2022-04-01 00:00:00+00:00  N0000002    WWV2p5 2022-04-02 00:00:00+00:00\n",
       "12200 2022-04-01 00:00:00+00:00  N0000003    WWV2p5 2022-04-02 00:00:00+00:00\n",
       "12202 2022-04-01 00:00:00+00:00  N0000007     WWV10 2022-04-02 00:00:00+00:00\n",
       "12204 2022-04-01 00:00:00+00:00  N0000014     WWV10 2022-04-02 00:00:00+00:00\n",
       "...                         ...       ...       ...                       ...\n",
       "12362 2022-04-06 00:00:00+00:00  N0000035     CHU14 2022-04-07 00:00:00+00:00\n",
       "12363 2022-04-06 00:00:00+00:00  N0000038     WWV10 2022-04-07 00:00:00+00:00\n",
       "12365 2022-04-06 00:00:00+00:00  N0000039     WWV10 2022-04-07 00:00:00+00:00\n",
       "12367 2022-04-06 00:00:00+00:00  N0000040      WWV5 2022-04-07 00:00:00+00:00\n",
       "12369 2022-04-06 10:54:16+00:00  N0000030     WWV10 2022-04-07 10:54:16+00:00\n",
       "\n",
       "[88 rows x 4 columns]"
      ]
     },
     "metadata": {},
     "output_type": "display_data"
    }
   ],
   "source": [
    "display(gantt)"
   ]
  },
  {
   "cell_type": "markdown",
   "metadata": {},
   "source": [
    "## Example of a concurrent daily plot\n",
    "Let's use the multiplot function developed by Bob Benedict KD8CGH (https://github.com/rkayakr/ProcessPlot) to plot Grape data from multiple stations on the same date. October 28, 2021 is a good example date, because there were solar flares widely observed by Grape 1 stations."
   ]
  },
  {
   "cell_type": "code",
   "execution_count": 28,
   "metadata": {},
   "outputs": [
    {
     "data": {
      "text/plain": [
       "'2021-10-28T000000Z_N0000001_G1_EN91fh_FRQ_WWV5 (2).csv'"
      ]
     },
     "execution_count": 28,
     "metadata": {},
     "output_type": "execute_result"
    }
   ],
   "source": [
    "import wget\n",
    "url =\"https://wwvarc.org/wwvarc.net/ftp/grape/2021-10-28T000000Z_N0000001_G1_EN91fh_FRQ_WWV5.csv\"\n",
    "filename = wget.download(url)\n",
    "filename"
   ]
  },
  {
   "cell_type": "code",
   "execution_count": 29,
   "metadata": {},
   "outputs": [],
   "source": [
    "# Load file into dataframe, ignore comment lines, and parse dates\n",
    "# fname = '2021-04-07T000000Z_N0000007_G1_EN91fh_FRQ_WWV10.csv.bz2'\n",
    "fname = \"2021-10-28T000000Z_N0000001_G1_EN91fh_FRQ_WWV5.csv\"\n",
    "cfreq = 10e6\n",
    "df    = pd.read_csv(fname, comment = '#', parse_dates=[0])\n",
    "\n",
    "# Remove the 10 MHz offset from the frequency column.\n",
    "df['Freq'] = df['Freq']-cfreq"
   ]
  },
  {
   "cell_type": "code",
   "execution_count": 30,
   "metadata": {},
   "outputs": [],
   "source": [
    "df    = pd.read_csv('sami3.txt', comment = '#', parse_dates=[0])"
   ]
  },
  {
   "cell_type": "code",
   "execution_count": 31,
   "metadata": {},
   "outputs": [
    {
     "data": {
      "text/html": [
       "<div>\n",
       "<style scoped>\n",
       "    .dataframe tbody tr th:only-of-type {\n",
       "        vertical-align: middle;\n",
       "    }\n",
       "\n",
       "    .dataframe tbody tr th {\n",
       "        vertical-align: top;\n",
       "    }\n",
       "\n",
       "    .dataframe thead th {\n",
       "        text-align: right;\n",
       "    }\n",
       "</style>\n",
       "<table border=\"1\" class=\"dataframe\">\n",
       "  <thead>\n",
       "    <tr style=\"text-align: right;\">\n",
       "      <th></th>\n",
       "      <th>Time\\tlat\\tlon\\tground_range\\tgroup_range\\tphase_path\\tgeometric_path_length\\tinitial_elev\\tfinal_elev\\tapogee\\tgnd_rng_to_apogee\\tplasma_freq_at_apogee\\tvirtual_height\\teffective_range\\ttotal_absorption\\tdeviative_absorption\\tTEC_path\\tDoppler_shift\\tDoppler_spread\\tFAI_backscatter_loss\\tfrequency\\tnhops_attempted\\tray_label\\tNRT_elapsed_time\\tLayer\\tEclipse</th>\n",
       "    </tr>\n",
       "  </thead>\n",
       "  <tbody>\n",
       "    <tr>\n",
       "      <th>0</th>\n",
       "      <td>8/20/2017 16:03\\t43.23263815\\t272.058844\\t1443...</td>\n",
       "    </tr>\n",
       "    <tr>\n",
       "      <th>1</th>\n",
       "      <td>8/20/2017 16:03\\t43.22478921\\t271.9482752\\t143...</td>\n",
       "    </tr>\n",
       "    <tr>\n",
       "      <th>2</th>\n",
       "      <td>8/20/2017 16:03\\t43.22519494\\t271.9539535\\t143...</td>\n",
       "    </tr>\n",
       "    <tr>\n",
       "      <th>3</th>\n",
       "      <td>8/20/2017 16:03\\t43.21842062\\t271.8596638\\t142...</td>\n",
       "    </tr>\n",
       "    <tr>\n",
       "      <th>4</th>\n",
       "      <td>8/20/2017 16:03\\t43.21780596\\t271.8511625\\t142...</td>\n",
       "    </tr>\n",
       "    <tr>\n",
       "      <th>...</th>\n",
       "      <td>...</td>\n",
       "    </tr>\n",
       "    <tr>\n",
       "      <th>1675</th>\n",
       "      <td>8/20/2017 23:57\\t43.23797362\\t272.1348923\\t144...</td>\n",
       "    </tr>\n",
       "    <tr>\n",
       "      <th>1676</th>\n",
       "      <td>8/20/2017 23:57\\t43.23552487\\t272.0998986\\t144...</td>\n",
       "    </tr>\n",
       "    <tr>\n",
       "      <th>1677</th>\n",
       "      <td>8/20/2017 23:57\\t43.23334163\\t272.0688292\\t144...</td>\n",
       "    </tr>\n",
       "    <tr>\n",
       "      <th>1678</th>\n",
       "      <td>8/20/2017 23:57\\t43.23095681\\t272.0350296\\t144...</td>\n",
       "    </tr>\n",
       "    <tr>\n",
       "      <th>1679</th>\n",
       "      <td>8/20/2017 23:57\\t43.22865815\\t272.0025863\\t143...</td>\n",
       "    </tr>\n",
       "  </tbody>\n",
       "</table>\n",
       "<p>1680 rows × 1 columns</p>\n",
       "</div>"
      ],
      "text/plain": [
       "     Time\\tlat\\tlon\\tground_range\\tgroup_range\\tphase_path\\tgeometric_path_length\\tinitial_elev\\tfinal_elev\\tapogee\\tgnd_rng_to_apogee\\tplasma_freq_at_apogee\\tvirtual_height\\teffective_range\\ttotal_absorption\\tdeviative_absorption\\tTEC_path\\tDoppler_shift\\tDoppler_spread\\tFAI_backscatter_loss\\tfrequency\\tnhops_attempted\\tray_label\\tNRT_elapsed_time\\tLayer\\tEclipse\n",
       "0     8/20/2017 16:03\\t43.23263815\\t272.058844\\t1443...                                                                                                                                                                                                                                                                                                                       \n",
       "1     8/20/2017 16:03\\t43.22478921\\t271.9482752\\t143...                                                                                                                                                                                                                                                                                                                       \n",
       "2     8/20/2017 16:03\\t43.22519494\\t271.9539535\\t143...                                                                                                                                                                                                                                                                                                                       \n",
       "3     8/20/2017 16:03\\t43.21842062\\t271.8596638\\t142...                                                                                                                                                                                                                                                                                                                       \n",
       "4     8/20/2017 16:03\\t43.21780596\\t271.8511625\\t142...                                                                                                                                                                                                                                                                                                                       \n",
       "...                                                 ...                                                                                                                                                                                                                                                                                                                       \n",
       "1675  8/20/2017 23:57\\t43.23797362\\t272.1348923\\t144...                                                                                                                                                                                                                                                                                                                       \n",
       "1676  8/20/2017 23:57\\t43.23552487\\t272.0998986\\t144...                                                                                                                                                                                                                                                                                                                       \n",
       "1677  8/20/2017 23:57\\t43.23334163\\t272.0688292\\t144...                                                                                                                                                                                                                                                                                                                       \n",
       "1678  8/20/2017 23:57\\t43.23095681\\t272.0350296\\t144...                                                                                                                                                                                                                                                                                                                       \n",
       "1679  8/20/2017 23:57\\t43.22865815\\t272.0025863\\t143...                                                                                                                                                                                                                                                                                                                       \n",
       "\n",
       "[1680 rows x 1 columns]"
      ]
     },
     "execution_count": 31,
     "metadata": {},
     "output_type": "execute_result"
    }
   ],
   "source": [
    "df\n"
   ]
  },
  {
   "cell_type": "markdown",
   "metadata": {},
   "source": [
    "## Keogram of long-term data\n",
    "Let's generate a keogram of data from AD8Y and N8OBJ, two stations relatively close to one another."
   ]
  },
  {
   "cell_type": "markdown",
   "metadata": {},
   "source": [
    "# Create Event List\n",
    "## Pull Space WX Data from Other Sources\n",
    "Let's also pull data from the NOAA database. We'll use this to generate our event list, selecting dates when, for instance, we saw solar flares that might induce Doppler flash and so on. We can also pull data showing seasonal or solar variation, like a history of the Kp index, which we can integrate into the visualizations we generated above. "
   ]
  },
  {
   "cell_type": "markdown",
   "metadata": {},
   "source": [
    "## List Events of Interest\n",
    "We have certain events that we noticed produced interesting plots. Let's compile a list of them here, with annotations of why they're interesting. Then we'll use multiplot to make figures for them."
   ]
  }
 ],
 "metadata": {
  "celltoolbar": "Edit Metadata",
  "kernelspec": {
   "display_name": "Python 3",
   "language": "python",
   "name": "python3"
  },
  "language_info": {
   "codemirror_mode": {
    "name": "ipython",
    "version": 3
   },
   "file_extension": ".py",
   "mimetype": "text/x-python",
   "name": "python",
   "nbconvert_exporter": "python",
   "pygments_lexer": "ipython3",
   "version": "3.6.9"
  }
 },
 "nbformat": 4,
 "nbformat_minor": 4
}
